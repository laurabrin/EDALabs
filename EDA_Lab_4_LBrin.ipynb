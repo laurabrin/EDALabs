{
  "cells": [
    {
      "cell_type": "markdown",
      "metadata": {
        "id": "view-in-github",
        "colab_type": "text"
      },
      "source": [
        "<a href=\"https://colab.research.google.com/github/laurabrin/EDALabs/blob/main/EDA_Lab_4_LBrin.ipynb\" target=\"_parent\"><img src=\"https://colab.research.google.com/assets/colab-badge.svg\" alt=\"Open In Colab\"/></a>"
      ]
    },
    {
      "cell_type": "markdown",
      "id": "445d8b46-9a5a-488f-8a6c-d0f2f95d9d45",
      "metadata": {
        "id": "445d8b46-9a5a-488f-8a6c-d0f2f95d9d45"
      },
      "source": [
        "# Lab 4: Data Encoding, Outliers & Imbalanced Data"
      ]
    },
    {
      "cell_type": "code",
      "execution_count": 7,
      "id": "9c6857ec-f068-4fb4-b2d1-7edbb432c0f7",
      "metadata": {
        "id": "9c6857ec-f068-4fb4-b2d1-7edbb432c0f7"
      },
      "outputs": [],
      "source": [
        "import pandas as pd\n",
        "import numpy as np\n",
        "from matplotlib import pyplot as plt\n",
        "\n",
        "# Seaborn is a great visualization library. You may need to install it using 'pip install seaborn'\n",
        "import seaborn as sns"
      ]
    },
    {
      "cell_type": "markdown",
      "id": "a99a2e69-fe0b-48d3-8cf0-aee39ee34708",
      "metadata": {
        "id": "a99a2e69-fe0b-48d3-8cf0-aee39ee34708"
      },
      "source": [
        "## Lab Activity One: Feature encoding"
      ]
    },
    {
      "cell_type": "markdown",
      "id": "b07a5e1a-ddca-4b0b-865f-20140c776766",
      "metadata": {
        "id": "b07a5e1a-ddca-4b0b-865f-20140c776766"
      },
      "source": [
        "In this activity, you will be converting categorical text data into categorical numeric. This is done using the method called one-hot encoding. New columns are created for each category and its given binary values ($0$ or $1$) for if that entity belongs to that category or not. "
      ]
    },
    {
      "cell_type": "code",
      "execution_count": 8,
      "id": "90fcb492-6437-4261-96f5-3dbdac508b65",
      "metadata": {
        "colab": {
          "base_uri": "https://localhost:8080/",
          "height": 206
        },
        "id": "90fcb492-6437-4261-96f5-3dbdac508b65",
        "outputId": "edd253b4-db4c-43e3-edbb-9172ee47cc3e"
      },
      "outputs": [
        {
          "output_type": "execute_result",
          "data": {
            "text/plain": [
              "   Gender   Age        M1 Mode           Q        DD Diagnosis        R1  \\\n",
              "0  female  56.0  5.316955    c  102.653987 -0.177034  negative  0.079601   \n",
              "1  female   6.0  4.302905    e  111.518198  5.969760  negative  0.079601   \n",
              "2    male   9.0  5.507547    f  135.896026  0.413635  positive  0.079601   \n",
              "3    male  14.0  6.448012    f  128.588020 -1.342695  positive  0.079601   \n",
              "4  female  77.0  5.525742    f   95.353828  1.536639  positive  0.453140   \n",
              "\n",
              "         R3  \n",
              "0  0.542921  \n",
              "1  0.542921  \n",
              "2  0.542921  \n",
              "3  0.542921  \n",
              "4  9.218762  "
            ],
            "text/html": [
              "\n",
              "  <div id=\"df-f4761bac-69f8-4fba-a8df-ceaca17c92c5\">\n",
              "    <div class=\"colab-df-container\">\n",
              "      <div>\n",
              "<style scoped>\n",
              "    .dataframe tbody tr th:only-of-type {\n",
              "        vertical-align: middle;\n",
              "    }\n",
              "\n",
              "    .dataframe tbody tr th {\n",
              "        vertical-align: top;\n",
              "    }\n",
              "\n",
              "    .dataframe thead th {\n",
              "        text-align: right;\n",
              "    }\n",
              "</style>\n",
              "<table border=\"1\" class=\"dataframe\">\n",
              "  <thead>\n",
              "    <tr style=\"text-align: right;\">\n",
              "      <th></th>\n",
              "      <th>Gender</th>\n",
              "      <th>Age</th>\n",
              "      <th>M1</th>\n",
              "      <th>Mode</th>\n",
              "      <th>Q</th>\n",
              "      <th>DD</th>\n",
              "      <th>Diagnosis</th>\n",
              "      <th>R1</th>\n",
              "      <th>R3</th>\n",
              "    </tr>\n",
              "  </thead>\n",
              "  <tbody>\n",
              "    <tr>\n",
              "      <th>0</th>\n",
              "      <td>female</td>\n",
              "      <td>56.0</td>\n",
              "      <td>5.316955</td>\n",
              "      <td>c</td>\n",
              "      <td>102.653987</td>\n",
              "      <td>-0.177034</td>\n",
              "      <td>negative</td>\n",
              "      <td>0.079601</td>\n",
              "      <td>0.542921</td>\n",
              "    </tr>\n",
              "    <tr>\n",
              "      <th>1</th>\n",
              "      <td>female</td>\n",
              "      <td>6.0</td>\n",
              "      <td>4.302905</td>\n",
              "      <td>e</td>\n",
              "      <td>111.518198</td>\n",
              "      <td>5.969760</td>\n",
              "      <td>negative</td>\n",
              "      <td>0.079601</td>\n",
              "      <td>0.542921</td>\n",
              "    </tr>\n",
              "    <tr>\n",
              "      <th>2</th>\n",
              "      <td>male</td>\n",
              "      <td>9.0</td>\n",
              "      <td>5.507547</td>\n",
              "      <td>f</td>\n",
              "      <td>135.896026</td>\n",
              "      <td>0.413635</td>\n",
              "      <td>positive</td>\n",
              "      <td>0.079601</td>\n",
              "      <td>0.542921</td>\n",
              "    </tr>\n",
              "    <tr>\n",
              "      <th>3</th>\n",
              "      <td>male</td>\n",
              "      <td>14.0</td>\n",
              "      <td>6.448012</td>\n",
              "      <td>f</td>\n",
              "      <td>128.588020</td>\n",
              "      <td>-1.342695</td>\n",
              "      <td>positive</td>\n",
              "      <td>0.079601</td>\n",
              "      <td>0.542921</td>\n",
              "    </tr>\n",
              "    <tr>\n",
              "      <th>4</th>\n",
              "      <td>female</td>\n",
              "      <td>77.0</td>\n",
              "      <td>5.525742</td>\n",
              "      <td>f</td>\n",
              "      <td>95.353828</td>\n",
              "      <td>1.536639</td>\n",
              "      <td>positive</td>\n",
              "      <td>0.453140</td>\n",
              "      <td>9.218762</td>\n",
              "    </tr>\n",
              "  </tbody>\n",
              "</table>\n",
              "</div>\n",
              "      <button class=\"colab-df-convert\" onclick=\"convertToInteractive('df-f4761bac-69f8-4fba-a8df-ceaca17c92c5')\"\n",
              "              title=\"Convert this dataframe to an interactive table.\"\n",
              "              style=\"display:none;\">\n",
              "        \n",
              "  <svg xmlns=\"http://www.w3.org/2000/svg\" height=\"24px\"viewBox=\"0 0 24 24\"\n",
              "       width=\"24px\">\n",
              "    <path d=\"M0 0h24v24H0V0z\" fill=\"none\"/>\n",
              "    <path d=\"M18.56 5.44l.94 2.06.94-2.06 2.06-.94-2.06-.94-.94-2.06-.94 2.06-2.06.94zm-11 1L8.5 8.5l.94-2.06 2.06-.94-2.06-.94L8.5 2.5l-.94 2.06-2.06.94zm10 10l.94 2.06.94-2.06 2.06-.94-2.06-.94-.94-2.06-.94 2.06-2.06.94z\"/><path d=\"M17.41 7.96l-1.37-1.37c-.4-.4-.92-.59-1.43-.59-.52 0-1.04.2-1.43.59L10.3 9.45l-7.72 7.72c-.78.78-.78 2.05 0 2.83L4 21.41c.39.39.9.59 1.41.59.51 0 1.02-.2 1.41-.59l7.78-7.78 2.81-2.81c.8-.78.8-2.07 0-2.86zM5.41 20L4 18.59l7.72-7.72 1.47 1.35L5.41 20z\"/>\n",
              "  </svg>\n",
              "      </button>\n",
              "      \n",
              "  <style>\n",
              "    .colab-df-container {\n",
              "      display:flex;\n",
              "      flex-wrap:wrap;\n",
              "      gap: 12px;\n",
              "    }\n",
              "\n",
              "    .colab-df-convert {\n",
              "      background-color: #E8F0FE;\n",
              "      border: none;\n",
              "      border-radius: 50%;\n",
              "      cursor: pointer;\n",
              "      display: none;\n",
              "      fill: #1967D2;\n",
              "      height: 32px;\n",
              "      padding: 0 0 0 0;\n",
              "      width: 32px;\n",
              "    }\n",
              "\n",
              "    .colab-df-convert:hover {\n",
              "      background-color: #E2EBFA;\n",
              "      box-shadow: 0px 1px 2px rgba(60, 64, 67, 0.3), 0px 1px 3px 1px rgba(60, 64, 67, 0.15);\n",
              "      fill: #174EA6;\n",
              "    }\n",
              "\n",
              "    [theme=dark] .colab-df-convert {\n",
              "      background-color: #3B4455;\n",
              "      fill: #D2E3FC;\n",
              "    }\n",
              "\n",
              "    [theme=dark] .colab-df-convert:hover {\n",
              "      background-color: #434B5C;\n",
              "      box-shadow: 0px 1px 3px 1px rgba(0, 0, 0, 0.15);\n",
              "      filter: drop-shadow(0px 1px 2px rgba(0, 0, 0, 0.3));\n",
              "      fill: #FFFFFF;\n",
              "    }\n",
              "  </style>\n",
              "\n",
              "      <script>\n",
              "        const buttonEl =\n",
              "          document.querySelector('#df-f4761bac-69f8-4fba-a8df-ceaca17c92c5 button.colab-df-convert');\n",
              "        buttonEl.style.display =\n",
              "          google.colab.kernel.accessAllowed ? 'block' : 'none';\n",
              "\n",
              "        async function convertToInteractive(key) {\n",
              "          const element = document.querySelector('#df-f4761bac-69f8-4fba-a8df-ceaca17c92c5');\n",
              "          const dataTable =\n",
              "            await google.colab.kernel.invokeFunction('convertToInteractive',\n",
              "                                                     [key], {});\n",
              "          if (!dataTable) return;\n",
              "\n",
              "          const docLinkHtml = 'Like what you see? Visit the ' +\n",
              "            '<a target=\"_blank\" href=https://colab.research.google.com/notebooks/data_table.ipynb>data table notebook</a>'\n",
              "            + ' to learn more about interactive tables.';\n",
              "          element.innerHTML = '';\n",
              "          dataTable['output_type'] = 'display_data';\n",
              "          await google.colab.output.renderOutput(dataTable, element);\n",
              "          const docLink = document.createElement('div');\n",
              "          docLink.innerHTML = docLinkHtml;\n",
              "          element.appendChild(docLink);\n",
              "        }\n",
              "      </script>\n",
              "    </div>\n",
              "  </div>\n",
              "  "
            ]
          },
          "metadata": {},
          "execution_count": 8
        }
      ],
      "source": [
        "df = pd.read_csv(\"df_1_lab_4.csv\")\n",
        "df = df.drop(columns=['Unnamed: 0'])\n",
        "df.head(5)"
      ]
    },
    {
      "cell_type": "code",
      "execution_count": 9,
      "id": "d0e1a438-db69-46a0-98d8-87e4c51f30b3",
      "metadata": {
        "id": "d0e1a438-db69-46a0-98d8-87e4c51f30b3",
        "outputId": "f35046cd-b8a6-402c-fa19-b411bb692126",
        "colab": {
          "base_uri": "https://localhost:8080/"
        }
      },
      "outputs": [
        {
          "output_type": "execute_result",
          "data": {
            "text/plain": [
              "Gender        object\n",
              "Age          float64\n",
              "M1           float64\n",
              "Mode          object\n",
              "Q            float64\n",
              "DD           float64\n",
              "Diagnosis     object\n",
              "R1           float64\n",
              "R3           float64\n",
              "dtype: object"
            ]
          },
          "metadata": {},
          "execution_count": 9
        }
      ],
      "source": [
        "df.dtypes"
      ]
    },
    {
      "cell_type": "markdown",
      "id": "09c7d01a-19fc-4c6b-a9d8-fef704f8e94e",
      "metadata": {
        "id": "09c7d01a-19fc-4c6b-a9d8-fef704f8e94e"
      },
      "source": [
        "### Converting text categorical to numeric categories"
      ]
    },
    {
      "cell_type": "markdown",
      "id": "f21beae5-06c1-46ae-9d0d-8961cd61f7da",
      "metadata": {
        "id": "f21beae5-06c1-46ae-9d0d-8961cd61f7da"
      },
      "source": [
        "The `.get_dumies()` function from pandas is extremely helpful for this. It will encode the specified categorical feature into binary classifications and produce new features accordingly."
      ]
    },
    {
      "cell_type": "markdown",
      "id": "692332ca-250f-4d5f-b943-64fa8aae497c",
      "metadata": {
        "id": "692332ca-250f-4d5f-b943-64fa8aae497c"
      },
      "source": [
        "##### [A] Use the `.get_dummies()` function on the `'Mode'` column to apply one-hot encoding method."
      ]
    },
    {
      "cell_type": "code",
      "execution_count": 10,
      "id": "277333d0-a4ba-4c04-8125-f37e199406c7",
      "metadata": {
        "id": "277333d0-a4ba-4c04-8125-f37e199406c7",
        "colab": {
          "base_uri": "https://localhost:8080/",
          "height": 206
        },
        "outputId": "7893c4df-f581-458f-852c-7fb13cbdb5d9"
      },
      "outputs": [
        {
          "output_type": "execute_result",
          "data": {
            "text/plain": [
              "   Gender   Age        M1           Q        DD Diagnosis        R1        R3  \\\n",
              "0  female  56.0  5.316955  102.653987 -0.177034  negative  0.079601  0.542921   \n",
              "1  female   6.0  4.302905  111.518198  5.969760  negative  0.079601  0.542921   \n",
              "2    male   9.0  5.507547  135.896026  0.413635  positive  0.079601  0.542921   \n",
              "3    male  14.0  6.448012  128.588020 -1.342695  positive  0.079601  0.542921   \n",
              "4  female  77.0  5.525742   95.353828  1.536639  positive  0.453140  9.218762   \n",
              "\n",
              "   Mode_a  Mode_b  Mode_c  Mode_d  Mode_e  Mode_f  Mode_g  Mode_h  \\\n",
              "0       0       0       1       0       0       0       0       0   \n",
              "1       0       0       0       0       1       0       0       0   \n",
              "2       0       0       0       0       0       1       0       0   \n",
              "3       0       0       0       0       0       1       0       0   \n",
              "4       0       0       0       0       0       1       0       0   \n",
              "\n",
              "   Mode_missing  \n",
              "0             0  \n",
              "1             0  \n",
              "2             0  \n",
              "3             0  \n",
              "4             0  "
            ],
            "text/html": [
              "\n",
              "  <div id=\"df-c27396cc-7047-4965-86be-b6c65edeb853\">\n",
              "    <div class=\"colab-df-container\">\n",
              "      <div>\n",
              "<style scoped>\n",
              "    .dataframe tbody tr th:only-of-type {\n",
              "        vertical-align: middle;\n",
              "    }\n",
              "\n",
              "    .dataframe tbody tr th {\n",
              "        vertical-align: top;\n",
              "    }\n",
              "\n",
              "    .dataframe thead th {\n",
              "        text-align: right;\n",
              "    }\n",
              "</style>\n",
              "<table border=\"1\" class=\"dataframe\">\n",
              "  <thead>\n",
              "    <tr style=\"text-align: right;\">\n",
              "      <th></th>\n",
              "      <th>Gender</th>\n",
              "      <th>Age</th>\n",
              "      <th>M1</th>\n",
              "      <th>Q</th>\n",
              "      <th>DD</th>\n",
              "      <th>Diagnosis</th>\n",
              "      <th>R1</th>\n",
              "      <th>R3</th>\n",
              "      <th>Mode_a</th>\n",
              "      <th>Mode_b</th>\n",
              "      <th>Mode_c</th>\n",
              "      <th>Mode_d</th>\n",
              "      <th>Mode_e</th>\n",
              "      <th>Mode_f</th>\n",
              "      <th>Mode_g</th>\n",
              "      <th>Mode_h</th>\n",
              "      <th>Mode_missing</th>\n",
              "    </tr>\n",
              "  </thead>\n",
              "  <tbody>\n",
              "    <tr>\n",
              "      <th>0</th>\n",
              "      <td>female</td>\n",
              "      <td>56.0</td>\n",
              "      <td>5.316955</td>\n",
              "      <td>102.653987</td>\n",
              "      <td>-0.177034</td>\n",
              "      <td>negative</td>\n",
              "      <td>0.079601</td>\n",
              "      <td>0.542921</td>\n",
              "      <td>0</td>\n",
              "      <td>0</td>\n",
              "      <td>1</td>\n",
              "      <td>0</td>\n",
              "      <td>0</td>\n",
              "      <td>0</td>\n",
              "      <td>0</td>\n",
              "      <td>0</td>\n",
              "      <td>0</td>\n",
              "    </tr>\n",
              "    <tr>\n",
              "      <th>1</th>\n",
              "      <td>female</td>\n",
              "      <td>6.0</td>\n",
              "      <td>4.302905</td>\n",
              "      <td>111.518198</td>\n",
              "      <td>5.969760</td>\n",
              "      <td>negative</td>\n",
              "      <td>0.079601</td>\n",
              "      <td>0.542921</td>\n",
              "      <td>0</td>\n",
              "      <td>0</td>\n",
              "      <td>0</td>\n",
              "      <td>0</td>\n",
              "      <td>1</td>\n",
              "      <td>0</td>\n",
              "      <td>0</td>\n",
              "      <td>0</td>\n",
              "      <td>0</td>\n",
              "    </tr>\n",
              "    <tr>\n",
              "      <th>2</th>\n",
              "      <td>male</td>\n",
              "      <td>9.0</td>\n",
              "      <td>5.507547</td>\n",
              "      <td>135.896026</td>\n",
              "      <td>0.413635</td>\n",
              "      <td>positive</td>\n",
              "      <td>0.079601</td>\n",
              "      <td>0.542921</td>\n",
              "      <td>0</td>\n",
              "      <td>0</td>\n",
              "      <td>0</td>\n",
              "      <td>0</td>\n",
              "      <td>0</td>\n",
              "      <td>1</td>\n",
              "      <td>0</td>\n",
              "      <td>0</td>\n",
              "      <td>0</td>\n",
              "    </tr>\n",
              "    <tr>\n",
              "      <th>3</th>\n",
              "      <td>male</td>\n",
              "      <td>14.0</td>\n",
              "      <td>6.448012</td>\n",
              "      <td>128.588020</td>\n",
              "      <td>-1.342695</td>\n",
              "      <td>positive</td>\n",
              "      <td>0.079601</td>\n",
              "      <td>0.542921</td>\n",
              "      <td>0</td>\n",
              "      <td>0</td>\n",
              "      <td>0</td>\n",
              "      <td>0</td>\n",
              "      <td>0</td>\n",
              "      <td>1</td>\n",
              "      <td>0</td>\n",
              "      <td>0</td>\n",
              "      <td>0</td>\n",
              "    </tr>\n",
              "    <tr>\n",
              "      <th>4</th>\n",
              "      <td>female</td>\n",
              "      <td>77.0</td>\n",
              "      <td>5.525742</td>\n",
              "      <td>95.353828</td>\n",
              "      <td>1.536639</td>\n",
              "      <td>positive</td>\n",
              "      <td>0.453140</td>\n",
              "      <td>9.218762</td>\n",
              "      <td>0</td>\n",
              "      <td>0</td>\n",
              "      <td>0</td>\n",
              "      <td>0</td>\n",
              "      <td>0</td>\n",
              "      <td>1</td>\n",
              "      <td>0</td>\n",
              "      <td>0</td>\n",
              "      <td>0</td>\n",
              "    </tr>\n",
              "  </tbody>\n",
              "</table>\n",
              "</div>\n",
              "      <button class=\"colab-df-convert\" onclick=\"convertToInteractive('df-c27396cc-7047-4965-86be-b6c65edeb853')\"\n",
              "              title=\"Convert this dataframe to an interactive table.\"\n",
              "              style=\"display:none;\">\n",
              "        \n",
              "  <svg xmlns=\"http://www.w3.org/2000/svg\" height=\"24px\"viewBox=\"0 0 24 24\"\n",
              "       width=\"24px\">\n",
              "    <path d=\"M0 0h24v24H0V0z\" fill=\"none\"/>\n",
              "    <path d=\"M18.56 5.44l.94 2.06.94-2.06 2.06-.94-2.06-.94-.94-2.06-.94 2.06-2.06.94zm-11 1L8.5 8.5l.94-2.06 2.06-.94-2.06-.94L8.5 2.5l-.94 2.06-2.06.94zm10 10l.94 2.06.94-2.06 2.06-.94-2.06-.94-.94-2.06-.94 2.06-2.06.94z\"/><path d=\"M17.41 7.96l-1.37-1.37c-.4-.4-.92-.59-1.43-.59-.52 0-1.04.2-1.43.59L10.3 9.45l-7.72 7.72c-.78.78-.78 2.05 0 2.83L4 21.41c.39.39.9.59 1.41.59.51 0 1.02-.2 1.41-.59l7.78-7.78 2.81-2.81c.8-.78.8-2.07 0-2.86zM5.41 20L4 18.59l7.72-7.72 1.47 1.35L5.41 20z\"/>\n",
              "  </svg>\n",
              "      </button>\n",
              "      \n",
              "  <style>\n",
              "    .colab-df-container {\n",
              "      display:flex;\n",
              "      flex-wrap:wrap;\n",
              "      gap: 12px;\n",
              "    }\n",
              "\n",
              "    .colab-df-convert {\n",
              "      background-color: #E8F0FE;\n",
              "      border: none;\n",
              "      border-radius: 50%;\n",
              "      cursor: pointer;\n",
              "      display: none;\n",
              "      fill: #1967D2;\n",
              "      height: 32px;\n",
              "      padding: 0 0 0 0;\n",
              "      width: 32px;\n",
              "    }\n",
              "\n",
              "    .colab-df-convert:hover {\n",
              "      background-color: #E2EBFA;\n",
              "      box-shadow: 0px 1px 2px rgba(60, 64, 67, 0.3), 0px 1px 3px 1px rgba(60, 64, 67, 0.15);\n",
              "      fill: #174EA6;\n",
              "    }\n",
              "\n",
              "    [theme=dark] .colab-df-convert {\n",
              "      background-color: #3B4455;\n",
              "      fill: #D2E3FC;\n",
              "    }\n",
              "\n",
              "    [theme=dark] .colab-df-convert:hover {\n",
              "      background-color: #434B5C;\n",
              "      box-shadow: 0px 1px 3px 1px rgba(0, 0, 0, 0.15);\n",
              "      filter: drop-shadow(0px 1px 2px rgba(0, 0, 0, 0.3));\n",
              "      fill: #FFFFFF;\n",
              "    }\n",
              "  </style>\n",
              "\n",
              "      <script>\n",
              "        const buttonEl =\n",
              "          document.querySelector('#df-c27396cc-7047-4965-86be-b6c65edeb853 button.colab-df-convert');\n",
              "        buttonEl.style.display =\n",
              "          google.colab.kernel.accessAllowed ? 'block' : 'none';\n",
              "\n",
              "        async function convertToInteractive(key) {\n",
              "          const element = document.querySelector('#df-c27396cc-7047-4965-86be-b6c65edeb853');\n",
              "          const dataTable =\n",
              "            await google.colab.kernel.invokeFunction('convertToInteractive',\n",
              "                                                     [key], {});\n",
              "          if (!dataTable) return;\n",
              "\n",
              "          const docLinkHtml = 'Like what you see? Visit the ' +\n",
              "            '<a target=\"_blank\" href=https://colab.research.google.com/notebooks/data_table.ipynb>data table notebook</a>'\n",
              "            + ' to learn more about interactive tables.';\n",
              "          element.innerHTML = '';\n",
              "          dataTable['output_type'] = 'display_data';\n",
              "          await google.colab.output.renderOutput(dataTable, element);\n",
              "          const docLink = document.createElement('div');\n",
              "          docLink.innerHTML = docLinkHtml;\n",
              "          element.appendChild(docLink);\n",
              "        }\n",
              "      </script>\n",
              "    </div>\n",
              "  </div>\n",
              "  "
            ]
          },
          "metadata": {},
          "execution_count": 10
        }
      ],
      "source": [
        "df_encode = pd.get_dummies(df, columns=[\"Mode\"], prefix='Mode')\n",
        "df_encode.head(5)"
      ]
    },
    {
      "cell_type": "markdown",
      "source": [
        "##### [A] Use the `.get_dummies()` function on the `'Mode'` column to apply dummy variable method. "
      ],
      "metadata": {
        "id": "T4NkIKu9H-SR"
      },
      "id": "T4NkIKu9H-SR"
    },
    {
      "cell_type": "code",
      "source": [
        "df_encode = pd.get_dummies(df, columns=[\"Mode\"], prefix='Mode', drop_first = True)\n",
        "df_encode.head(5)"
      ],
      "metadata": {
        "colab": {
          "base_uri": "https://localhost:8080/",
          "height": 206
        },
        "id": "MbHFSav1IH-c",
        "outputId": "92a2f353-d942-4df0-d790-2de9466ba5ef"
      },
      "id": "MbHFSav1IH-c",
      "execution_count": 11,
      "outputs": [
        {
          "output_type": "execute_result",
          "data": {
            "text/plain": [
              "   Gender   Age        M1           Q        DD Diagnosis        R1        R3  \\\n",
              "0  female  56.0  5.316955  102.653987 -0.177034  negative  0.079601  0.542921   \n",
              "1  female   6.0  4.302905  111.518198  5.969760  negative  0.079601  0.542921   \n",
              "2    male   9.0  5.507547  135.896026  0.413635  positive  0.079601  0.542921   \n",
              "3    male  14.0  6.448012  128.588020 -1.342695  positive  0.079601  0.542921   \n",
              "4  female  77.0  5.525742   95.353828  1.536639  positive  0.453140  9.218762   \n",
              "\n",
              "   Mode_b  Mode_c  Mode_d  Mode_e  Mode_f  Mode_g  Mode_h  Mode_missing  \n",
              "0       0       1       0       0       0       0       0             0  \n",
              "1       0       0       0       1       0       0       0             0  \n",
              "2       0       0       0       0       1       0       0             0  \n",
              "3       0       0       0       0       1       0       0             0  \n",
              "4       0       0       0       0       1       0       0             0  "
            ],
            "text/html": [
              "\n",
              "  <div id=\"df-d4427a0b-1ae5-4f9c-ba55-3474d37f7744\">\n",
              "    <div class=\"colab-df-container\">\n",
              "      <div>\n",
              "<style scoped>\n",
              "    .dataframe tbody tr th:only-of-type {\n",
              "        vertical-align: middle;\n",
              "    }\n",
              "\n",
              "    .dataframe tbody tr th {\n",
              "        vertical-align: top;\n",
              "    }\n",
              "\n",
              "    .dataframe thead th {\n",
              "        text-align: right;\n",
              "    }\n",
              "</style>\n",
              "<table border=\"1\" class=\"dataframe\">\n",
              "  <thead>\n",
              "    <tr style=\"text-align: right;\">\n",
              "      <th></th>\n",
              "      <th>Gender</th>\n",
              "      <th>Age</th>\n",
              "      <th>M1</th>\n",
              "      <th>Q</th>\n",
              "      <th>DD</th>\n",
              "      <th>Diagnosis</th>\n",
              "      <th>R1</th>\n",
              "      <th>R3</th>\n",
              "      <th>Mode_b</th>\n",
              "      <th>Mode_c</th>\n",
              "      <th>Mode_d</th>\n",
              "      <th>Mode_e</th>\n",
              "      <th>Mode_f</th>\n",
              "      <th>Mode_g</th>\n",
              "      <th>Mode_h</th>\n",
              "      <th>Mode_missing</th>\n",
              "    </tr>\n",
              "  </thead>\n",
              "  <tbody>\n",
              "    <tr>\n",
              "      <th>0</th>\n",
              "      <td>female</td>\n",
              "      <td>56.0</td>\n",
              "      <td>5.316955</td>\n",
              "      <td>102.653987</td>\n",
              "      <td>-0.177034</td>\n",
              "      <td>negative</td>\n",
              "      <td>0.079601</td>\n",
              "      <td>0.542921</td>\n",
              "      <td>0</td>\n",
              "      <td>1</td>\n",
              "      <td>0</td>\n",
              "      <td>0</td>\n",
              "      <td>0</td>\n",
              "      <td>0</td>\n",
              "      <td>0</td>\n",
              "      <td>0</td>\n",
              "    </tr>\n",
              "    <tr>\n",
              "      <th>1</th>\n",
              "      <td>female</td>\n",
              "      <td>6.0</td>\n",
              "      <td>4.302905</td>\n",
              "      <td>111.518198</td>\n",
              "      <td>5.969760</td>\n",
              "      <td>negative</td>\n",
              "      <td>0.079601</td>\n",
              "      <td>0.542921</td>\n",
              "      <td>0</td>\n",
              "      <td>0</td>\n",
              "      <td>0</td>\n",
              "      <td>1</td>\n",
              "      <td>0</td>\n",
              "      <td>0</td>\n",
              "      <td>0</td>\n",
              "      <td>0</td>\n",
              "    </tr>\n",
              "    <tr>\n",
              "      <th>2</th>\n",
              "      <td>male</td>\n",
              "      <td>9.0</td>\n",
              "      <td>5.507547</td>\n",
              "      <td>135.896026</td>\n",
              "      <td>0.413635</td>\n",
              "      <td>positive</td>\n",
              "      <td>0.079601</td>\n",
              "      <td>0.542921</td>\n",
              "      <td>0</td>\n",
              "      <td>0</td>\n",
              "      <td>0</td>\n",
              "      <td>0</td>\n",
              "      <td>1</td>\n",
              "      <td>0</td>\n",
              "      <td>0</td>\n",
              "      <td>0</td>\n",
              "    </tr>\n",
              "    <tr>\n",
              "      <th>3</th>\n",
              "      <td>male</td>\n",
              "      <td>14.0</td>\n",
              "      <td>6.448012</td>\n",
              "      <td>128.588020</td>\n",
              "      <td>-1.342695</td>\n",
              "      <td>positive</td>\n",
              "      <td>0.079601</td>\n",
              "      <td>0.542921</td>\n",
              "      <td>0</td>\n",
              "      <td>0</td>\n",
              "      <td>0</td>\n",
              "      <td>0</td>\n",
              "      <td>1</td>\n",
              "      <td>0</td>\n",
              "      <td>0</td>\n",
              "      <td>0</td>\n",
              "    </tr>\n",
              "    <tr>\n",
              "      <th>4</th>\n",
              "      <td>female</td>\n",
              "      <td>77.0</td>\n",
              "      <td>5.525742</td>\n",
              "      <td>95.353828</td>\n",
              "      <td>1.536639</td>\n",
              "      <td>positive</td>\n",
              "      <td>0.453140</td>\n",
              "      <td>9.218762</td>\n",
              "      <td>0</td>\n",
              "      <td>0</td>\n",
              "      <td>0</td>\n",
              "      <td>0</td>\n",
              "      <td>1</td>\n",
              "      <td>0</td>\n",
              "      <td>0</td>\n",
              "      <td>0</td>\n",
              "    </tr>\n",
              "  </tbody>\n",
              "</table>\n",
              "</div>\n",
              "      <button class=\"colab-df-convert\" onclick=\"convertToInteractive('df-d4427a0b-1ae5-4f9c-ba55-3474d37f7744')\"\n",
              "              title=\"Convert this dataframe to an interactive table.\"\n",
              "              style=\"display:none;\">\n",
              "        \n",
              "  <svg xmlns=\"http://www.w3.org/2000/svg\" height=\"24px\"viewBox=\"0 0 24 24\"\n",
              "       width=\"24px\">\n",
              "    <path d=\"M0 0h24v24H0V0z\" fill=\"none\"/>\n",
              "    <path d=\"M18.56 5.44l.94 2.06.94-2.06 2.06-.94-2.06-.94-.94-2.06-.94 2.06-2.06.94zm-11 1L8.5 8.5l.94-2.06 2.06-.94-2.06-.94L8.5 2.5l-.94 2.06-2.06.94zm10 10l.94 2.06.94-2.06 2.06-.94-2.06-.94-.94-2.06-.94 2.06-2.06.94z\"/><path d=\"M17.41 7.96l-1.37-1.37c-.4-.4-.92-.59-1.43-.59-.52 0-1.04.2-1.43.59L10.3 9.45l-7.72 7.72c-.78.78-.78 2.05 0 2.83L4 21.41c.39.39.9.59 1.41.59.51 0 1.02-.2 1.41-.59l7.78-7.78 2.81-2.81c.8-.78.8-2.07 0-2.86zM5.41 20L4 18.59l7.72-7.72 1.47 1.35L5.41 20z\"/>\n",
              "  </svg>\n",
              "      </button>\n",
              "      \n",
              "  <style>\n",
              "    .colab-df-container {\n",
              "      display:flex;\n",
              "      flex-wrap:wrap;\n",
              "      gap: 12px;\n",
              "    }\n",
              "\n",
              "    .colab-df-convert {\n",
              "      background-color: #E8F0FE;\n",
              "      border: none;\n",
              "      border-radius: 50%;\n",
              "      cursor: pointer;\n",
              "      display: none;\n",
              "      fill: #1967D2;\n",
              "      height: 32px;\n",
              "      padding: 0 0 0 0;\n",
              "      width: 32px;\n",
              "    }\n",
              "\n",
              "    .colab-df-convert:hover {\n",
              "      background-color: #E2EBFA;\n",
              "      box-shadow: 0px 1px 2px rgba(60, 64, 67, 0.3), 0px 1px 3px 1px rgba(60, 64, 67, 0.15);\n",
              "      fill: #174EA6;\n",
              "    }\n",
              "\n",
              "    [theme=dark] .colab-df-convert {\n",
              "      background-color: #3B4455;\n",
              "      fill: #D2E3FC;\n",
              "    }\n",
              "\n",
              "    [theme=dark] .colab-df-convert:hover {\n",
              "      background-color: #434B5C;\n",
              "      box-shadow: 0px 1px 3px 1px rgba(0, 0, 0, 0.15);\n",
              "      filter: drop-shadow(0px 1px 2px rgba(0, 0, 0, 0.3));\n",
              "      fill: #FFFFFF;\n",
              "    }\n",
              "  </style>\n",
              "\n",
              "      <script>\n",
              "        const buttonEl =\n",
              "          document.querySelector('#df-d4427a0b-1ae5-4f9c-ba55-3474d37f7744 button.colab-df-convert');\n",
              "        buttonEl.style.display =\n",
              "          google.colab.kernel.accessAllowed ? 'block' : 'none';\n",
              "\n",
              "        async function convertToInteractive(key) {\n",
              "          const element = document.querySelector('#df-d4427a0b-1ae5-4f9c-ba55-3474d37f7744');\n",
              "          const dataTable =\n",
              "            await google.colab.kernel.invokeFunction('convertToInteractive',\n",
              "                                                     [key], {});\n",
              "          if (!dataTable) return;\n",
              "\n",
              "          const docLinkHtml = 'Like what you see? Visit the ' +\n",
              "            '<a target=\"_blank\" href=https://colab.research.google.com/notebooks/data_table.ipynb>data table notebook</a>'\n",
              "            + ' to learn more about interactive tables.';\n",
              "          element.innerHTML = '';\n",
              "          dataTable['output_type'] = 'display_data';\n",
              "          await google.colab.output.renderOutput(dataTable, element);\n",
              "          const docLink = document.createElement('div');\n",
              "          docLink.innerHTML = docLinkHtml;\n",
              "          element.appendChild(docLink);\n",
              "        }\n",
              "      </script>\n",
              "    </div>\n",
              "  </div>\n",
              "  "
            ]
          },
          "metadata": {},
          "execution_count": 11
        }
      ]
    },
    {
      "cell_type": "markdown",
      "id": "d4b6f379-ba51-433d-a310-a201e85510b1",
      "metadata": {
        "id": "d4b6f379-ba51-433d-a310-a201e85510b1"
      },
      "source": [
        "##### [A] Use the `.get_dummies()` function on the `'Gender'` column of the updated dataframe. "
      ]
    },
    {
      "cell_type": "markdown",
      "id": "755433cd-8c8a-4626-8912-579342ba23ca",
      "metadata": {
        "id": "755433cd-8c8a-4626-8912-579342ba23ca"
      },
      "source": [
        "Note that this column already has binary classification for the feature, so it may simply assign $0$ to female and $1$ to male."
      ]
    },
    {
      "cell_type": "code",
      "execution_count": 12,
      "id": "eb84a309-65c7-4ec6-a7e2-4a09ec2c5e15",
      "metadata": {
        "id": "eb84a309-65c7-4ec6-a7e2-4a09ec2c5e15",
        "tags": [],
        "colab": {
          "base_uri": "https://localhost:8080/",
          "height": 206
        },
        "outputId": "341b0f42-8198-41a8-99e5-4b5a09cfda9b"
      },
      "outputs": [
        {
          "output_type": "execute_result",
          "data": {
            "text/plain": [
              "    Age        M1           Q        DD Diagnosis        R1        R3  Mode_b  \\\n",
              "0  56.0  5.316955  102.653987 -0.177034  negative  0.079601  0.542921       0   \n",
              "1   6.0  4.302905  111.518198  5.969760  negative  0.079601  0.542921       0   \n",
              "2   9.0  5.507547  135.896026  0.413635  positive  0.079601  0.542921       0   \n",
              "3  14.0  6.448012  128.588020 -1.342695  positive  0.079601  0.542921       0   \n",
              "4  77.0  5.525742   95.353828  1.536639  positive  0.453140  9.218762       0   \n",
              "\n",
              "   Mode_c  Mode_d  Mode_e  Mode_f  Mode_g  Mode_h  Mode_missing  Gender_male  \n",
              "0       1       0       0       0       0       0             0            0  \n",
              "1       0       0       1       0       0       0             0            0  \n",
              "2       0       0       0       1       0       0             0            1  \n",
              "3       0       0       0       1       0       0             0            1  \n",
              "4       0       0       0       1       0       0             0            0  "
            ],
            "text/html": [
              "\n",
              "  <div id=\"df-3de68bd9-deb7-4546-b784-5f169223c4ac\">\n",
              "    <div class=\"colab-df-container\">\n",
              "      <div>\n",
              "<style scoped>\n",
              "    .dataframe tbody tr th:only-of-type {\n",
              "        vertical-align: middle;\n",
              "    }\n",
              "\n",
              "    .dataframe tbody tr th {\n",
              "        vertical-align: top;\n",
              "    }\n",
              "\n",
              "    .dataframe thead th {\n",
              "        text-align: right;\n",
              "    }\n",
              "</style>\n",
              "<table border=\"1\" class=\"dataframe\">\n",
              "  <thead>\n",
              "    <tr style=\"text-align: right;\">\n",
              "      <th></th>\n",
              "      <th>Age</th>\n",
              "      <th>M1</th>\n",
              "      <th>Q</th>\n",
              "      <th>DD</th>\n",
              "      <th>Diagnosis</th>\n",
              "      <th>R1</th>\n",
              "      <th>R3</th>\n",
              "      <th>Mode_b</th>\n",
              "      <th>Mode_c</th>\n",
              "      <th>Mode_d</th>\n",
              "      <th>Mode_e</th>\n",
              "      <th>Mode_f</th>\n",
              "      <th>Mode_g</th>\n",
              "      <th>Mode_h</th>\n",
              "      <th>Mode_missing</th>\n",
              "      <th>Gender_male</th>\n",
              "    </tr>\n",
              "  </thead>\n",
              "  <tbody>\n",
              "    <tr>\n",
              "      <th>0</th>\n",
              "      <td>56.0</td>\n",
              "      <td>5.316955</td>\n",
              "      <td>102.653987</td>\n",
              "      <td>-0.177034</td>\n",
              "      <td>negative</td>\n",
              "      <td>0.079601</td>\n",
              "      <td>0.542921</td>\n",
              "      <td>0</td>\n",
              "      <td>1</td>\n",
              "      <td>0</td>\n",
              "      <td>0</td>\n",
              "      <td>0</td>\n",
              "      <td>0</td>\n",
              "      <td>0</td>\n",
              "      <td>0</td>\n",
              "      <td>0</td>\n",
              "    </tr>\n",
              "    <tr>\n",
              "      <th>1</th>\n",
              "      <td>6.0</td>\n",
              "      <td>4.302905</td>\n",
              "      <td>111.518198</td>\n",
              "      <td>5.969760</td>\n",
              "      <td>negative</td>\n",
              "      <td>0.079601</td>\n",
              "      <td>0.542921</td>\n",
              "      <td>0</td>\n",
              "      <td>0</td>\n",
              "      <td>0</td>\n",
              "      <td>1</td>\n",
              "      <td>0</td>\n",
              "      <td>0</td>\n",
              "      <td>0</td>\n",
              "      <td>0</td>\n",
              "      <td>0</td>\n",
              "    </tr>\n",
              "    <tr>\n",
              "      <th>2</th>\n",
              "      <td>9.0</td>\n",
              "      <td>5.507547</td>\n",
              "      <td>135.896026</td>\n",
              "      <td>0.413635</td>\n",
              "      <td>positive</td>\n",
              "      <td>0.079601</td>\n",
              "      <td>0.542921</td>\n",
              "      <td>0</td>\n",
              "      <td>0</td>\n",
              "      <td>0</td>\n",
              "      <td>0</td>\n",
              "      <td>1</td>\n",
              "      <td>0</td>\n",
              "      <td>0</td>\n",
              "      <td>0</td>\n",
              "      <td>1</td>\n",
              "    </tr>\n",
              "    <tr>\n",
              "      <th>3</th>\n",
              "      <td>14.0</td>\n",
              "      <td>6.448012</td>\n",
              "      <td>128.588020</td>\n",
              "      <td>-1.342695</td>\n",
              "      <td>positive</td>\n",
              "      <td>0.079601</td>\n",
              "      <td>0.542921</td>\n",
              "      <td>0</td>\n",
              "      <td>0</td>\n",
              "      <td>0</td>\n",
              "      <td>0</td>\n",
              "      <td>1</td>\n",
              "      <td>0</td>\n",
              "      <td>0</td>\n",
              "      <td>0</td>\n",
              "      <td>1</td>\n",
              "    </tr>\n",
              "    <tr>\n",
              "      <th>4</th>\n",
              "      <td>77.0</td>\n",
              "      <td>5.525742</td>\n",
              "      <td>95.353828</td>\n",
              "      <td>1.536639</td>\n",
              "      <td>positive</td>\n",
              "      <td>0.453140</td>\n",
              "      <td>9.218762</td>\n",
              "      <td>0</td>\n",
              "      <td>0</td>\n",
              "      <td>0</td>\n",
              "      <td>0</td>\n",
              "      <td>1</td>\n",
              "      <td>0</td>\n",
              "      <td>0</td>\n",
              "      <td>0</td>\n",
              "      <td>0</td>\n",
              "    </tr>\n",
              "  </tbody>\n",
              "</table>\n",
              "</div>\n",
              "      <button class=\"colab-df-convert\" onclick=\"convertToInteractive('df-3de68bd9-deb7-4546-b784-5f169223c4ac')\"\n",
              "              title=\"Convert this dataframe to an interactive table.\"\n",
              "              style=\"display:none;\">\n",
              "        \n",
              "  <svg xmlns=\"http://www.w3.org/2000/svg\" height=\"24px\"viewBox=\"0 0 24 24\"\n",
              "       width=\"24px\">\n",
              "    <path d=\"M0 0h24v24H0V0z\" fill=\"none\"/>\n",
              "    <path d=\"M18.56 5.44l.94 2.06.94-2.06 2.06-.94-2.06-.94-.94-2.06-.94 2.06-2.06.94zm-11 1L8.5 8.5l.94-2.06 2.06-.94-2.06-.94L8.5 2.5l-.94 2.06-2.06.94zm10 10l.94 2.06.94-2.06 2.06-.94-2.06-.94-.94-2.06-.94 2.06-2.06.94z\"/><path d=\"M17.41 7.96l-1.37-1.37c-.4-.4-.92-.59-1.43-.59-.52 0-1.04.2-1.43.59L10.3 9.45l-7.72 7.72c-.78.78-.78 2.05 0 2.83L4 21.41c.39.39.9.59 1.41.59.51 0 1.02-.2 1.41-.59l7.78-7.78 2.81-2.81c.8-.78.8-2.07 0-2.86zM5.41 20L4 18.59l7.72-7.72 1.47 1.35L5.41 20z\"/>\n",
              "  </svg>\n",
              "      </button>\n",
              "      \n",
              "  <style>\n",
              "    .colab-df-container {\n",
              "      display:flex;\n",
              "      flex-wrap:wrap;\n",
              "      gap: 12px;\n",
              "    }\n",
              "\n",
              "    .colab-df-convert {\n",
              "      background-color: #E8F0FE;\n",
              "      border: none;\n",
              "      border-radius: 50%;\n",
              "      cursor: pointer;\n",
              "      display: none;\n",
              "      fill: #1967D2;\n",
              "      height: 32px;\n",
              "      padding: 0 0 0 0;\n",
              "      width: 32px;\n",
              "    }\n",
              "\n",
              "    .colab-df-convert:hover {\n",
              "      background-color: #E2EBFA;\n",
              "      box-shadow: 0px 1px 2px rgba(60, 64, 67, 0.3), 0px 1px 3px 1px rgba(60, 64, 67, 0.15);\n",
              "      fill: #174EA6;\n",
              "    }\n",
              "\n",
              "    [theme=dark] .colab-df-convert {\n",
              "      background-color: #3B4455;\n",
              "      fill: #D2E3FC;\n",
              "    }\n",
              "\n",
              "    [theme=dark] .colab-df-convert:hover {\n",
              "      background-color: #434B5C;\n",
              "      box-shadow: 0px 1px 3px 1px rgba(0, 0, 0, 0.15);\n",
              "      filter: drop-shadow(0px 1px 2px rgba(0, 0, 0, 0.3));\n",
              "      fill: #FFFFFF;\n",
              "    }\n",
              "  </style>\n",
              "\n",
              "      <script>\n",
              "        const buttonEl =\n",
              "          document.querySelector('#df-3de68bd9-deb7-4546-b784-5f169223c4ac button.colab-df-convert');\n",
              "        buttonEl.style.display =\n",
              "          google.colab.kernel.accessAllowed ? 'block' : 'none';\n",
              "\n",
              "        async function convertToInteractive(key) {\n",
              "          const element = document.querySelector('#df-3de68bd9-deb7-4546-b784-5f169223c4ac');\n",
              "          const dataTable =\n",
              "            await google.colab.kernel.invokeFunction('convertToInteractive',\n",
              "                                                     [key], {});\n",
              "          if (!dataTable) return;\n",
              "\n",
              "          const docLinkHtml = 'Like what you see? Visit the ' +\n",
              "            '<a target=\"_blank\" href=https://colab.research.google.com/notebooks/data_table.ipynb>data table notebook</a>'\n",
              "            + ' to learn more about interactive tables.';\n",
              "          element.innerHTML = '';\n",
              "          dataTable['output_type'] = 'display_data';\n",
              "          await google.colab.output.renderOutput(dataTable, element);\n",
              "          const docLink = document.createElement('div');\n",
              "          docLink.innerHTML = docLinkHtml;\n",
              "          element.appendChild(docLink);\n",
              "        }\n",
              "      </script>\n",
              "    </div>\n",
              "  </div>\n",
              "  "
            ]
          },
          "metadata": {},
          "execution_count": 12
        }
      ],
      "source": [
        "df_encode = pd.get_dummies(df_encode, columns=[\"Gender\"], prefix='Gender',drop_first = True)\n",
        "df_encode.head(5)"
      ]
    },
    {
      "cell_type": "markdown",
      "id": "d33a8b9a-def2-4f44-a4eb-3ed2a761c68a",
      "metadata": {
        "id": "d33a8b9a-def2-4f44-a4eb-3ed2a761c68a"
      },
      "source": [
        "##### [A] Use the `.get_dummies()` function on the `'Diagnosis'` column. "
      ]
    },
    {
      "cell_type": "code",
      "execution_count": 13,
      "id": "2340f43a-d199-4bc2-a2f2-4a76f8dd1f5b",
      "metadata": {
        "id": "2340f43a-d199-4bc2-a2f2-4a76f8dd1f5b",
        "tags": [],
        "colab": {
          "base_uri": "https://localhost:8080/",
          "height": 206
        },
        "outputId": "9053b421-a4d3-4eb8-cb64-cb5ef89a472a"
      },
      "outputs": [
        {
          "output_type": "execute_result",
          "data": {
            "text/plain": [
              "    Age        M1           Q        DD        R1        R3  Mode_b  Mode_c  \\\n",
              "0  56.0  5.316955  102.653987 -0.177034  0.079601  0.542921       0       1   \n",
              "1   6.0  4.302905  111.518198  5.969760  0.079601  0.542921       0       0   \n",
              "2   9.0  5.507547  135.896026  0.413635  0.079601  0.542921       0       0   \n",
              "3  14.0  6.448012  128.588020 -1.342695  0.079601  0.542921       0       0   \n",
              "4  77.0  5.525742   95.353828  1.536639  0.453140  9.218762       0       0   \n",
              "\n",
              "   Mode_d  Mode_e  Mode_f  Mode_g  Mode_h  Mode_missing  Gender_male  \\\n",
              "0       0       0       0       0       0             0            0   \n",
              "1       0       1       0       0       0             0            0   \n",
              "2       0       0       1       0       0             0            1   \n",
              "3       0       0       1       0       0             0            1   \n",
              "4       0       0       1       0       0             0            0   \n",
              "\n",
              "   Diag_positive  \n",
              "0              0  \n",
              "1              0  \n",
              "2              1  \n",
              "3              1  \n",
              "4              1  "
            ],
            "text/html": [
              "\n",
              "  <div id=\"df-a6c58642-df74-43ed-ba4c-39783767e975\">\n",
              "    <div class=\"colab-df-container\">\n",
              "      <div>\n",
              "<style scoped>\n",
              "    .dataframe tbody tr th:only-of-type {\n",
              "        vertical-align: middle;\n",
              "    }\n",
              "\n",
              "    .dataframe tbody tr th {\n",
              "        vertical-align: top;\n",
              "    }\n",
              "\n",
              "    .dataframe thead th {\n",
              "        text-align: right;\n",
              "    }\n",
              "</style>\n",
              "<table border=\"1\" class=\"dataframe\">\n",
              "  <thead>\n",
              "    <tr style=\"text-align: right;\">\n",
              "      <th></th>\n",
              "      <th>Age</th>\n",
              "      <th>M1</th>\n",
              "      <th>Q</th>\n",
              "      <th>DD</th>\n",
              "      <th>R1</th>\n",
              "      <th>R3</th>\n",
              "      <th>Mode_b</th>\n",
              "      <th>Mode_c</th>\n",
              "      <th>Mode_d</th>\n",
              "      <th>Mode_e</th>\n",
              "      <th>Mode_f</th>\n",
              "      <th>Mode_g</th>\n",
              "      <th>Mode_h</th>\n",
              "      <th>Mode_missing</th>\n",
              "      <th>Gender_male</th>\n",
              "      <th>Diag_positive</th>\n",
              "    </tr>\n",
              "  </thead>\n",
              "  <tbody>\n",
              "    <tr>\n",
              "      <th>0</th>\n",
              "      <td>56.0</td>\n",
              "      <td>5.316955</td>\n",
              "      <td>102.653987</td>\n",
              "      <td>-0.177034</td>\n",
              "      <td>0.079601</td>\n",
              "      <td>0.542921</td>\n",
              "      <td>0</td>\n",
              "      <td>1</td>\n",
              "      <td>0</td>\n",
              "      <td>0</td>\n",
              "      <td>0</td>\n",
              "      <td>0</td>\n",
              "      <td>0</td>\n",
              "      <td>0</td>\n",
              "      <td>0</td>\n",
              "      <td>0</td>\n",
              "    </tr>\n",
              "    <tr>\n",
              "      <th>1</th>\n",
              "      <td>6.0</td>\n",
              "      <td>4.302905</td>\n",
              "      <td>111.518198</td>\n",
              "      <td>5.969760</td>\n",
              "      <td>0.079601</td>\n",
              "      <td>0.542921</td>\n",
              "      <td>0</td>\n",
              "      <td>0</td>\n",
              "      <td>0</td>\n",
              "      <td>1</td>\n",
              "      <td>0</td>\n",
              "      <td>0</td>\n",
              "      <td>0</td>\n",
              "      <td>0</td>\n",
              "      <td>0</td>\n",
              "      <td>0</td>\n",
              "    </tr>\n",
              "    <tr>\n",
              "      <th>2</th>\n",
              "      <td>9.0</td>\n",
              "      <td>5.507547</td>\n",
              "      <td>135.896026</td>\n",
              "      <td>0.413635</td>\n",
              "      <td>0.079601</td>\n",
              "      <td>0.542921</td>\n",
              "      <td>0</td>\n",
              "      <td>0</td>\n",
              "      <td>0</td>\n",
              "      <td>0</td>\n",
              "      <td>1</td>\n",
              "      <td>0</td>\n",
              "      <td>0</td>\n",
              "      <td>0</td>\n",
              "      <td>1</td>\n",
              "      <td>1</td>\n",
              "    </tr>\n",
              "    <tr>\n",
              "      <th>3</th>\n",
              "      <td>14.0</td>\n",
              "      <td>6.448012</td>\n",
              "      <td>128.588020</td>\n",
              "      <td>-1.342695</td>\n",
              "      <td>0.079601</td>\n",
              "      <td>0.542921</td>\n",
              "      <td>0</td>\n",
              "      <td>0</td>\n",
              "      <td>0</td>\n",
              "      <td>0</td>\n",
              "      <td>1</td>\n",
              "      <td>0</td>\n",
              "      <td>0</td>\n",
              "      <td>0</td>\n",
              "      <td>1</td>\n",
              "      <td>1</td>\n",
              "    </tr>\n",
              "    <tr>\n",
              "      <th>4</th>\n",
              "      <td>77.0</td>\n",
              "      <td>5.525742</td>\n",
              "      <td>95.353828</td>\n",
              "      <td>1.536639</td>\n",
              "      <td>0.453140</td>\n",
              "      <td>9.218762</td>\n",
              "      <td>0</td>\n",
              "      <td>0</td>\n",
              "      <td>0</td>\n",
              "      <td>0</td>\n",
              "      <td>1</td>\n",
              "      <td>0</td>\n",
              "      <td>0</td>\n",
              "      <td>0</td>\n",
              "      <td>0</td>\n",
              "      <td>1</td>\n",
              "    </tr>\n",
              "  </tbody>\n",
              "</table>\n",
              "</div>\n",
              "      <button class=\"colab-df-convert\" onclick=\"convertToInteractive('df-a6c58642-df74-43ed-ba4c-39783767e975')\"\n",
              "              title=\"Convert this dataframe to an interactive table.\"\n",
              "              style=\"display:none;\">\n",
              "        \n",
              "  <svg xmlns=\"http://www.w3.org/2000/svg\" height=\"24px\"viewBox=\"0 0 24 24\"\n",
              "       width=\"24px\">\n",
              "    <path d=\"M0 0h24v24H0V0z\" fill=\"none\"/>\n",
              "    <path d=\"M18.56 5.44l.94 2.06.94-2.06 2.06-.94-2.06-.94-.94-2.06-.94 2.06-2.06.94zm-11 1L8.5 8.5l.94-2.06 2.06-.94-2.06-.94L8.5 2.5l-.94 2.06-2.06.94zm10 10l.94 2.06.94-2.06 2.06-.94-2.06-.94-.94-2.06-.94 2.06-2.06.94z\"/><path d=\"M17.41 7.96l-1.37-1.37c-.4-.4-.92-.59-1.43-.59-.52 0-1.04.2-1.43.59L10.3 9.45l-7.72 7.72c-.78.78-.78 2.05 0 2.83L4 21.41c.39.39.9.59 1.41.59.51 0 1.02-.2 1.41-.59l7.78-7.78 2.81-2.81c.8-.78.8-2.07 0-2.86zM5.41 20L4 18.59l7.72-7.72 1.47 1.35L5.41 20z\"/>\n",
              "  </svg>\n",
              "      </button>\n",
              "      \n",
              "  <style>\n",
              "    .colab-df-container {\n",
              "      display:flex;\n",
              "      flex-wrap:wrap;\n",
              "      gap: 12px;\n",
              "    }\n",
              "\n",
              "    .colab-df-convert {\n",
              "      background-color: #E8F0FE;\n",
              "      border: none;\n",
              "      border-radius: 50%;\n",
              "      cursor: pointer;\n",
              "      display: none;\n",
              "      fill: #1967D2;\n",
              "      height: 32px;\n",
              "      padding: 0 0 0 0;\n",
              "      width: 32px;\n",
              "    }\n",
              "\n",
              "    .colab-df-convert:hover {\n",
              "      background-color: #E2EBFA;\n",
              "      box-shadow: 0px 1px 2px rgba(60, 64, 67, 0.3), 0px 1px 3px 1px rgba(60, 64, 67, 0.15);\n",
              "      fill: #174EA6;\n",
              "    }\n",
              "\n",
              "    [theme=dark] .colab-df-convert {\n",
              "      background-color: #3B4455;\n",
              "      fill: #D2E3FC;\n",
              "    }\n",
              "\n",
              "    [theme=dark] .colab-df-convert:hover {\n",
              "      background-color: #434B5C;\n",
              "      box-shadow: 0px 1px 3px 1px rgba(0, 0, 0, 0.15);\n",
              "      filter: drop-shadow(0px 1px 2px rgba(0, 0, 0, 0.3));\n",
              "      fill: #FFFFFF;\n",
              "    }\n",
              "  </style>\n",
              "\n",
              "      <script>\n",
              "        const buttonEl =\n",
              "          document.querySelector('#df-a6c58642-df74-43ed-ba4c-39783767e975 button.colab-df-convert');\n",
              "        buttonEl.style.display =\n",
              "          google.colab.kernel.accessAllowed ? 'block' : 'none';\n",
              "\n",
              "        async function convertToInteractive(key) {\n",
              "          const element = document.querySelector('#df-a6c58642-df74-43ed-ba4c-39783767e975');\n",
              "          const dataTable =\n",
              "            await google.colab.kernel.invokeFunction('convertToInteractive',\n",
              "                                                     [key], {});\n",
              "          if (!dataTable) return;\n",
              "\n",
              "          const docLinkHtml = 'Like what you see? Visit the ' +\n",
              "            '<a target=\"_blank\" href=https://colab.research.google.com/notebooks/data_table.ipynb>data table notebook</a>'\n",
              "            + ' to learn more about interactive tables.';\n",
              "          element.innerHTML = '';\n",
              "          dataTable['output_type'] = 'display_data';\n",
              "          await google.colab.output.renderOutput(dataTable, element);\n",
              "          const docLink = document.createElement('div');\n",
              "          docLink.innerHTML = docLinkHtml;\n",
              "          element.appendChild(docLink);\n",
              "        }\n",
              "      </script>\n",
              "    </div>\n",
              "  </div>\n",
              "  "
            ]
          },
          "metadata": {},
          "execution_count": 13
        }
      ],
      "source": [
        "df_encode = pd.get_dummies(df_encode, columns=[\"Diagnosis\"], prefix='Diag',drop_first = True)\n",
        "df_encode.head(5)"
      ]
    },
    {
      "cell_type": "markdown",
      "id": "47712fbf-0c56-4a44-8794-535cc1e217f0",
      "metadata": {
        "id": "47712fbf-0c56-4a44-8794-535cc1e217f0"
      },
      "source": [
        "##### [A] Observe the datatypes for your dataframe."
      ]
    },
    {
      "cell_type": "code",
      "execution_count": 14,
      "id": "cdeff435-9666-4dc1-8a43-aa8f185ead57",
      "metadata": {
        "id": "cdeff435-9666-4dc1-8a43-aa8f185ead57",
        "colab": {
          "base_uri": "https://localhost:8080/"
        },
        "outputId": "8bb019ba-e714-490e-f5c8-f2f490476c40"
      },
      "outputs": [
        {
          "output_type": "execute_result",
          "data": {
            "text/plain": [
              "Age              float64\n",
              "M1               float64\n",
              "Q                float64\n",
              "DD               float64\n",
              "R1               float64\n",
              "R3               float64\n",
              "Mode_b             uint8\n",
              "Mode_c             uint8\n",
              "Mode_d             uint8\n",
              "Mode_e             uint8\n",
              "Mode_f             uint8\n",
              "Mode_g             uint8\n",
              "Mode_h             uint8\n",
              "Mode_missing       uint8\n",
              "Gender_male        uint8\n",
              "Diag_positive      uint8\n",
              "dtype: object"
            ]
          },
          "metadata": {},
          "execution_count": 14
        }
      ],
      "source": [
        "df_encode.dtypes"
      ]
    },
    {
      "cell_type": "markdown",
      "id": "988eed0b-d175-4eca-b82a-041b68ab3b69",
      "metadata": {
        "id": "988eed0b-d175-4eca-b82a-041b68ab3b69"
      },
      "source": [
        "## Lab Activity Two: Outliers"
      ]
    },
    {
      "cell_type": "markdown",
      "id": "f26e11cb-9ad7-4906-b64a-ef8df7ef6d37",
      "metadata": {
        "id": "f26e11cb-9ad7-4906-b64a-ef8df7ef6d37"
      },
      "source": [
        "Outliers can affect the performance of a model. Knowing the feature which contains outliers can be significantly beneficial. For example, if a dataset contains the feature 'age' of humans, then a datapoint with `age=`$150$ is an outlier. We know that this is not possible and is clearly an outlier(incorrect data entry in this case). To solve this issue, you can delete all the rows with `age >`$110$ ($110$ is a more reasonable upper limit of human age)."
      ]
    },
    {
      "cell_type": "markdown",
      "id": "33593ce5-8c63-44ce-9648-34142ee73af4",
      "metadata": {
        "id": "33593ce5-8c63-44ce-9648-34142ee73af4"
      },
      "source": [
        "Another way of detecting outliers is to plot the features on a graph to visualize the data points."
      ]
    },
    {
      "cell_type": "code",
      "execution_count": 15,
      "id": "b1f386d0-e8aa-4fd8-99bd-76d253903b8c",
      "metadata": {
        "id": "b1f386d0-e8aa-4fd8-99bd-76d253903b8c"
      },
      "outputs": [],
      "source": [
        "import sklearn\n",
        "from sklearn.datasets import load_boston\n",
        "import warnings\n",
        "warnings.filterwarnings('ignore')\n",
        "\n",
        "\n",
        "#We are loading a preinstalled dataset in the sklearn library. You will come across this in your Machine Learning course. \n",
        "boston_data = load_boston()\n",
        "boston_df = pd.DataFrame(boston_data.data,columns=boston_data.feature_names)"
      ]
    },
    {
      "cell_type": "code",
      "execution_count": 16,
      "id": "bf42d87d-cd9a-4e54-88e5-6ea47b666fa9",
      "metadata": {
        "colab": {
          "base_uri": "https://localhost:8080/",
          "height": 206
        },
        "id": "bf42d87d-cd9a-4e54-88e5-6ea47b666fa9",
        "outputId": "0ff3ffdf-c31c-4d47-89c5-ef646f72e693"
      },
      "outputs": [
        {
          "output_type": "execute_result",
          "data": {
            "text/plain": [
              "      CRIM    ZN  INDUS  CHAS    NOX     RM   AGE     DIS  RAD    TAX  \\\n",
              "0  0.00632  18.0   2.31   0.0  0.538  6.575  65.2  4.0900  1.0  296.0   \n",
              "1  0.02731   0.0   7.07   0.0  0.469  6.421  78.9  4.9671  2.0  242.0   \n",
              "2  0.02729   0.0   7.07   0.0  0.469  7.185  61.1  4.9671  2.0  242.0   \n",
              "3  0.03237   0.0   2.18   0.0  0.458  6.998  45.8  6.0622  3.0  222.0   \n",
              "4  0.06905   0.0   2.18   0.0  0.458  7.147  54.2  6.0622  3.0  222.0   \n",
              "\n",
              "   PTRATIO       B  LSTAT  \n",
              "0     15.3  396.90   4.98  \n",
              "1     17.8  396.90   9.14  \n",
              "2     17.8  392.83   4.03  \n",
              "3     18.7  394.63   2.94  \n",
              "4     18.7  396.90   5.33  "
            ],
            "text/html": [
              "\n",
              "  <div id=\"df-49a2b3b5-a013-430a-8d5d-8fed3e60f772\">\n",
              "    <div class=\"colab-df-container\">\n",
              "      <div>\n",
              "<style scoped>\n",
              "    .dataframe tbody tr th:only-of-type {\n",
              "        vertical-align: middle;\n",
              "    }\n",
              "\n",
              "    .dataframe tbody tr th {\n",
              "        vertical-align: top;\n",
              "    }\n",
              "\n",
              "    .dataframe thead th {\n",
              "        text-align: right;\n",
              "    }\n",
              "</style>\n",
              "<table border=\"1\" class=\"dataframe\">\n",
              "  <thead>\n",
              "    <tr style=\"text-align: right;\">\n",
              "      <th></th>\n",
              "      <th>CRIM</th>\n",
              "      <th>ZN</th>\n",
              "      <th>INDUS</th>\n",
              "      <th>CHAS</th>\n",
              "      <th>NOX</th>\n",
              "      <th>RM</th>\n",
              "      <th>AGE</th>\n",
              "      <th>DIS</th>\n",
              "      <th>RAD</th>\n",
              "      <th>TAX</th>\n",
              "      <th>PTRATIO</th>\n",
              "      <th>B</th>\n",
              "      <th>LSTAT</th>\n",
              "    </tr>\n",
              "  </thead>\n",
              "  <tbody>\n",
              "    <tr>\n",
              "      <th>0</th>\n",
              "      <td>0.00632</td>\n",
              "      <td>18.0</td>\n",
              "      <td>2.31</td>\n",
              "      <td>0.0</td>\n",
              "      <td>0.538</td>\n",
              "      <td>6.575</td>\n",
              "      <td>65.2</td>\n",
              "      <td>4.0900</td>\n",
              "      <td>1.0</td>\n",
              "      <td>296.0</td>\n",
              "      <td>15.3</td>\n",
              "      <td>396.90</td>\n",
              "      <td>4.98</td>\n",
              "    </tr>\n",
              "    <tr>\n",
              "      <th>1</th>\n",
              "      <td>0.02731</td>\n",
              "      <td>0.0</td>\n",
              "      <td>7.07</td>\n",
              "      <td>0.0</td>\n",
              "      <td>0.469</td>\n",
              "      <td>6.421</td>\n",
              "      <td>78.9</td>\n",
              "      <td>4.9671</td>\n",
              "      <td>2.0</td>\n",
              "      <td>242.0</td>\n",
              "      <td>17.8</td>\n",
              "      <td>396.90</td>\n",
              "      <td>9.14</td>\n",
              "    </tr>\n",
              "    <tr>\n",
              "      <th>2</th>\n",
              "      <td>0.02729</td>\n",
              "      <td>0.0</td>\n",
              "      <td>7.07</td>\n",
              "      <td>0.0</td>\n",
              "      <td>0.469</td>\n",
              "      <td>7.185</td>\n",
              "      <td>61.1</td>\n",
              "      <td>4.9671</td>\n",
              "      <td>2.0</td>\n",
              "      <td>242.0</td>\n",
              "      <td>17.8</td>\n",
              "      <td>392.83</td>\n",
              "      <td>4.03</td>\n",
              "    </tr>\n",
              "    <tr>\n",
              "      <th>3</th>\n",
              "      <td>0.03237</td>\n",
              "      <td>0.0</td>\n",
              "      <td>2.18</td>\n",
              "      <td>0.0</td>\n",
              "      <td>0.458</td>\n",
              "      <td>6.998</td>\n",
              "      <td>45.8</td>\n",
              "      <td>6.0622</td>\n",
              "      <td>3.0</td>\n",
              "      <td>222.0</td>\n",
              "      <td>18.7</td>\n",
              "      <td>394.63</td>\n",
              "      <td>2.94</td>\n",
              "    </tr>\n",
              "    <tr>\n",
              "      <th>4</th>\n",
              "      <td>0.06905</td>\n",
              "      <td>0.0</td>\n",
              "      <td>2.18</td>\n",
              "      <td>0.0</td>\n",
              "      <td>0.458</td>\n",
              "      <td>7.147</td>\n",
              "      <td>54.2</td>\n",
              "      <td>6.0622</td>\n",
              "      <td>3.0</td>\n",
              "      <td>222.0</td>\n",
              "      <td>18.7</td>\n",
              "      <td>396.90</td>\n",
              "      <td>5.33</td>\n",
              "    </tr>\n",
              "  </tbody>\n",
              "</table>\n",
              "</div>\n",
              "      <button class=\"colab-df-convert\" onclick=\"convertToInteractive('df-49a2b3b5-a013-430a-8d5d-8fed3e60f772')\"\n",
              "              title=\"Convert this dataframe to an interactive table.\"\n",
              "              style=\"display:none;\">\n",
              "        \n",
              "  <svg xmlns=\"http://www.w3.org/2000/svg\" height=\"24px\"viewBox=\"0 0 24 24\"\n",
              "       width=\"24px\">\n",
              "    <path d=\"M0 0h24v24H0V0z\" fill=\"none\"/>\n",
              "    <path d=\"M18.56 5.44l.94 2.06.94-2.06 2.06-.94-2.06-.94-.94-2.06-.94 2.06-2.06.94zm-11 1L8.5 8.5l.94-2.06 2.06-.94-2.06-.94L8.5 2.5l-.94 2.06-2.06.94zm10 10l.94 2.06.94-2.06 2.06-.94-2.06-.94-.94-2.06-.94 2.06-2.06.94z\"/><path d=\"M17.41 7.96l-1.37-1.37c-.4-.4-.92-.59-1.43-.59-.52 0-1.04.2-1.43.59L10.3 9.45l-7.72 7.72c-.78.78-.78 2.05 0 2.83L4 21.41c.39.39.9.59 1.41.59.51 0 1.02-.2 1.41-.59l7.78-7.78 2.81-2.81c.8-.78.8-2.07 0-2.86zM5.41 20L4 18.59l7.72-7.72 1.47 1.35L5.41 20z\"/>\n",
              "  </svg>\n",
              "      </button>\n",
              "      \n",
              "  <style>\n",
              "    .colab-df-container {\n",
              "      display:flex;\n",
              "      flex-wrap:wrap;\n",
              "      gap: 12px;\n",
              "    }\n",
              "\n",
              "    .colab-df-convert {\n",
              "      background-color: #E8F0FE;\n",
              "      border: none;\n",
              "      border-radius: 50%;\n",
              "      cursor: pointer;\n",
              "      display: none;\n",
              "      fill: #1967D2;\n",
              "      height: 32px;\n",
              "      padding: 0 0 0 0;\n",
              "      width: 32px;\n",
              "    }\n",
              "\n",
              "    .colab-df-convert:hover {\n",
              "      background-color: #E2EBFA;\n",
              "      box-shadow: 0px 1px 2px rgba(60, 64, 67, 0.3), 0px 1px 3px 1px rgba(60, 64, 67, 0.15);\n",
              "      fill: #174EA6;\n",
              "    }\n",
              "\n",
              "    [theme=dark] .colab-df-convert {\n",
              "      background-color: #3B4455;\n",
              "      fill: #D2E3FC;\n",
              "    }\n",
              "\n",
              "    [theme=dark] .colab-df-convert:hover {\n",
              "      background-color: #434B5C;\n",
              "      box-shadow: 0px 1px 3px 1px rgba(0, 0, 0, 0.15);\n",
              "      filter: drop-shadow(0px 1px 2px rgba(0, 0, 0, 0.3));\n",
              "      fill: #FFFFFF;\n",
              "    }\n",
              "  </style>\n",
              "\n",
              "      <script>\n",
              "        const buttonEl =\n",
              "          document.querySelector('#df-49a2b3b5-a013-430a-8d5d-8fed3e60f772 button.colab-df-convert');\n",
              "        buttonEl.style.display =\n",
              "          google.colab.kernel.accessAllowed ? 'block' : 'none';\n",
              "\n",
              "        async function convertToInteractive(key) {\n",
              "          const element = document.querySelector('#df-49a2b3b5-a013-430a-8d5d-8fed3e60f772');\n",
              "          const dataTable =\n",
              "            await google.colab.kernel.invokeFunction('convertToInteractive',\n",
              "                                                     [key], {});\n",
              "          if (!dataTable) return;\n",
              "\n",
              "          const docLinkHtml = 'Like what you see? Visit the ' +\n",
              "            '<a target=\"_blank\" href=https://colab.research.google.com/notebooks/data_table.ipynb>data table notebook</a>'\n",
              "            + ' to learn more about interactive tables.';\n",
              "          element.innerHTML = '';\n",
              "          dataTable['output_type'] = 'display_data';\n",
              "          await google.colab.output.renderOutput(dataTable, element);\n",
              "          const docLink = document.createElement('div');\n",
              "          docLink.innerHTML = docLinkHtml;\n",
              "          element.appendChild(docLink);\n",
              "        }\n",
              "      </script>\n",
              "    </div>\n",
              "  </div>\n",
              "  "
            ]
          },
          "metadata": {},
          "execution_count": 16
        }
      ],
      "source": [
        "#Observing the prepared dataframe\n",
        "boston_df.head()"
      ]
    },
    {
      "cell_type": "markdown",
      "id": "b97b150a-522b-4401-ad30-68120b81cdc2",
      "metadata": {
        "id": "b97b150a-522b-4401-ad30-68120b81cdc2"
      },
      "source": [
        "##### [A] A boxplot organizes and splits the data into percentiles and helps to identity outliers. Using the [`seaborn`]((https://seaborn.pydata.org/generated/seaborn.boxplot.html)) library plot a boxplot of the `'RM'` feature. "
      ]
    },
    {
      "cell_type": "code",
      "execution_count": 17,
      "id": "1e652e3f-5381-4511-9fee-ce18a1002f57",
      "metadata": {
        "colab": {
          "base_uri": "https://localhost:8080/",
          "height": 286
        },
        "id": "1e652e3f-5381-4511-9fee-ce18a1002f57",
        "outputId": "cccb02a0-7eba-453c-891c-586574f53392"
      },
      "outputs": [
        {
          "output_type": "execute_result",
          "data": {
            "text/plain": [
              "<matplotlib.axes._subplots.AxesSubplot at 0x7efcd2a8d290>"
            ]
          },
          "metadata": {},
          "execution_count": 17
        },
        {
          "output_type": "display_data",
          "data": {
            "text/plain": [
              "<Figure size 432x288 with 1 Axes>"
            ],
            "image/png": "[encoded data removed]"
          },
          "metadata": {
            "needs_background": "light"
          }
        }
      ],
      "source": [
        "boston_df.boxplot(column=\"RM\")\n"
      ]
    },
    {
      "cell_type": "code",
      "source": [
        "sns.boxplot(data=boston_df[\"RM\"])"
      ],
      "metadata": {
        "colab": {
          "base_uri": "https://localhost:8080/",
          "height": 286
        },
        "id": "gkVOAG-IXMYq",
        "outputId": "ab77f56c-6176-4de4-9404-3dac0e9b43d9"
      },
      "id": "gkVOAG-IXMYq",
      "execution_count": 18,
      "outputs": [
        {
          "output_type": "execute_result",
          "data": {
            "text/plain": [
              "<matplotlib.axes._subplots.AxesSubplot at 0x7efcd2624050>"
            ]
          },
          "metadata": {},
          "execution_count": 18
        },
        {
          "output_type": "display_data",
          "data": {
            "text/plain": [
              "<Figure size 432x288 with 1 Axes>"
            ],
            "image/png": "[encoded data removed]"
          },
          "metadata": {
            "needs_background": "light"
          }
        }
      ]
    },
    {
      "cell_type": "markdown",
      "id": "9c2a0383-5017-4984-8be8-5bc6a4c268a3",
      "metadata": {
        "id": "9c2a0383-5017-4984-8be8-5bc6a4c268a3"
      },
      "source": [
        "##### [A] Briefly list and discuss some other methods that can be used to find outliers in your data"
      ]
    },
    {
      "cell_type": "markdown",
      "id": "2cbe8e48-ba3b-4781-9aae-06d751dfd95f",
      "metadata": {
        "tags": [],
        "id": "2cbe8e48-ba3b-4781-9aae-06d751dfd95f"
      },
      "source": [
        "## Lab Activity Three: Imbalanced Datasets"
      ]
    },
    {
      "cell_type": "markdown",
      "id": "c579daa2-da66-4c32-ad0f-5e80656329a2",
      "metadata": {
        "tags": [],
        "id": "c579daa2-da66-4c32-ad0f-5e80656329a2"
      },
      "source": [
        "Having an imbalanced dataset can cause affect the performance of your ML model. Below you will see examples of this problem and how you can fix it."
      ]
    },
    {
      "cell_type": "code",
      "execution_count": 19,
      "id": "b4d3c20a-aa99-4305-958c-20e250df37e4",
      "metadata": {
        "id": "b4d3c20a-aa99-4305-958c-20e250df37e4"
      },
      "outputs": [],
      "source": [
        "#Loading Data\n",
        "df_2 = pd.read_csv('creditcard.csv')"
      ]
    },
    {
      "cell_type": "markdown",
      "id": "5dc49990-8676-4e99-aa9d-ebc200d4624a",
      "metadata": {
        "id": "5dc49990-8676-4e99-aa9d-ebc200d4624a"
      },
      "source": [
        "**The credit card fraud detection data is a very popular dataset used in the ML space. As you can see below the quantity of the 2 classes has a significant difference.**\n",
        "- $0$ means there is no fraud \n",
        "- $1$ means fraud"
      ]
    },
    {
      "cell_type": "code",
      "execution_count": 20,
      "id": "acc8beb1-3f50-4321-8f1a-3e705d44d8fe",
      "metadata": {
        "id": "acc8beb1-3f50-4321-8f1a-3e705d44d8fe",
        "outputId": "c5b75572-0642-480d-b38c-ea4d46eaea79",
        "colab": {
          "base_uri": "https://localhost:8080/"
        }
      },
      "outputs": [
        {
          "output_type": "execute_result",
          "data": {
            "text/plain": [
              "0    284315\n",
              "1       492\n",
              "Name: Class, dtype: int64"
            ]
          },
          "metadata": {},
          "execution_count": 20
        }
      ],
      "source": [
        "df_2['Class'].value_counts()"
      ]
    },
    {
      "cell_type": "code",
      "source": [
        "df_2.head()"
      ],
      "metadata": {
        "colab": {
          "base_uri": "https://localhost:8080/",
          "height": 235
        },
        "id": "yxsc-apOGSzd",
        "outputId": "7ff7d1b5-97bd-4dc6-993b-2dc2a5998bb5"
      },
      "id": "yxsc-apOGSzd",
      "execution_count": 21,
      "outputs": [
        {
          "output_type": "execute_result",
          "data": {
            "text/plain": [
              "   Time        V1        V2        V3        V4        V5        V6        V7  \\\n",
              "0   0.0 -1.359807 -0.072781  2.536347  1.378155 -0.338321  0.462388  0.239599   \n",
              "1   0.0  1.191857  0.266151  0.166480  0.448154  0.060018 -0.082361 -0.078803   \n",
              "2   1.0 -1.358354 -1.340163  1.773209  0.379780 -0.503198  1.800499  0.791461   \n",
              "3   1.0 -0.966272 -0.185226  1.792993 -0.863291 -0.010309  1.247203  0.237609   \n",
              "4   2.0 -1.158233  0.877737  1.548718  0.403034 -0.407193  0.095921  0.592941   \n",
              "\n",
              "         V8        V9  ...       V21       V22       V23       V24       V25  \\\n",
              "0  0.098698  0.363787  ... -0.018307  0.277838 -0.110474  0.066928  0.128539   \n",
              "1  0.085102 -0.255425  ... -0.225775 -0.638672  0.101288 -0.339846  0.167170   \n",
              "2  0.247676 -1.514654  ...  0.247998  0.771679  0.909412 -0.689281 -0.327642   \n",
              "3  0.377436 -1.387024  ... -0.108300  0.005274 -0.190321 -1.175575  0.647376   \n",
              "4 -0.270533  0.817739  ... -0.009431  0.798278 -0.137458  0.141267 -0.206010   \n",
              "\n",
              "        V26       V27       V28  Amount  Class  \n",
              "0 -0.189115  0.133558 -0.021053  149.62      0  \n",
              "1  0.125895 -0.008983  0.014724    2.69      0  \n",
              "2 -0.139097 -0.055353 -0.059752  378.66      0  \n",
              "3 -0.221929  0.062723  0.061458  123.50      0  \n",
              "4  0.502292  0.219422  0.215153   69.99      0  \n",
              "\n",
              "[5 rows x 31 columns]"
            ],
            "text/html": [
              "\n",
              "  <div id=\"df-7e245273-2f5b-4410-bf6a-ec5753e36ab6\">\n",
              "    <div class=\"colab-df-container\">\n",
              "      <div>\n",
              "<style scoped>\n",
              "    .dataframe tbody tr th:only-of-type {\n",
              "        vertical-align: middle;\n",
              "    }\n",
              "\n",
              "    .dataframe tbody tr th {\n",
              "        vertical-align: top;\n",
              "    }\n",
              "\n",
              "    .dataframe thead th {\n",
              "        text-align: right;\n",
              "    }\n",
              "</style>\n",
              "<table border=\"1\" class=\"dataframe\">\n",
              "  <thead>\n",
              "    <tr style=\"text-align: right;\">\n",
              "      <th></th>\n",
              "      <th>Time</th>\n",
              "      <th>V1</th>\n",
              "      <th>V2</th>\n",
              "      <th>V3</th>\n",
              "      <th>V4</th>\n",
              "      <th>V5</th>\n",
              "      <th>V6</th>\n",
              "      <th>V7</th>\n",
              "      <th>V8</th>\n",
              "      <th>V9</th>\n",
              "      <th>...</th>\n",
              "      <th>V21</th>\n",
              "      <th>V22</th>\n",
              "      <th>V23</th>\n",
              "      <th>V24</th>\n",
              "      <th>V25</th>\n",
              "      <th>V26</th>\n",
              "      <th>V27</th>\n",
              "      <th>V28</th>\n",
              "      <th>Amount</th>\n",
              "      <th>Class</th>\n",
              "    </tr>\n",
              "  </thead>\n",
              "  <tbody>\n",
              "    <tr>\n",
              "      <th>0</th>\n",
              "      <td>0.0</td>\n",
              "      <td>-1.359807</td>\n",
              "      <td>-0.072781</td>\n",
              "      <td>2.536347</td>\n",
              "      <td>1.378155</td>\n",
              "      <td>-0.338321</td>\n",
              "      <td>0.462388</td>\n",
              "      <td>0.239599</td>\n",
              "      <td>0.098698</td>\n",
              "      <td>0.363787</td>\n",
              "      <td>...</td>\n",
              "      <td>-0.018307</td>\n",
              "      <td>0.277838</td>\n",
              "      <td>-0.110474</td>\n",
              "      <td>0.066928</td>\n",
              "      <td>0.128539</td>\n",
              "      <td>-0.189115</td>\n",
              "      <td>0.133558</td>\n",
              "      <td>-0.021053</td>\n",
              "      <td>149.62</td>\n",
              "      <td>0</td>\n",
              "    </tr>\n",
              "    <tr>\n",
              "      <th>1</th>\n",
              "      <td>0.0</td>\n",
              "      <td>1.191857</td>\n",
              "      <td>0.266151</td>\n",
              "      <td>0.166480</td>\n",
              "      <td>0.448154</td>\n",
              "      <td>0.060018</td>\n",
              "      <td>-0.082361</td>\n",
              "      <td>-0.078803</td>\n",
              "      <td>0.085102</td>\n",
              "      <td>-0.255425</td>\n",
              "      <td>...</td>\n",
              "      <td>-0.225775</td>\n",
              "      <td>-0.638672</td>\n",
              "      <td>0.101288</td>\n",
              "      <td>-0.339846</td>\n",
              "      <td>0.167170</td>\n",
              "      <td>0.125895</td>\n",
              "      <td>-0.008983</td>\n",
              "      <td>0.014724</td>\n",
              "      <td>2.69</td>\n",
              "      <td>0</td>\n",
              "    </tr>\n",
              "    <tr>\n",
              "      <th>2</th>\n",
              "      <td>1.0</td>\n",
              "      <td>-1.358354</td>\n",
              "      <td>-1.340163</td>\n",
              "      <td>1.773209</td>\n",
              "      <td>0.379780</td>\n",
              "      <td>-0.503198</td>\n",
              "      <td>1.800499</td>\n",
              "      <td>0.791461</td>\n",
              "      <td>0.247676</td>\n",
              "      <td>-1.514654</td>\n",
              "      <td>...</td>\n",
              "      <td>0.247998</td>\n",
              "      <td>0.771679</td>\n",
              "      <td>0.909412</td>\n",
              "      <td>-0.689281</td>\n",
              "      <td>-0.327642</td>\n",
              "      <td>-0.139097</td>\n",
              "      <td>-0.055353</td>\n",
              "      <td>-0.059752</td>\n",
              "      <td>378.66</td>\n",
              "      <td>0</td>\n",
              "    </tr>\n",
              "    <tr>\n",
              "      <th>3</th>\n",
              "      <td>1.0</td>\n",
              "      <td>-0.966272</td>\n",
              "      <td>-0.185226</td>\n",
              "      <td>1.792993</td>\n",
              "      <td>-0.863291</td>\n",
              "      <td>-0.010309</td>\n",
              "      <td>1.247203</td>\n",
              "      <td>0.237609</td>\n",
              "      <td>0.377436</td>\n",
              "      <td>-1.387024</td>\n",
              "      <td>...</td>\n",
              "      <td>-0.108300</td>\n",
              "      <td>0.005274</td>\n",
              "      <td>-0.190321</td>\n",
              "      <td>-1.175575</td>\n",
              "      <td>0.647376</td>\n",
              "      <td>-0.221929</td>\n",
              "      <td>0.062723</td>\n",
              "      <td>0.061458</td>\n",
              "      <td>123.50</td>\n",
              "      <td>0</td>\n",
              "    </tr>\n",
              "    <tr>\n",
              "      <th>4</th>\n",
              "      <td>2.0</td>\n",
              "      <td>-1.158233</td>\n",
              "      <td>0.877737</td>\n",
              "      <td>1.548718</td>\n",
              "      <td>0.403034</td>\n",
              "      <td>-0.407193</td>\n",
              "      <td>0.095921</td>\n",
              "      <td>0.592941</td>\n",
              "      <td>-0.270533</td>\n",
              "      <td>0.817739</td>\n",
              "      <td>...</td>\n",
              "      <td>-0.009431</td>\n",
              "      <td>0.798278</td>\n",
              "      <td>-0.137458</td>\n",
              "      <td>0.141267</td>\n",
              "      <td>-0.206010</td>\n",
              "      <td>0.502292</td>\n",
              "      <td>0.219422</td>\n",
              "      <td>0.215153</td>\n",
              "      <td>69.99</td>\n",
              "      <td>0</td>\n",
              "    </tr>\n",
              "  </tbody>\n",
              "</table>\n",
              "<p>5 rows × 31 columns</p>\n",
              "</div>\n",
              "      <button class=\"colab-df-convert\" onclick=\"convertToInteractive('df-7e245273-2f5b-4410-bf6a-ec5753e36ab6')\"\n",
              "              title=\"Convert this dataframe to an interactive table.\"\n",
              "              style=\"display:none;\">\n",
              "        \n",
              "  <svg xmlns=\"http://www.w3.org/2000/svg\" height=\"24px\"viewBox=\"0 0 24 24\"\n",
              "       width=\"24px\">\n",
              "    <path d=\"M0 0h24v24H0V0z\" fill=\"none\"/>\n",
              "    <path d=\"M18.56 5.44l.94 2.06.94-2.06 2.06-.94-2.06-.94-.94-2.06-.94 2.06-2.06.94zm-11 1L8.5 8.5l.94-2.06 2.06-.94-2.06-.94L8.5 2.5l-.94 2.06-2.06.94zm10 10l.94 2.06.94-2.06 2.06-.94-2.06-.94-.94-2.06-.94 2.06-2.06.94z\"/><path d=\"M17.41 7.96l-1.37-1.37c-.4-.4-.92-.59-1.43-.59-.52 0-1.04.2-1.43.59L10.3 9.45l-7.72 7.72c-.78.78-.78 2.05 0 2.83L4 21.41c.39.39.9.59 1.41.59.51 0 1.02-.2 1.41-.59l7.78-7.78 2.81-2.81c.8-.78.8-2.07 0-2.86zM5.41 20L4 18.59l7.72-7.72 1.47 1.35L5.41 20z\"/>\n",
              "  </svg>\n",
              "      </button>\n",
              "      \n",
              "  <style>\n",
              "    .colab-df-container {\n",
              "      display:flex;\n",
              "      flex-wrap:wrap;\n",
              "      gap: 12px;\n",
              "    }\n",
              "\n",
              "    .colab-df-convert {\n",
              "      background-color: #E8F0FE;\n",
              "      border: none;\n",
              "      border-radius: 50%;\n",
              "      cursor: pointer;\n",
              "      display: none;\n",
              "      fill: #1967D2;\n",
              "      height: 32px;\n",
              "      padding: 0 0 0 0;\n",
              "      width: 32px;\n",
              "    }\n",
              "\n",
              "    .colab-df-convert:hover {\n",
              "      background-color: #E2EBFA;\n",
              "      box-shadow: 0px 1px 2px rgba(60, 64, 67, 0.3), 0px 1px 3px 1px rgba(60, 64, 67, 0.15);\n",
              "      fill: #174EA6;\n",
              "    }\n",
              "\n",
              "    [theme=dark] .colab-df-convert {\n",
              "      background-color: #3B4455;\n",
              "      fill: #D2E3FC;\n",
              "    }\n",
              "\n",
              "    [theme=dark] .colab-df-convert:hover {\n",
              "      background-color: #434B5C;\n",
              "      box-shadow: 0px 1px 3px 1px rgba(0, 0, 0, 0.15);\n",
              "      filter: drop-shadow(0px 1px 2px rgba(0, 0, 0, 0.3));\n",
              "      fill: #FFFFFF;\n",
              "    }\n",
              "  </style>\n",
              "\n",
              "      <script>\n",
              "        const buttonEl =\n",
              "          document.querySelector('#df-7e245273-2f5b-4410-bf6a-ec5753e36ab6 button.colab-df-convert');\n",
              "        buttonEl.style.display =\n",
              "          google.colab.kernel.accessAllowed ? 'block' : 'none';\n",
              "\n",
              "        async function convertToInteractive(key) {\n",
              "          const element = document.querySelector('#df-7e245273-2f5b-4410-bf6a-ec5753e36ab6');\n",
              "          const dataTable =\n",
              "            await google.colab.kernel.invokeFunction('convertToInteractive',\n",
              "                                                     [key], {});\n",
              "          if (!dataTable) return;\n",
              "\n",
              "          const docLinkHtml = 'Like what you see? Visit the ' +\n",
              "            '<a target=\"_blank\" href=https://colab.research.google.com/notebooks/data_table.ipynb>data table notebook</a>'\n",
              "            + ' to learn more about interactive tables.';\n",
              "          element.innerHTML = '';\n",
              "          dataTable['output_type'] = 'display_data';\n",
              "          await google.colab.output.renderOutput(dataTable, element);\n",
              "          const docLink = document.createElement('div');\n",
              "          docLink.innerHTML = docLinkHtml;\n",
              "          element.appendChild(docLink);\n",
              "        }\n",
              "      </script>\n",
              "    </div>\n",
              "  </div>\n",
              "  "
            ]
          },
          "metadata": {},
          "execution_count": 21
        }
      ]
    },
    {
      "cell_type": "markdown",
      "id": "f5e2f4f3-0818-4f75-828a-8191516ea05b",
      "metadata": {
        "id": "f5e2f4f3-0818-4f75-828a-8191516ea05b"
      },
      "source": [
        "##### Visualizing this can show how a ML model will bias non-fraudulent cases."
      ]
    },
    {
      "cell_type": "code",
      "execution_count": 22,
      "id": "26ddc7fa-a683-473f-be42-7743a320f233",
      "metadata": {
        "id": "26ddc7fa-a683-473f-be42-7743a320f233",
        "outputId": "b820dbe5-dbe2-418a-b1e7-b8c9f7b05fd3",
        "colab": {
          "base_uri": "https://localhost:8080/",
          "height": 279
        }
      },
      "outputs": [
        {
          "output_type": "display_data",
          "data": {
            "text/plain": [
              "<Figure size 432x288 with 1 Axes>"
            ],
            "image/png": "[encoded data removed]"
          },
          "metadata": {
            "needs_background": "light"
          }
        }
      ],
      "source": [
        "comparing_classes = sns.countplot(df_2['Class'])"
      ]
    },
    {
      "cell_type": "markdown",
      "id": "cdc23af3-d35a-4805-a586-47958172b384",
      "metadata": {
        "id": "cdc23af3-d35a-4805-a586-47958172b384"
      },
      "source": [
        "##### Two ways of dealing with the imbalanced class issue would be:\n",
        "1) Forcefully balance the classes. Since its a binary classification problem ($0$ or $1$) a balanced dataset would be 50% $0$ and 50% $1$.\n",
        "    - **Oversampling** - *Increase* the data of the minority class.\n",
        "    - **Undersampling** - *Decrease* the data of the majority class.\n",
        "2) Use non-linear analysis approaches such as Decision Trees and/or Random Forest."
      ]
    },
    {
      "cell_type": "markdown",
      "source": [
        "#### Hints: \n",
        "\n",
        "1. Use .sample() function to do oversampling. Read the documnetaiton of this function to use it properly. \n",
        "\n",
        "2. To add two dataframe together. concat() fucntion will be used. "
      ],
      "metadata": {
        "id": "eMSZI1lWKWZo"
      },
      "id": "eMSZI1lWKWZo"
    },
    {
      "cell_type": "markdown",
      "id": "4c4a5454-c164-4a35-84e7-cc7f3ead2dae",
      "metadata": {
        "id": "4c4a5454-c164-4a35-84e7-cc7f3ead2dae"
      },
      "source": [
        "##### [A] Perform oversampling of the dataset and create a new dataframe with balanced classes (using oversampling)."
      ]
    },
    {
      "cell_type": "code",
      "execution_count": 74,
      "id": "4b718cbb-aade-44f3-a954-8bfdcbd1a89e",
      "metadata": {
        "id": "4b718cbb-aade-44f3-a954-8bfdcbd1a89e"
      },
      "outputs": [],
      "source": [
        "over_df=df_2.query(\"Class==1\").sample(frac=500,replace=True, random_state=45)"
      ]
    },
    {
      "cell_type": "code",
      "execution_count": 76,
      "id": "7b1cb712-b110-41dd-bfe4-756315e14979",
      "metadata": {
        "id": "7b1cb712-b110-41dd-bfe4-756315e14979"
      },
      "outputs": [],
      "source": [
        "new_over_df=pd.concat([df_2,over_df])"
      ]
    },
    {
      "cell_type": "code",
      "source": [
        "new_over_df['Class'].value_counts()"
      ],
      "metadata": {
        "colab": {
          "base_uri": "https://localhost:8080/"
        },
        "id": "ZojvlvQdKMn6",
        "outputId": "9cc56f9c-8e75-4c2e-f5c8-67d99a426228"
      },
      "id": "ZojvlvQdKMn6",
      "execution_count": 78,
      "outputs": [
        {
          "output_type": "execute_result",
          "data": {
            "text/plain": [
              "0    284315\n",
              "1    246492\n",
              "Name: Class, dtype: int64"
            ]
          },
          "metadata": {},
          "execution_count": 78
        }
      ]
    },
    {
      "cell_type": "markdown",
      "id": "496e7a54-e84c-408c-b8e0-093ee2b22365",
      "metadata": {
        "id": "496e7a54-e84c-408c-b8e0-093ee2b22365"
      },
      "source": [
        "##### [A] Plot a bar graph of the classes for the new oversampled dataframe."
      ]
    },
    {
      "cell_type": "code",
      "execution_count": 79,
      "id": "fbb3edf1-fc21-4f46-9b1d-a6026a7e6954",
      "metadata": {
        "id": "fbb3edf1-fc21-4f46-9b1d-a6026a7e6954",
        "colab": {
          "base_uri": "https://localhost:8080/",
          "height": 279
        },
        "outputId": "9ecbd08f-ab77-4fbd-964d-dda9b853687c"
      },
      "outputs": [
        {
          "output_type": "display_data",
          "data": {
            "text/plain": [
              "<Figure size 432x288 with 1 Axes>"
            ],
            "image/png": "[encoded data removed]"
          },
          "metadata": {
            "needs_background": "light"
          }
        }
      ],
      "source": [
        "figure_over = sns.countplot(new_over_df['Class'])"
      ]
    },
    {
      "cell_type": "markdown",
      "id": "6f4c58ed-d1bd-4cac-a369-689b581d7347",
      "metadata": {
        "id": "6f4c58ed-d1bd-4cac-a369-689b581d7347"
      },
      "source": [
        "##### [A] Discuss the disadvantages of oversampling"
      ]
    },
    {
      "cell_type": "markdown",
      "source": [
        "Oversampling can help address overfitting by creating more data to fit the model with. It can be useful in datasets with minority classes to address imbalance. \n",
        "The oversampling method used here can not be recommended as it is simply duplicating the data with low counts, which in itself is going to create overfitting. Using a statistical method like SMOTE would be benificial if you are trying to create synthetic data that may still have meaningful results in ML models.\n",
        "\n",
        "Besides creating overfitting, synthetic data may result in very inaccurate new data being entered into the model"
      ],
      "metadata": {
        "id": "IOf_zILxG7Qq"
      },
      "id": "IOf_zILxG7Qq"
    },
    {
      "cell_type": "markdown",
      "id": "447850c8-4abe-4081-8f92-efabd3bd1870",
      "metadata": {
        "id": "447850c8-4abe-4081-8f92-efabd3bd1870"
      },
      "source": [
        "##### [A] Perform undersampling of the `df_2` dataset and create a new dataframe with balanced classes (using undersampling). Display new class counts of your new dataframe using a bar graph."
      ]
    },
    {
      "cell_type": "code",
      "execution_count": 114,
      "id": "6e20232d-a7cd-429f-ba8b-04f3c2993a99",
      "metadata": {
        "id": "6e20232d-a7cd-429f-ba8b-04f3c2993a99"
      },
      "outputs": [],
      "source": [
        "under_df=df_2.query(\"Class==0\").sample(frac=0.0018,replace=True, random_state=45)\n",
        "under_df_class2=df_2[df_2[\"Class\"]==1]"
      ]
    },
    {
      "cell_type": "code",
      "execution_count": 115,
      "id": "cc12ce05-d475-4758-9da9-931a8cd9e10f",
      "metadata": {
        "id": "cc12ce05-d475-4758-9da9-931a8cd9e10f"
      },
      "outputs": [],
      "source": [
        "new_under_df=pd.concat([under_df,under_df_class2])"
      ]
    },
    {
      "cell_type": "code",
      "execution_count": 116,
      "id": "64bcd54e-d853-449d-bffd-146662c24046",
      "metadata": {
        "id": "64bcd54e-d853-449d-bffd-146662c24046",
        "colab": {
          "base_uri": "https://localhost:8080/"
        },
        "outputId": "6f47a264-476c-4c2d-f4a8-5e6e4635416c"
      },
      "outputs": [
        {
          "output_type": "execute_result",
          "data": {
            "text/plain": [
              "0    512\n",
              "1    492\n",
              "Name: Class, dtype: int64"
            ]
          },
          "metadata": {},
          "execution_count": 116
        }
      ],
      "source": [
        "new_under_df['Class'].value_counts()"
      ]
    },
    {
      "cell_type": "code",
      "source": [
        "figure_under = sns.countplot(new_under_df['Class'])"
      ],
      "metadata": {
        "colab": {
          "base_uri": "https://localhost:8080/",
          "height": 279
        },
        "id": "O_ijjVLoMvKU",
        "outputId": "ef519a3c-3582-4961-cd70-5e1fb1109157"
      },
      "id": "O_ijjVLoMvKU",
      "execution_count": 117,
      "outputs": [
        {
          "output_type": "display_data",
          "data": {
            "text/plain": [
              "<Figure size 432x288 with 1 Axes>"
            ],
            "image/png": "[encoded data removed]"
          },
          "metadata": {
            "needs_background": "light"
          }
        }
      ]
    },
    {
      "cell_type": "markdown",
      "id": "71b293e3-3657-4aec-b488-da7acc731aee",
      "metadata": {
        "id": "71b293e3-3657-4aec-b488-da7acc731aee"
      },
      "source": [
        "##### [A] Discuss the disadvantages of undersampling"
      ]
    },
    {
      "cell_type": "markdown",
      "source": [
        "One of the advantages of undersampling is that all of the data being used belongs to the original data set and can create a model that does not skew towards the majority class. It can also be useful when you have more data than necessary and want to reduce storage and processing time.\n",
        "\n",
        "Depending on how the undersamping is performed there can be serious risks of under representing or eliminating certain features in the data. This could result in bias in the majority class. There is also a significant loss of the original dataset. Again, this method is not as productive as a statisical method that can account for reasoning/rationale. Condended nearest neighbours (CNN), edited nearest neighbour (ENN) and Tomek Links methods can help selectivly undersample. (https://www.mastersindatascience.org/learning/statistics-data-science/undersampling/)"
      ],
      "metadata": {
        "id": "IRVhvy67NKpM"
      },
      "id": "IRVhvy67NKpM"
    }
  ],
  "metadata": {
    "kernelspec": {
      "display_name": "Python 3 (ipykernel)",
      "language": "python",
      "name": "python3"
    },
    "language_info": {
      "codemirror_mode": {
        "name": "ipython",
        "version": 3
      },
      "file_extension": ".py",
      "mimetype": "text/x-python",
      "name": "python",
      "nbconvert_exporter": "python",
      "pygments_lexer": "ipython3",
      "version": "3.9.7"
    },
    "colab": {
      "provenance": [],
      "collapsed_sections": [],
      "include_colab_link": true
    }
  },
  "nbformat": 4,
  "nbformat_minor": 5
}
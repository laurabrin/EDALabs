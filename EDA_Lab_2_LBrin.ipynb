{
  "cells": [
    {
      "cell_type": "markdown",
      "metadata": {
        "id": "view-in-github",
        "colab_type": "text"
      },
      "source": [
        "<a href=\"https://colab.research.google.com/github/laurabrin/EDALabs/blob/main/EDA_Lab_2_LBrin.ipynb\" target=\"_parent\"><img src=\"https://colab.research.google.com/assets/colab-badge.svg\" alt=\"Open In Colab\"/></a>"
      ]
    },
    {
      "cell_type": "markdown",
      "id": "693f8a01-919d-4abc-8394-664b08e35bec",
      "metadata": {
        "id": "693f8a01-919d-4abc-8394-664b08e35bec"
      },
      "source": [
        "# Lab Two: Data Cleaning\n",
        "Laura Brin"
      ]
    },
    {
      "cell_type": "markdown",
      "id": "2012d387-6c65-41cd-bff6-9f60f37d3494",
      "metadata": {
        "id": "2012d387-6c65-41cd-bff6-9f60f37d3494"
      },
      "source": [
        "Data cleaning is the very first part of any data analysis and/or machine learning project. In this lab, you will be going over some of the common data issues and applying suitable fixes."
      ]
    },
    {
      "cell_type": "markdown",
      "id": "aa9b95a7-a550-42d2-a562-923a2ea72b90",
      "metadata": {
        "id": "aa9b95a7-a550-42d2-a562-923a2ea72b90"
      },
      "source": [
        "##### Loading libraries needed and the data"
      ]
    },
    {
      "cell_type": "code",
      "execution_count": 1,
      "id": "2e59af70-8803-41ac-b528-47f267673b11",
      "metadata": {
        "id": "2e59af70-8803-41ac-b528-47f267673b11"
      },
      "outputs": [],
      "source": [
        "import pandas as pd\n",
        "import numpy as np\n",
        "\n"
      ]
    },
    {
      "cell_type": "markdown",
      "id": "ef96ef46-acdd-408d-8078-84ee4da9c93b",
      "metadata": {
        "id": "ef96ef46-acdd-408d-8078-84ee4da9c93b"
      },
      "source": [
        "### Explaining the data we will be using for this and the next few labs"
      ]
    },
    {
      "cell_type": "markdown",
      "id": "3f0e681d-9780-48a3-82de-c7d7932622de",
      "metadata": {
        "id": "3f0e681d-9780-48a3-82de-c7d7932622de"
      },
      "source": [
        "In this example, we have four datasets, two datasets from two different hypothetical clinics, \"clinic1\" and \"clinic2\" which diagnose patients with a novel device that takes many measurements. The final goal is to see if they have a particular disease or not. \n",
        "\n",
        "Measurements taken from patients in the two clinics are presented in dataframes `df_1` and `df_c2`. We also have an inspection log, recorded in `df_3` and `df_4`, for the devices used in \"clinic1\" and \"clinic2\" where many variables from the device are measured. \n",
        "\n",
        "Two of these variables, `'R1'` and `'R3'`, are believed to affect the readings taken from the patients. The `df_1` and `df_2` datasets are labelled with an actual diagnosis of whether the patient had the disease or not, and the goal is to predict the existence of the disease based on the measurements taken from the patients. Since the variables of the devices, measured in inspection, affects the measurements taken from patients in clinics, they should also be considered. Here are the data frames:"
      ]
    },
    {
      "cell_type": "markdown",
      "id": "dd0132dc-2dbc-4de5-b62c-94c17161570a",
      "metadata": {
        "id": "dd0132dc-2dbc-4de5-b62c-94c17161570a"
      },
      "source": [
        "#### Note: Cells which have '[A]' represents the activity you have to do."
      ]
    },
    {
      "cell_type": "code",
      "execution_count": 2,
      "id": "099de96b-4ddb-43dd-bc2e-a6e1c9aff5cd",
      "metadata": {
        "id": "099de96b-4ddb-43dd-bc2e-a6e1c9aff5cd"
      },
      "outputs": [],
      "source": [
        "# loading the 'df_1_lab_2.csv' csv data\n",
        "df = pd.read_csv(\"/content/df_1_lab_2.csv\")\n",
        "\n",
        "# This makes it so we are able to see 100 rows when displaying the data\n",
        "pd.set_option('display.max_rows', 100)"
      ]
    },
    {
      "cell_type": "code",
      "execution_count": 3,
      "id": "e38e652e-7a06-4096-97e8-f01bfb698735",
      "metadata": {
        "colab": {
          "base_uri": "https://localhost:8080/",
          "height": 206
        },
        "id": "e38e652e-7a06-4096-97e8-f01bfb698735",
        "outputId": "17fdb51e-bf47-4b34-87ae-5ae98a420c6a"
      },
      "outputs": [
        {
          "output_type": "execute_result",
          "data": {
            "text/plain": [
              "   Unnamed: 0 Examination Date                 Name  Gender  Age Mode  \\\n",
              "0           0       2011-06-10          Cody Watson    male   72    d   \n",
              "1           1       2011-02-20        Jonathan Duke    male    9    e   \n",
              "2           2       2011-06-27  Charlene Houseworth  female   59    f   \n",
              "3           3       2010-09-22        Gregory Curci    Male   23    g   \n",
              "4           4       2011-06-10          Cody Watson    male   72    d   \n",
              "\n",
              "                    Q        M1        DD Diagnosis  \n",
              "0                   _  5.058993  1.481877  negative  \n",
              "1  104.08763319576146  6.531724  2.266884  negative  \n",
              "2  102.90431521853222  6.273313  0.396333  positive  \n",
              "3  152.65165533060298  7.333626  0.557534  positive  \n",
              "4                   _  5.058993  1.481877  negative  "
            ],
            "text/html": [
              "\n",
              "  <div id=\"df-3d52d97c-6762-4db8-a013-d3f317eb1c10\">\n",
              "    <div class=\"colab-df-container\">\n",
              "      <div>\n",
              "<style scoped>\n",
              "    .dataframe tbody tr th:only-of-type {\n",
              "        vertical-align: middle;\n",
              "    }\n",
              "\n",
              "    .dataframe tbody tr th {\n",
              "        vertical-align: top;\n",
              "    }\n",
              "\n",
              "    .dataframe thead th {\n",
              "        text-align: right;\n",
              "    }\n",
              "</style>\n",
              "<table border=\"1\" class=\"dataframe\">\n",
              "  <thead>\n",
              "    <tr style=\"text-align: right;\">\n",
              "      <th></th>\n",
              "      <th>Unnamed: 0</th>\n",
              "      <th>Examination Date</th>\n",
              "      <th>Name</th>\n",
              "      <th>Gender</th>\n",
              "      <th>Age</th>\n",
              "      <th>Mode</th>\n",
              "      <th>Q</th>\n",
              "      <th>M1</th>\n",
              "      <th>DD</th>\n",
              "      <th>Diagnosis</th>\n",
              "    </tr>\n",
              "  </thead>\n",
              "  <tbody>\n",
              "    <tr>\n",
              "      <th>0</th>\n",
              "      <td>0</td>\n",
              "      <td>2011-06-10</td>\n",
              "      <td>Cody Watson</td>\n",
              "      <td>male</td>\n",
              "      <td>72</td>\n",
              "      <td>d</td>\n",
              "      <td>_</td>\n",
              "      <td>5.058993</td>\n",
              "      <td>1.481877</td>\n",
              "      <td>negative</td>\n",
              "    </tr>\n",
              "    <tr>\n",
              "      <th>1</th>\n",
              "      <td>1</td>\n",
              "      <td>2011-02-20</td>\n",
              "      <td>Jonathan Duke</td>\n",
              "      <td>male</td>\n",
              "      <td>9</td>\n",
              "      <td>e</td>\n",
              "      <td>104.08763319576146</td>\n",
              "      <td>6.531724</td>\n",
              "      <td>2.266884</td>\n",
              "      <td>negative</td>\n",
              "    </tr>\n",
              "    <tr>\n",
              "      <th>2</th>\n",
              "      <td>2</td>\n",
              "      <td>2011-06-27</td>\n",
              "      <td>Charlene Houseworth</td>\n",
              "      <td>female</td>\n",
              "      <td>59</td>\n",
              "      <td>f</td>\n",
              "      <td>102.90431521853222</td>\n",
              "      <td>6.273313</td>\n",
              "      <td>0.396333</td>\n",
              "      <td>positive</td>\n",
              "    </tr>\n",
              "    <tr>\n",
              "      <th>3</th>\n",
              "      <td>3</td>\n",
              "      <td>2010-09-22</td>\n",
              "      <td>Gregory Curci</td>\n",
              "      <td>Male</td>\n",
              "      <td>23</td>\n",
              "      <td>g</td>\n",
              "      <td>152.65165533060298</td>\n",
              "      <td>7.333626</td>\n",
              "      <td>0.557534</td>\n",
              "      <td>positive</td>\n",
              "    </tr>\n",
              "    <tr>\n",
              "      <th>4</th>\n",
              "      <td>4</td>\n",
              "      <td>2011-06-10</td>\n",
              "      <td>Cody Watson</td>\n",
              "      <td>male</td>\n",
              "      <td>72</td>\n",
              "      <td>d</td>\n",
              "      <td>_</td>\n",
              "      <td>5.058993</td>\n",
              "      <td>1.481877</td>\n",
              "      <td>negative</td>\n",
              "    </tr>\n",
              "  </tbody>\n",
              "</table>\n",
              "</div>\n",
              "      <button class=\"colab-df-convert\" onclick=\"convertToInteractive('df-3d52d97c-6762-4db8-a013-d3f317eb1c10')\"\n",
              "              title=\"Convert this dataframe to an interactive table.\"\n",
              "              style=\"display:none;\">\n",
              "        \n",
              "  <svg xmlns=\"http://www.w3.org/2000/svg\" height=\"24px\"viewBox=\"0 0 24 24\"\n",
              "       width=\"24px\">\n",
              "    <path d=\"M0 0h24v24H0V0z\" fill=\"none\"/>\n",
              "    <path d=\"M18.56 5.44l.94 2.06.94-2.06 2.06-.94-2.06-.94-.94-2.06-.94 2.06-2.06.94zm-11 1L8.5 8.5l.94-2.06 2.06-.94-2.06-.94L8.5 2.5l-.94 2.06-2.06.94zm10 10l.94 2.06.94-2.06 2.06-.94-2.06-.94-.94-2.06-.94 2.06-2.06.94z\"/><path d=\"M17.41 7.96l-1.37-1.37c-.4-.4-.92-.59-1.43-.59-.52 0-1.04.2-1.43.59L10.3 9.45l-7.72 7.72c-.78.78-.78 2.05 0 2.83L4 21.41c.39.39.9.59 1.41.59.51 0 1.02-.2 1.41-.59l7.78-7.78 2.81-2.81c.8-.78.8-2.07 0-2.86zM5.41 20L4 18.59l7.72-7.72 1.47 1.35L5.41 20z\"/>\n",
              "  </svg>\n",
              "      </button>\n",
              "      \n",
              "  <style>\n",
              "    .colab-df-container {\n",
              "      display:flex;\n",
              "      flex-wrap:wrap;\n",
              "      gap: 12px;\n",
              "    }\n",
              "\n",
              "    .colab-df-convert {\n",
              "      background-color: #E8F0FE;\n",
              "      border: none;\n",
              "      border-radius: 50%;\n",
              "      cursor: pointer;\n",
              "      display: none;\n",
              "      fill: #1967D2;\n",
              "      height: 32px;\n",
              "      padding: 0 0 0 0;\n",
              "      width: 32px;\n",
              "    }\n",
              "\n",
              "    .colab-df-convert:hover {\n",
              "      background-color: #E2EBFA;\n",
              "      box-shadow: 0px 1px 2px rgba(60, 64, 67, 0.3), 0px 1px 3px 1px rgba(60, 64, 67, 0.15);\n",
              "      fill: #174EA6;\n",
              "    }\n",
              "\n",
              "    [theme=dark] .colab-df-convert {\n",
              "      background-color: #3B4455;\n",
              "      fill: #D2E3FC;\n",
              "    }\n",
              "\n",
              "    [theme=dark] .colab-df-convert:hover {\n",
              "      background-color: #434B5C;\n",
              "      box-shadow: 0px 1px 3px 1px rgba(0, 0, 0, 0.15);\n",
              "      filter: drop-shadow(0px 1px 2px rgba(0, 0, 0, 0.3));\n",
              "      fill: #FFFFFF;\n",
              "    }\n",
              "  </style>\n",
              "\n",
              "      <script>\n",
              "        const buttonEl =\n",
              "          document.querySelector('#df-3d52d97c-6762-4db8-a013-d3f317eb1c10 button.colab-df-convert');\n",
              "        buttonEl.style.display =\n",
              "          google.colab.kernel.accessAllowed ? 'block' : 'none';\n",
              "\n",
              "        async function convertToInteractive(key) {\n",
              "          const element = document.querySelector('#df-3d52d97c-6762-4db8-a013-d3f317eb1c10');\n",
              "          const dataTable =\n",
              "            await google.colab.kernel.invokeFunction('convertToInteractive',\n",
              "                                                     [key], {});\n",
              "          if (!dataTable) return;\n",
              "\n",
              "          const docLinkHtml = 'Like what you see? Visit the ' +\n",
              "            '<a target=\"_blank\" href=https://colab.research.google.com/notebooks/data_table.ipynb>data table notebook</a>'\n",
              "            + ' to learn more about interactive tables.';\n",
              "          element.innerHTML = '';\n",
              "          dataTable['output_type'] = 'display_data';\n",
              "          await google.colab.output.renderOutput(dataTable, element);\n",
              "          const docLink = document.createElement('div');\n",
              "          docLink.innerHTML = docLinkHtml;\n",
              "          element.appendChild(docLink);\n",
              "        }\n",
              "      </script>\n",
              "    </div>\n",
              "  </div>\n",
              "  "
            ]
          },
          "metadata": {},
          "execution_count": 3
        }
      ],
      "source": [
        "df.head()"
      ]
    },
    {
      "cell_type": "markdown",
      "id": "2643083f-e93b-424e-8aca-48ac3f2ddfb1",
      "metadata": {
        "id": "2643083f-e93b-424e-8aca-48ac3f2ddfb1"
      },
      "source": [
        "## Looking at issues with the data"
      ]
    },
    {
      "cell_type": "markdown",
      "id": "325825fd-0727-46ad-9b06-f8b74ea7d4b1",
      "metadata": {
        "id": "325825fd-0727-46ad-9b06-f8b74ea7d4b1"
      },
      "source": [
        "##### Unique values of the `'Gender'` feature."
      ]
    },
    {
      "cell_type": "code",
      "execution_count": 4,
      "id": "9246d854-4fef-4018-a524-428b82fea07d",
      "metadata": {
        "colab": {
          "base_uri": "https://localhost:8080/"
        },
        "id": "9246d854-4fef-4018-a524-428b82fea07d",
        "outputId": "9f3216bc-8997-4c46-9ffc-b7427b382e96"
      },
      "outputs": [
        {
          "output_type": "execute_result",
          "data": {
            "text/plain": [
              "array(['male', 'female', 'Male', 'fmeale'], dtype=object)"
            ]
          },
          "metadata": {},
          "execution_count": 4
        }
      ],
      "source": [
        "df['Gender'].unique()"
      ]
    },
    {
      "cell_type": "markdown",
      "id": "2dc877ae-c027-4b99-b8ed-ece4e5aed0f3",
      "metadata": {
        "id": "2dc877ae-c027-4b99-b8ed-ece4e5aed0f3"
      },
      "source": [
        "##### Unique values of the `'Mode'` feature."
      ]
    },
    {
      "cell_type": "code",
      "execution_count": 5,
      "id": "857a2151-734f-44d1-9c85-4b15f0d8a2ff",
      "metadata": {
        "colab": {
          "base_uri": "https://localhost:8080/"
        },
        "id": "857a2151-734f-44d1-9c85-4b15f0d8a2ff",
        "outputId": "3cb54f5f-6e1b-483a-b089-1cca9ef830f6"
      },
      "outputs": [
        {
          "output_type": "execute_result",
          "data": {
            "text/plain": [
              "array(['d', 'e', 'f', 'g', '_', 'F', 'h', 'a'], dtype=object)"
            ]
          },
          "metadata": {},
          "execution_count": 5
        }
      ],
      "source": [
        "df['Mode'].unique()"
      ]
    },
    {
      "cell_type": "markdown",
      "id": "482ab25d-ca3a-41bd-a7b4-c9ad9ff9e5b6",
      "metadata": {
        "id": "482ab25d-ca3a-41bd-a7b4-c9ad9ff9e5b6"
      },
      "source": [
        "##### Observing the data types of each column."
      ]
    },
    {
      "cell_type": "code",
      "execution_count": 6,
      "id": "7169d1f6-c5a7-4d26-8a8f-86a559ddbdd0",
      "metadata": {
        "colab": {
          "base_uri": "https://localhost:8080/"
        },
        "id": "7169d1f6-c5a7-4d26-8a8f-86a559ddbdd0",
        "outputId": "db1fafb3-5133-4c2f-c070-a6aaeeba95d3"
      },
      "outputs": [
        {
          "output_type": "execute_result",
          "data": {
            "text/plain": [
              "Unnamed: 0            int64\n",
              "Examination Date     object\n",
              "Name                 object\n",
              "Gender               object\n",
              "Age                   int64\n",
              "Mode                 object\n",
              "Q                    object\n",
              "M1                  float64\n",
              "DD                  float64\n",
              "Diagnosis            object\n",
              "dtype: object"
            ]
          },
          "metadata": {},
          "execution_count": 6
        }
      ],
      "source": [
        "df.dtypes"
      ]
    },
    {
      "cell_type": "markdown",
      "id": "3481ed23-8708-4cea-8f74-df11767c121b",
      "metadata": {
        "tags": [],
        "id": "3481ed23-8708-4cea-8f74-df11767c121b"
      },
      "source": [
        "# Lab Activity One: Guided Data Cleaning"
      ]
    },
    {
      "cell_type": "markdown",
      "id": "7282dd57-0fd1-49a6-a2f2-299deb38be8d",
      "metadata": {
        "id": "7282dd57-0fd1-49a6-a2f2-299deb38be8d"
      },
      "source": [
        "##### It is generally a good idea to make a copy of the master dataset for cleaning so you can always go back if ever needed."
      ]
    },
    {
      "cell_type": "code",
      "execution_count": 7,
      "id": "da4d0df0-9264-4a0c-a047-d30d4d889e74",
      "metadata": {
        "id": "da4d0df0-9264-4a0c-a047-d30d4d889e74"
      },
      "outputs": [],
      "source": [
        "df_clean = df.copy()"
      ]
    },
    {
      "cell_type": "markdown",
      "id": "1a63c897-6a07-4864-9fa5-8b5a61b115c5",
      "metadata": {
        "id": "1a63c897-6a07-4864-9fa5-8b5a61b115c5"
      },
      "source": [
        "##### [A] Drop the `'Unnamed: 0'` column"
      ]
    },
    {
      "cell_type": "code",
      "execution_count": 8,
      "id": "41fce1a1-2d8b-4c0d-b6cd-8e412f97d98e",
      "metadata": {
        "id": "41fce1a1-2d8b-4c0d-b6cd-8e412f97d98e"
      },
      "outputs": [],
      "source": [
        "df_clean=df_clean.drop('Unnamed: 0', axis=1)"
      ]
    },
    {
      "cell_type": "markdown",
      "id": "7e0253c0-eff7-447b-bd07-2d562f7c4cf7",
      "metadata": {
        "id": "7e0253c0-eff7-447b-bd07-2d562f7c4cf7"
      },
      "source": [
        "##### [A] Fix the data in the `'Gender'` column. \n",
        "> Hint: make it so there are 2 unique entries, `'male'` and `'female'`."
      ]
    },
    {
      "cell_type": "code",
      "execution_count": 9,
      "id": "9a064b77-b84b-4ac3-974a-bef38f318d1e",
      "metadata": {
        "colab": {
          "base_uri": "https://localhost:8080/",
          "height": 363
        },
        "id": "9a064b77-b84b-4ac3-974a-bef38f318d1e",
        "outputId": "ecb69dea-7715-4416-800c-b3d730d5a7e0"
      },
      "outputs": [
        {
          "output_type": "execute_result",
          "data": {
            "text/plain": [
              "  Examination Date                 Name  Gender  Age Mode                   Q  \\\n",
              "0       2011-06-10          Cody Watson    male   72    d                   _   \n",
              "1       2011-02-20        Jonathan Duke    male    9    e  104.08763319576146   \n",
              "2       2011-06-27  Charlene Houseworth  female   59    f  102.90431521853222   \n",
              "3       2010-09-22        Gregory Curci    male   23    g  152.65165533060298   \n",
              "4       2011-06-10          Cody Watson    male   72    d                   _   \n",
              "5       2011-07-21        Linda Sawicki  female   17    g   67.23905430892725   \n",
              "6       2011-05-06          Ruth Morgan  female   19    _   54.05030860320375   \n",
              "7       2011-07-05         Shane Acosta    male    5    f   47.04644557435022   \n",
              "8       2010-10-31          Tania Fuoco  female   41    f                   _   \n",
              "9       2011-05-01    Arla Czachorowski  female   36    f  109.64572405866217   \n",
              "\n",
              "         M1        DD Diagnosis  \n",
              "0  5.058993  1.481877  negative  \n",
              "1  6.531724  2.266884  negative  \n",
              "2  6.273313  0.396333  positive  \n",
              "3  7.333626  0.557534  positive  \n",
              "4  5.058993  1.481877  negative  \n",
              "5  3.642516  3.765706  positive  \n",
              "6  7.193318 -0.173915         _  \n",
              "7  4.808863  6.446874  negative  \n",
              "8  7.637614 -0.655884  negative  \n",
              "9  7.006120  2.405082  negative  "
            ],
            "text/html": [
              "\n",
              "  <div id=\"df-42f073a0-846f-484b-9235-8e0df9aff166\">\n",
              "    <div class=\"colab-df-container\">\n",
              "      <div>\n",
              "<style scoped>\n",
              "    .dataframe tbody tr th:only-of-type {\n",
              "        vertical-align: middle;\n",
              "    }\n",
              "\n",
              "    .dataframe tbody tr th {\n",
              "        vertical-align: top;\n",
              "    }\n",
              "\n",
              "    .dataframe thead th {\n",
              "        text-align: right;\n",
              "    }\n",
              "</style>\n",
              "<table border=\"1\" class=\"dataframe\">\n",
              "  <thead>\n",
              "    <tr style=\"text-align: right;\">\n",
              "      <th></th>\n",
              "      <th>Examination Date</th>\n",
              "      <th>Name</th>\n",
              "      <th>Gender</th>\n",
              "      <th>Age</th>\n",
              "      <th>Mode</th>\n",
              "      <th>Q</th>\n",
              "      <th>M1</th>\n",
              "      <th>DD</th>\n",
              "      <th>Diagnosis</th>\n",
              "    </tr>\n",
              "  </thead>\n",
              "  <tbody>\n",
              "    <tr>\n",
              "      <th>0</th>\n",
              "      <td>2011-06-10</td>\n",
              "      <td>Cody Watson</td>\n",
              "      <td>male</td>\n",
              "      <td>72</td>\n",
              "      <td>d</td>\n",
              "      <td>_</td>\n",
              "      <td>5.058993</td>\n",
              "      <td>1.481877</td>\n",
              "      <td>negative</td>\n",
              "    </tr>\n",
              "    <tr>\n",
              "      <th>1</th>\n",
              "      <td>2011-02-20</td>\n",
              "      <td>Jonathan Duke</td>\n",
              "      <td>male</td>\n",
              "      <td>9</td>\n",
              "      <td>e</td>\n",
              "      <td>104.08763319576146</td>\n",
              "      <td>6.531724</td>\n",
              "      <td>2.266884</td>\n",
              "      <td>negative</td>\n",
              "    </tr>\n",
              "    <tr>\n",
              "      <th>2</th>\n",
              "      <td>2011-06-27</td>\n",
              "      <td>Charlene Houseworth</td>\n",
              "      <td>female</td>\n",
              "      <td>59</td>\n",
              "      <td>f</td>\n",
              "      <td>102.90431521853222</td>\n",
              "      <td>6.273313</td>\n",
              "      <td>0.396333</td>\n",
              "      <td>positive</td>\n",
              "    </tr>\n",
              "    <tr>\n",
              "      <th>3</th>\n",
              "      <td>2010-09-22</td>\n",
              "      <td>Gregory Curci</td>\n",
              "      <td>male</td>\n",
              "      <td>23</td>\n",
              "      <td>g</td>\n",
              "      <td>152.65165533060298</td>\n",
              "      <td>7.333626</td>\n",
              "      <td>0.557534</td>\n",
              "      <td>positive</td>\n",
              "    </tr>\n",
              "    <tr>\n",
              "      <th>4</th>\n",
              "      <td>2011-06-10</td>\n",
              "      <td>Cody Watson</td>\n",
              "      <td>male</td>\n",
              "      <td>72</td>\n",
              "      <td>d</td>\n",
              "      <td>_</td>\n",
              "      <td>5.058993</td>\n",
              "      <td>1.481877</td>\n",
              "      <td>negative</td>\n",
              "    </tr>\n",
              "    <tr>\n",
              "      <th>5</th>\n",
              "      <td>2011-07-21</td>\n",
              "      <td>Linda Sawicki</td>\n",
              "      <td>female</td>\n",
              "      <td>17</td>\n",
              "      <td>g</td>\n",
              "      <td>67.23905430892725</td>\n",
              "      <td>3.642516</td>\n",
              "      <td>3.765706</td>\n",
              "      <td>positive</td>\n",
              "    </tr>\n",
              "    <tr>\n",
              "      <th>6</th>\n",
              "      <td>2011-05-06</td>\n",
              "      <td>Ruth Morgan</td>\n",
              "      <td>female</td>\n",
              "      <td>19</td>\n",
              "      <td>_</td>\n",
              "      <td>54.05030860320375</td>\n",
              "      <td>7.193318</td>\n",
              "      <td>-0.173915</td>\n",
              "      <td>_</td>\n",
              "    </tr>\n",
              "    <tr>\n",
              "      <th>7</th>\n",
              "      <td>2011-07-05</td>\n",
              "      <td>Shane Acosta</td>\n",
              "      <td>male</td>\n",
              "      <td>5</td>\n",
              "      <td>f</td>\n",
              "      <td>47.04644557435022</td>\n",
              "      <td>4.808863</td>\n",
              "      <td>6.446874</td>\n",
              "      <td>negative</td>\n",
              "    </tr>\n",
              "    <tr>\n",
              "      <th>8</th>\n",
              "      <td>2010-10-31</td>\n",
              "      <td>Tania Fuoco</td>\n",
              "      <td>female</td>\n",
              "      <td>41</td>\n",
              "      <td>f</td>\n",
              "      <td>_</td>\n",
              "      <td>7.637614</td>\n",
              "      <td>-0.655884</td>\n",
              "      <td>negative</td>\n",
              "    </tr>\n",
              "    <tr>\n",
              "      <th>9</th>\n",
              "      <td>2011-05-01</td>\n",
              "      <td>Arla Czachorowski</td>\n",
              "      <td>female</td>\n",
              "      <td>36</td>\n",
              "      <td>f</td>\n",
              "      <td>109.64572405866217</td>\n",
              "      <td>7.006120</td>\n",
              "      <td>2.405082</td>\n",
              "      <td>negative</td>\n",
              "    </tr>\n",
              "  </tbody>\n",
              "</table>\n",
              "</div>\n",
              "      <button class=\"colab-df-convert\" onclick=\"convertToInteractive('df-42f073a0-846f-484b-9235-8e0df9aff166')\"\n",
              "              title=\"Convert this dataframe to an interactive table.\"\n",
              "              style=\"display:none;\">\n",
              "        \n",
              "  <svg xmlns=\"http://www.w3.org/2000/svg\" height=\"24px\"viewBox=\"0 0 24 24\"\n",
              "       width=\"24px\">\n",
              "    <path d=\"M0 0h24v24H0V0z\" fill=\"none\"/>\n",
              "    <path d=\"M18.56 5.44l.94 2.06.94-2.06 2.06-.94-2.06-.94-.94-2.06-.94 2.06-2.06.94zm-11 1L8.5 8.5l.94-2.06 2.06-.94-2.06-.94L8.5 2.5l-.94 2.06-2.06.94zm10 10l.94 2.06.94-2.06 2.06-.94-2.06-.94-.94-2.06-.94 2.06-2.06.94z\"/><path d=\"M17.41 7.96l-1.37-1.37c-.4-.4-.92-.59-1.43-.59-.52 0-1.04.2-1.43.59L10.3 9.45l-7.72 7.72c-.78.78-.78 2.05 0 2.83L4 21.41c.39.39.9.59 1.41.59.51 0 1.02-.2 1.41-.59l7.78-7.78 2.81-2.81c.8-.78.8-2.07 0-2.86zM5.41 20L4 18.59l7.72-7.72 1.47 1.35L5.41 20z\"/>\n",
              "  </svg>\n",
              "      </button>\n",
              "      \n",
              "  <style>\n",
              "    .colab-df-container {\n",
              "      display:flex;\n",
              "      flex-wrap:wrap;\n",
              "      gap: 12px;\n",
              "    }\n",
              "\n",
              "    .colab-df-convert {\n",
              "      background-color: #E8F0FE;\n",
              "      border: none;\n",
              "      border-radius: 50%;\n",
              "      cursor: pointer;\n",
              "      display: none;\n",
              "      fill: #1967D2;\n",
              "      height: 32px;\n",
              "      padding: 0 0 0 0;\n",
              "      width: 32px;\n",
              "    }\n",
              "\n",
              "    .colab-df-convert:hover {\n",
              "      background-color: #E2EBFA;\n",
              "      box-shadow: 0px 1px 2px rgba(60, 64, 67, 0.3), 0px 1px 3px 1px rgba(60, 64, 67, 0.15);\n",
              "      fill: #174EA6;\n",
              "    }\n",
              "\n",
              "    [theme=dark] .colab-df-convert {\n",
              "      background-color: #3B4455;\n",
              "      fill: #D2E3FC;\n",
              "    }\n",
              "\n",
              "    [theme=dark] .colab-df-convert:hover {\n",
              "      background-color: #434B5C;\n",
              "      box-shadow: 0px 1px 3px 1px rgba(0, 0, 0, 0.15);\n",
              "      filter: drop-shadow(0px 1px 2px rgba(0, 0, 0, 0.3));\n",
              "      fill: #FFFFFF;\n",
              "    }\n",
              "  </style>\n",
              "\n",
              "      <script>\n",
              "        const buttonEl =\n",
              "          document.querySelector('#df-42f073a0-846f-484b-9235-8e0df9aff166 button.colab-df-convert');\n",
              "        buttonEl.style.display =\n",
              "          google.colab.kernel.accessAllowed ? 'block' : 'none';\n",
              "\n",
              "        async function convertToInteractive(key) {\n",
              "          const element = document.querySelector('#df-42f073a0-846f-484b-9235-8e0df9aff166');\n",
              "          const dataTable =\n",
              "            await google.colab.kernel.invokeFunction('convertToInteractive',\n",
              "                                                     [key], {});\n",
              "          if (!dataTable) return;\n",
              "\n",
              "          const docLinkHtml = 'Like what you see? Visit the ' +\n",
              "            '<a target=\"_blank\" href=https://colab.research.google.com/notebooks/data_table.ipynb>data table notebook</a>'\n",
              "            + ' to learn more about interactive tables.';\n",
              "          element.innerHTML = '';\n",
              "          dataTable['output_type'] = 'display_data';\n",
              "          await google.colab.output.renderOutput(dataTable, element);\n",
              "          const docLink = document.createElement('div');\n",
              "          docLink.innerHTML = docLinkHtml;\n",
              "          element.appendChild(docLink);\n",
              "        }\n",
              "      </script>\n",
              "    </div>\n",
              "  </div>\n",
              "  "
            ]
          },
          "metadata": {},
          "execution_count": 9
        }
      ],
      "source": [
        "df_clean.replace(to_replace=\"fmeale\", value=\"female\",inplace=True)\n",
        "df_clean.replace(to_replace=\"Male\", value=\"male\", inplace=True)\n",
        "df_clean.head(10)"
      ]
    },
    {
      "cell_type": "markdown",
      "id": "69ae9177-eceb-4977-8227-d9906cf5b7f0",
      "metadata": {
        "id": "69ae9177-eceb-4977-8227-d9906cf5b7f0"
      },
      "source": [
        "##### [A] Fix the data in the `'Mode'` column. \n",
        "> Hint: Check for lower and upper case entries"
      ]
    },
    {
      "cell_type": "code",
      "execution_count": 10,
      "id": "82765794-8a9a-46bb-895b-76b427dcd63b",
      "metadata": {
        "colab": {
          "base_uri": "https://localhost:8080/",
          "height": 363
        },
        "id": "82765794-8a9a-46bb-895b-76b427dcd63b",
        "outputId": "c6845dc2-86b6-41d2-9f43-62bc62f7a25f"
      },
      "outputs": [
        {
          "output_type": "execute_result",
          "data": {
            "text/plain": [
              "  Examination Date                 Name  Gender  Age Mode                   Q  \\\n",
              "0       2011-06-10          Cody Watson    male   72    d                   _   \n",
              "1       2011-02-20        Jonathan Duke    male    9    e  104.08763319576146   \n",
              "2       2011-06-27  Charlene Houseworth  female   59    f  102.90431521853222   \n",
              "3       2010-09-22        Gregory Curci    male   23    g  152.65165533060298   \n",
              "4       2011-06-10          Cody Watson    male   72    d                   _   \n",
              "5       2011-07-21        Linda Sawicki  female   17    g   67.23905430892725   \n",
              "6       2011-05-06          Ruth Morgan  female   19    _   54.05030860320375   \n",
              "7       2011-07-05         Shane Acosta    male    5    f   47.04644557435022   \n",
              "8       2010-10-31          Tania Fuoco  female   41    f                   _   \n",
              "9       2011-05-01    Arla Czachorowski  female   36    f  109.64572405866217   \n",
              "\n",
              "         M1        DD Diagnosis  \n",
              "0  5.058993  1.481877  negative  \n",
              "1  6.531724  2.266884  negative  \n",
              "2  6.273313  0.396333  positive  \n",
              "3  7.333626  0.557534  positive  \n",
              "4  5.058993  1.481877  negative  \n",
              "5  3.642516  3.765706  positive  \n",
              "6  7.193318 -0.173915         _  \n",
              "7  4.808863  6.446874  negative  \n",
              "8  7.637614 -0.655884  negative  \n",
              "9  7.006120  2.405082  negative  "
            ],
            "text/html": [
              "\n",
              "  <div id=\"df-2c59baf7-2ef1-431a-8bef-093d0ab0b8e6\">\n",
              "    <div class=\"colab-df-container\">\n",
              "      <div>\n",
              "<style scoped>\n",
              "    .dataframe tbody tr th:only-of-type {\n",
              "        vertical-align: middle;\n",
              "    }\n",
              "\n",
              "    .dataframe tbody tr th {\n",
              "        vertical-align: top;\n",
              "    }\n",
              "\n",
              "    .dataframe thead th {\n",
              "        text-align: right;\n",
              "    }\n",
              "</style>\n",
              "<table border=\"1\" class=\"dataframe\">\n",
              "  <thead>\n",
              "    <tr style=\"text-align: right;\">\n",
              "      <th></th>\n",
              "      <th>Examination Date</th>\n",
              "      <th>Name</th>\n",
              "      <th>Gender</th>\n",
              "      <th>Age</th>\n",
              "      <th>Mode</th>\n",
              "      <th>Q</th>\n",
              "      <th>M1</th>\n",
              "      <th>DD</th>\n",
              "      <th>Diagnosis</th>\n",
              "    </tr>\n",
              "  </thead>\n",
              "  <tbody>\n",
              "    <tr>\n",
              "      <th>0</th>\n",
              "      <td>2011-06-10</td>\n",
              "      <td>Cody Watson</td>\n",
              "      <td>male</td>\n",
              "      <td>72</td>\n",
              "      <td>d</td>\n",
              "      <td>_</td>\n",
              "      <td>5.058993</td>\n",
              "      <td>1.481877</td>\n",
              "      <td>negative</td>\n",
              "    </tr>\n",
              "    <tr>\n",
              "      <th>1</th>\n",
              "      <td>2011-02-20</td>\n",
              "      <td>Jonathan Duke</td>\n",
              "      <td>male</td>\n",
              "      <td>9</td>\n",
              "      <td>e</td>\n",
              "      <td>104.08763319576146</td>\n",
              "      <td>6.531724</td>\n",
              "      <td>2.266884</td>\n",
              "      <td>negative</td>\n",
              "    </tr>\n",
              "    <tr>\n",
              "      <th>2</th>\n",
              "      <td>2011-06-27</td>\n",
              "      <td>Charlene Houseworth</td>\n",
              "      <td>female</td>\n",
              "      <td>59</td>\n",
              "      <td>f</td>\n",
              "      <td>102.90431521853222</td>\n",
              "      <td>6.273313</td>\n",
              "      <td>0.396333</td>\n",
              "      <td>positive</td>\n",
              "    </tr>\n",
              "    <tr>\n",
              "      <th>3</th>\n",
              "      <td>2010-09-22</td>\n",
              "      <td>Gregory Curci</td>\n",
              "      <td>male</td>\n",
              "      <td>23</td>\n",
              "      <td>g</td>\n",
              "      <td>152.65165533060298</td>\n",
              "      <td>7.333626</td>\n",
              "      <td>0.557534</td>\n",
              "      <td>positive</td>\n",
              "    </tr>\n",
              "    <tr>\n",
              "      <th>4</th>\n",
              "      <td>2011-06-10</td>\n",
              "      <td>Cody Watson</td>\n",
              "      <td>male</td>\n",
              "      <td>72</td>\n",
              "      <td>d</td>\n",
              "      <td>_</td>\n",
              "      <td>5.058993</td>\n",
              "      <td>1.481877</td>\n",
              "      <td>negative</td>\n",
              "    </tr>\n",
              "    <tr>\n",
              "      <th>5</th>\n",
              "      <td>2011-07-21</td>\n",
              "      <td>Linda Sawicki</td>\n",
              "      <td>female</td>\n",
              "      <td>17</td>\n",
              "      <td>g</td>\n",
              "      <td>67.23905430892725</td>\n",
              "      <td>3.642516</td>\n",
              "      <td>3.765706</td>\n",
              "      <td>positive</td>\n",
              "    </tr>\n",
              "    <tr>\n",
              "      <th>6</th>\n",
              "      <td>2011-05-06</td>\n",
              "      <td>Ruth Morgan</td>\n",
              "      <td>female</td>\n",
              "      <td>19</td>\n",
              "      <td>_</td>\n",
              "      <td>54.05030860320375</td>\n",
              "      <td>7.193318</td>\n",
              "      <td>-0.173915</td>\n",
              "      <td>_</td>\n",
              "    </tr>\n",
              "    <tr>\n",
              "      <th>7</th>\n",
              "      <td>2011-07-05</td>\n",
              "      <td>Shane Acosta</td>\n",
              "      <td>male</td>\n",
              "      <td>5</td>\n",
              "      <td>f</td>\n",
              "      <td>47.04644557435022</td>\n",
              "      <td>4.808863</td>\n",
              "      <td>6.446874</td>\n",
              "      <td>negative</td>\n",
              "    </tr>\n",
              "    <tr>\n",
              "      <th>8</th>\n",
              "      <td>2010-10-31</td>\n",
              "      <td>Tania Fuoco</td>\n",
              "      <td>female</td>\n",
              "      <td>41</td>\n",
              "      <td>f</td>\n",
              "      <td>_</td>\n",
              "      <td>7.637614</td>\n",
              "      <td>-0.655884</td>\n",
              "      <td>negative</td>\n",
              "    </tr>\n",
              "    <tr>\n",
              "      <th>9</th>\n",
              "      <td>2011-05-01</td>\n",
              "      <td>Arla Czachorowski</td>\n",
              "      <td>female</td>\n",
              "      <td>36</td>\n",
              "      <td>f</td>\n",
              "      <td>109.64572405866217</td>\n",
              "      <td>7.006120</td>\n",
              "      <td>2.405082</td>\n",
              "      <td>negative</td>\n",
              "    </tr>\n",
              "  </tbody>\n",
              "</table>\n",
              "</div>\n",
              "      <button class=\"colab-df-convert\" onclick=\"convertToInteractive('df-2c59baf7-2ef1-431a-8bef-093d0ab0b8e6')\"\n",
              "              title=\"Convert this dataframe to an interactive table.\"\n",
              "              style=\"display:none;\">\n",
              "        \n",
              "  <svg xmlns=\"http://www.w3.org/2000/svg\" height=\"24px\"viewBox=\"0 0 24 24\"\n",
              "       width=\"24px\">\n",
              "    <path d=\"M0 0h24v24H0V0z\" fill=\"none\"/>\n",
              "    <path d=\"M18.56 5.44l.94 2.06.94-2.06 2.06-.94-2.06-.94-.94-2.06-.94 2.06-2.06.94zm-11 1L8.5 8.5l.94-2.06 2.06-.94-2.06-.94L8.5 2.5l-.94 2.06-2.06.94zm10 10l.94 2.06.94-2.06 2.06-.94-2.06-.94-.94-2.06-.94 2.06-2.06.94z\"/><path d=\"M17.41 7.96l-1.37-1.37c-.4-.4-.92-.59-1.43-.59-.52 0-1.04.2-1.43.59L10.3 9.45l-7.72 7.72c-.78.78-.78 2.05 0 2.83L4 21.41c.39.39.9.59 1.41.59.51 0 1.02-.2 1.41-.59l7.78-7.78 2.81-2.81c.8-.78.8-2.07 0-2.86zM5.41 20L4 18.59l7.72-7.72 1.47 1.35L5.41 20z\"/>\n",
              "  </svg>\n",
              "      </button>\n",
              "      \n",
              "  <style>\n",
              "    .colab-df-container {\n",
              "      display:flex;\n",
              "      flex-wrap:wrap;\n",
              "      gap: 12px;\n",
              "    }\n",
              "\n",
              "    .colab-df-convert {\n",
              "      background-color: #E8F0FE;\n",
              "      border: none;\n",
              "      border-radius: 50%;\n",
              "      cursor: pointer;\n",
              "      display: none;\n",
              "      fill: #1967D2;\n",
              "      height: 32px;\n",
              "      padding: 0 0 0 0;\n",
              "      width: 32px;\n",
              "    }\n",
              "\n",
              "    .colab-df-convert:hover {\n",
              "      background-color: #E2EBFA;\n",
              "      box-shadow: 0px 1px 2px rgba(60, 64, 67, 0.3), 0px 1px 3px 1px rgba(60, 64, 67, 0.15);\n",
              "      fill: #174EA6;\n",
              "    }\n",
              "\n",
              "    [theme=dark] .colab-df-convert {\n",
              "      background-color: #3B4455;\n",
              "      fill: #D2E3FC;\n",
              "    }\n",
              "\n",
              "    [theme=dark] .colab-df-convert:hover {\n",
              "      background-color: #434B5C;\n",
              "      box-shadow: 0px 1px 3px 1px rgba(0, 0, 0, 0.15);\n",
              "      filter: drop-shadow(0px 1px 2px rgba(0, 0, 0, 0.3));\n",
              "      fill: #FFFFFF;\n",
              "    }\n",
              "  </style>\n",
              "\n",
              "      <script>\n",
              "        const buttonEl =\n",
              "          document.querySelector('#df-2c59baf7-2ef1-431a-8bef-093d0ab0b8e6 button.colab-df-convert');\n",
              "        buttonEl.style.display =\n",
              "          google.colab.kernel.accessAllowed ? 'block' : 'none';\n",
              "\n",
              "        async function convertToInteractive(key) {\n",
              "          const element = document.querySelector('#df-2c59baf7-2ef1-431a-8bef-093d0ab0b8e6');\n",
              "          const dataTable =\n",
              "            await google.colab.kernel.invokeFunction('convertToInteractive',\n",
              "                                                     [key], {});\n",
              "          if (!dataTable) return;\n",
              "\n",
              "          const docLinkHtml = 'Like what you see? Visit the ' +\n",
              "            '<a target=\"_blank\" href=https://colab.research.google.com/notebooks/data_table.ipynb>data table notebook</a>'\n",
              "            + ' to learn more about interactive tables.';\n",
              "          element.innerHTML = '';\n",
              "          dataTable['output_type'] = 'display_data';\n",
              "          await google.colab.output.renderOutput(dataTable, element);\n",
              "          const docLink = document.createElement('div');\n",
              "          docLink.innerHTML = docLinkHtml;\n",
              "          element.appendChild(docLink);\n",
              "        }\n",
              "      </script>\n",
              "    </div>\n",
              "  </div>\n",
              "  "
            ]
          },
          "metadata": {},
          "execution_count": 10
        }
      ],
      "source": [
        "df_clean[\"Mode\"].str.lower()\n",
        "df_clean.head(10)"
      ]
    },
    {
      "cell_type": "markdown",
      "id": "48d322d7-bc39-4be1-935e-0d3c81f31213",
      "metadata": {
        "id": "48d322d7-bc39-4be1-935e-0d3c81f31213"
      },
      "source": [
        "### Setting The Correct Data Type"
      ]
    },
    {
      "cell_type": "markdown",
      "id": "4034b5b1-21d2-4aad-a413-dcfe508e0035",
      "metadata": {
        "id": "4034b5b1-21d2-4aad-a413-dcfe508e0035"
      },
      "source": [
        "##### [A] Change the `'Q'` column to numeric data `type(float64)` instead of `'object'`."
      ]
    },
    {
      "cell_type": "code",
      "execution_count": 11,
      "id": "dc20030a-b154-4ca2-ab67-6cf17524a670",
      "metadata": {
        "colab": {
          "base_uri": "https://localhost:8080/",
          "height": 363
        },
        "id": "dc20030a-b154-4ca2-ab67-6cf17524a670",
        "outputId": "3ace88e1-6c4c-4eea-bf08-035c5aece091"
      },
      "outputs": [
        {
          "output_type": "execute_result",
          "data": {
            "text/plain": [
              "  Examination Date                 Name  Gender  Age Mode           Q  \\\n",
              "0       2011-06-10          Cody Watson    male   72    d         NaN   \n",
              "1       2011-02-20        Jonathan Duke    male    9    e  104.087633   \n",
              "2       2011-06-27  Charlene Houseworth  female   59    f  102.904315   \n",
              "3       2010-09-22        Gregory Curci    male   23    g  152.651655   \n",
              "4       2011-06-10          Cody Watson    male   72    d         NaN   \n",
              "5       2011-07-21        Linda Sawicki  female   17    g   67.239054   \n",
              "6       2011-05-06          Ruth Morgan  female   19    _   54.050309   \n",
              "7       2011-07-05         Shane Acosta    male    5    f   47.046446   \n",
              "8       2010-10-31          Tania Fuoco  female   41    f         NaN   \n",
              "9       2011-05-01    Arla Czachorowski  female   36    f  109.645724   \n",
              "\n",
              "         M1        DD Diagnosis  \n",
              "0  5.058993  1.481877  negative  \n",
              "1  6.531724  2.266884  negative  \n",
              "2  6.273313  0.396333  positive  \n",
              "3  7.333626  0.557534  positive  \n",
              "4  5.058993  1.481877  negative  \n",
              "5  3.642516  3.765706  positive  \n",
              "6  7.193318 -0.173915         _  \n",
              "7  4.808863  6.446874  negative  \n",
              "8  7.637614 -0.655884  negative  \n",
              "9  7.006120  2.405082  negative  "
            ],
            "text/html": [
              "\n",
              "  <div id=\"df-3bf8f487-9ed1-4193-a8c2-7a47784414d7\">\n",
              "    <div class=\"colab-df-container\">\n",
              "      <div>\n",
              "<style scoped>\n",
              "    .dataframe tbody tr th:only-of-type {\n",
              "        vertical-align: middle;\n",
              "    }\n",
              "\n",
              "    .dataframe tbody tr th {\n",
              "        vertical-align: top;\n",
              "    }\n",
              "\n",
              "    .dataframe thead th {\n",
              "        text-align: right;\n",
              "    }\n",
              "</style>\n",
              "<table border=\"1\" class=\"dataframe\">\n",
              "  <thead>\n",
              "    <tr style=\"text-align: right;\">\n",
              "      <th></th>\n",
              "      <th>Examination Date</th>\n",
              "      <th>Name</th>\n",
              "      <th>Gender</th>\n",
              "      <th>Age</th>\n",
              "      <th>Mode</th>\n",
              "      <th>Q</th>\n",
              "      <th>M1</th>\n",
              "      <th>DD</th>\n",
              "      <th>Diagnosis</th>\n",
              "    </tr>\n",
              "  </thead>\n",
              "  <tbody>\n",
              "    <tr>\n",
              "      <th>0</th>\n",
              "      <td>2011-06-10</td>\n",
              "      <td>Cody Watson</td>\n",
              "      <td>male</td>\n",
              "      <td>72</td>\n",
              "      <td>d</td>\n",
              "      <td>NaN</td>\n",
              "      <td>5.058993</td>\n",
              "      <td>1.481877</td>\n",
              "      <td>negative</td>\n",
              "    </tr>\n",
              "    <tr>\n",
              "      <th>1</th>\n",
              "      <td>2011-02-20</td>\n",
              "      <td>Jonathan Duke</td>\n",
              "      <td>male</td>\n",
              "      <td>9</td>\n",
              "      <td>e</td>\n",
              "      <td>104.087633</td>\n",
              "      <td>6.531724</td>\n",
              "      <td>2.266884</td>\n",
              "      <td>negative</td>\n",
              "    </tr>\n",
              "    <tr>\n",
              "      <th>2</th>\n",
              "      <td>2011-06-27</td>\n",
              "      <td>Charlene Houseworth</td>\n",
              "      <td>female</td>\n",
              "      <td>59</td>\n",
              "      <td>f</td>\n",
              "      <td>102.904315</td>\n",
              "      <td>6.273313</td>\n",
              "      <td>0.396333</td>\n",
              "      <td>positive</td>\n",
              "    </tr>\n",
              "    <tr>\n",
              "      <th>3</th>\n",
              "      <td>2010-09-22</td>\n",
              "      <td>Gregory Curci</td>\n",
              "      <td>male</td>\n",
              "      <td>23</td>\n",
              "      <td>g</td>\n",
              "      <td>152.651655</td>\n",
              "      <td>7.333626</td>\n",
              "      <td>0.557534</td>\n",
              "      <td>positive</td>\n",
              "    </tr>\n",
              "    <tr>\n",
              "      <th>4</th>\n",
              "      <td>2011-06-10</td>\n",
              "      <td>Cody Watson</td>\n",
              "      <td>male</td>\n",
              "      <td>72</td>\n",
              "      <td>d</td>\n",
              "      <td>NaN</td>\n",
              "      <td>5.058993</td>\n",
              "      <td>1.481877</td>\n",
              "      <td>negative</td>\n",
              "    </tr>\n",
              "    <tr>\n",
              "      <th>5</th>\n",
              "      <td>2011-07-21</td>\n",
              "      <td>Linda Sawicki</td>\n",
              "      <td>female</td>\n",
              "      <td>17</td>\n",
              "      <td>g</td>\n",
              "      <td>67.239054</td>\n",
              "      <td>3.642516</td>\n",
              "      <td>3.765706</td>\n",
              "      <td>positive</td>\n",
              "    </tr>\n",
              "    <tr>\n",
              "      <th>6</th>\n",
              "      <td>2011-05-06</td>\n",
              "      <td>Ruth Morgan</td>\n",
              "      <td>female</td>\n",
              "      <td>19</td>\n",
              "      <td>_</td>\n",
              "      <td>54.050309</td>\n",
              "      <td>7.193318</td>\n",
              "      <td>-0.173915</td>\n",
              "      <td>_</td>\n",
              "    </tr>\n",
              "    <tr>\n",
              "      <th>7</th>\n",
              "      <td>2011-07-05</td>\n",
              "      <td>Shane Acosta</td>\n",
              "      <td>male</td>\n",
              "      <td>5</td>\n",
              "      <td>f</td>\n",
              "      <td>47.046446</td>\n",
              "      <td>4.808863</td>\n",
              "      <td>6.446874</td>\n",
              "      <td>negative</td>\n",
              "    </tr>\n",
              "    <tr>\n",
              "      <th>8</th>\n",
              "      <td>2010-10-31</td>\n",
              "      <td>Tania Fuoco</td>\n",
              "      <td>female</td>\n",
              "      <td>41</td>\n",
              "      <td>f</td>\n",
              "      <td>NaN</td>\n",
              "      <td>7.637614</td>\n",
              "      <td>-0.655884</td>\n",
              "      <td>negative</td>\n",
              "    </tr>\n",
              "    <tr>\n",
              "      <th>9</th>\n",
              "      <td>2011-05-01</td>\n",
              "      <td>Arla Czachorowski</td>\n",
              "      <td>female</td>\n",
              "      <td>36</td>\n",
              "      <td>f</td>\n",
              "      <td>109.645724</td>\n",
              "      <td>7.006120</td>\n",
              "      <td>2.405082</td>\n",
              "      <td>negative</td>\n",
              "    </tr>\n",
              "  </tbody>\n",
              "</table>\n",
              "</div>\n",
              "      <button class=\"colab-df-convert\" onclick=\"convertToInteractive('df-3bf8f487-9ed1-4193-a8c2-7a47784414d7')\"\n",
              "              title=\"Convert this dataframe to an interactive table.\"\n",
              "              style=\"display:none;\">\n",
              "        \n",
              "  <svg xmlns=\"http://www.w3.org/2000/svg\" height=\"24px\"viewBox=\"0 0 24 24\"\n",
              "       width=\"24px\">\n",
              "    <path d=\"M0 0h24v24H0V0z\" fill=\"none\"/>\n",
              "    <path d=\"M18.56 5.44l.94 2.06.94-2.06 2.06-.94-2.06-.94-.94-2.06-.94 2.06-2.06.94zm-11 1L8.5 8.5l.94-2.06 2.06-.94-2.06-.94L8.5 2.5l-.94 2.06-2.06.94zm10 10l.94 2.06.94-2.06 2.06-.94-2.06-.94-.94-2.06-.94 2.06-2.06.94z\"/><path d=\"M17.41 7.96l-1.37-1.37c-.4-.4-.92-.59-1.43-.59-.52 0-1.04.2-1.43.59L10.3 9.45l-7.72 7.72c-.78.78-.78 2.05 0 2.83L4 21.41c.39.39.9.59 1.41.59.51 0 1.02-.2 1.41-.59l7.78-7.78 2.81-2.81c.8-.78.8-2.07 0-2.86zM5.41 20L4 18.59l7.72-7.72 1.47 1.35L5.41 20z\"/>\n",
              "  </svg>\n",
              "      </button>\n",
              "      \n",
              "  <style>\n",
              "    .colab-df-container {\n",
              "      display:flex;\n",
              "      flex-wrap:wrap;\n",
              "      gap: 12px;\n",
              "    }\n",
              "\n",
              "    .colab-df-convert {\n",
              "      background-color: #E8F0FE;\n",
              "      border: none;\n",
              "      border-radius: 50%;\n",
              "      cursor: pointer;\n",
              "      display: none;\n",
              "      fill: #1967D2;\n",
              "      height: 32px;\n",
              "      padding: 0 0 0 0;\n",
              "      width: 32px;\n",
              "    }\n",
              "\n",
              "    .colab-df-convert:hover {\n",
              "      background-color: #E2EBFA;\n",
              "      box-shadow: 0px 1px 2px rgba(60, 64, 67, 0.3), 0px 1px 3px 1px rgba(60, 64, 67, 0.15);\n",
              "      fill: #174EA6;\n",
              "    }\n",
              "\n",
              "    [theme=dark] .colab-df-convert {\n",
              "      background-color: #3B4455;\n",
              "      fill: #D2E3FC;\n",
              "    }\n",
              "\n",
              "    [theme=dark] .colab-df-convert:hover {\n",
              "      background-color: #434B5C;\n",
              "      box-shadow: 0px 1px 3px 1px rgba(0, 0, 0, 0.15);\n",
              "      filter: drop-shadow(0px 1px 2px rgba(0, 0, 0, 0.3));\n",
              "      fill: #FFFFFF;\n",
              "    }\n",
              "  </style>\n",
              "\n",
              "      <script>\n",
              "        const buttonEl =\n",
              "          document.querySelector('#df-3bf8f487-9ed1-4193-a8c2-7a47784414d7 button.colab-df-convert');\n",
              "        buttonEl.style.display =\n",
              "          google.colab.kernel.accessAllowed ? 'block' : 'none';\n",
              "\n",
              "        async function convertToInteractive(key) {\n",
              "          const element = document.querySelector('#df-3bf8f487-9ed1-4193-a8c2-7a47784414d7');\n",
              "          const dataTable =\n",
              "            await google.colab.kernel.invokeFunction('convertToInteractive',\n",
              "                                                     [key], {});\n",
              "          if (!dataTable) return;\n",
              "\n",
              "          const docLinkHtml = 'Like what you see? Visit the ' +\n",
              "            '<a target=\"_blank\" href=https://colab.research.google.com/notebooks/data_table.ipynb>data table notebook</a>'\n",
              "            + ' to learn more about interactive tables.';\n",
              "          element.innerHTML = '';\n",
              "          dataTable['output_type'] = 'display_data';\n",
              "          await google.colab.output.renderOutput(dataTable, element);\n",
              "          const docLink = document.createElement('div');\n",
              "          docLink.innerHTML = docLinkHtml;\n",
              "          element.appendChild(docLink);\n",
              "        }\n",
              "      </script>\n",
              "    </div>\n",
              "  </div>\n",
              "  "
            ]
          },
          "metadata": {},
          "execution_count": 11
        }
      ],
      "source": [
        "df_clean[\"Q\"]=pd.to_numeric(df_clean[\"Q\"],errors=\"coerce\")\n",
        "df_clean.head(10)"
      ]
    },
    {
      "cell_type": "markdown",
      "id": "11572196-7068-40c2-be88-6481e71cf13c",
      "metadata": {
        "id": "11572196-7068-40c2-be88-6481e71cf13c"
      },
      "source": [
        "##### [A] Convert `'Examination Date'` column to `datetime` type."
      ]
    },
    {
      "cell_type": "code",
      "execution_count": 12,
      "id": "728cf77d-330b-4e88-b300-8abbcd47ee3a",
      "metadata": {
        "id": "728cf77d-330b-4e88-b300-8abbcd47ee3a"
      },
      "outputs": [],
      "source": [
        "df_clean[\"Examination Date\"]=pd.to_datetime(df_clean[\"Examination Date\"],errors=\"coerce\")"
      ]
    },
    {
      "cell_type": "markdown",
      "id": "5e98bef6-00d8-4a66-be21-80a92664908a",
      "metadata": {
        "id": "5e98bef6-00d8-4a66-be21-80a92664908a"
      },
      "source": [
        "##### Using the `gender_type` key we set the `'Gender'` column as categorical data."
      ]
    },
    {
      "cell_type": "code",
      "execution_count": 13,
      "id": "9345b815-4aef-49fa-9155-5276abf2e6a8",
      "metadata": {
        "id": "9345b815-4aef-49fa-9155-5276abf2e6a8"
      },
      "outputs": [],
      "source": [
        "gender_type = pd.CategoricalDtype(categories=[\"female\", \"male\"])\n",
        "\n",
        "df_clean[\"Gender\"] = df_clean[\"Gender\"].astype(gender_type)"
      ]
    },
    {
      "cell_type": "markdown",
      "id": "1c61d3ca-737b-472d-bc66-d5dccdbc00b0",
      "metadata": {
        "id": "1c61d3ca-737b-472d-bc66-d5dccdbc00b0"
      },
      "source": [
        "##### [A] Replicate how we changed the gender column to categorical but this time for the `'Mode'` column."
      ]
    },
    {
      "cell_type": "code",
      "execution_count": 14,
      "id": "09905a94-61fd-4891-b097-d61658e82d9d",
      "metadata": {
        "id": "09905a94-61fd-4891-b097-d61658e82d9d"
      },
      "outputs": [],
      "source": [
        "mode_type = pd.CategoricalDtype(categories=[\"d\", \"e\",\"f\",\"g\",\"h\",\"a\"])\n",
        "df_clean[\"Mode\"] = df_clean[\"Mode\"].astype(mode_type)"
      ]
    },
    {
      "cell_type": "markdown",
      "id": "aa325c6b-0c84-4fe2-a54e-a07f22a067d9",
      "metadata": {
        "id": "aa325c6b-0c84-4fe2-a54e-a07f22a067d9"
      },
      "source": [
        "##### [A] Again, change the `'Diagnosis'` column to categorical replicating above the example above."
      ]
    },
    {
      "cell_type": "code",
      "execution_count": 15,
      "id": "66d4542f-0409-43e2-af4f-86134237f6de",
      "metadata": {
        "id": "66d4542f-0409-43e2-af4f-86134237f6de"
      },
      "outputs": [],
      "source": [
        "diagnosis_type=pd.CategoricalDtype(categories=[\"positive\",\"negative\"])\n",
        "df_clean[\"Diagnosis\"] = df_clean[\"Diagnosis\"].astype(diagnosis_type)"
      ]
    },
    {
      "cell_type": "markdown",
      "id": "f678522d-8a66-48c0-be72-bc5184911333",
      "metadata": {
        "tags": [],
        "id": "f678522d-8a66-48c0-be72-bc5184911333"
      },
      "source": [
        "### Duplicate Entries\n",
        "- Duplicate entities in a dataset is not good to have as it  can use overfit and is redundant information"
      ]
    },
    {
      "cell_type": "markdown",
      "id": "4ecfb49c-fbdf-4ab0-9be1-6936ce9e7006",
      "metadata": {
        "id": "4ecfb49c-fbdf-4ab0-9be1-6936ce9e7006"
      },
      "source": [
        "##### [A] Check for duplicate entries and delete them"
      ]
    },
    {
      "cell_type": "code",
      "execution_count": 16,
      "id": "54618baa-223a-480a-ad91-45d5703e7ae1",
      "metadata": {
        "tags": [],
        "colab": {
          "base_uri": "https://localhost:8080/",
          "height": 1000
        },
        "id": "54618baa-223a-480a-ad91-45d5703e7ae1",
        "outputId": "8a70f492-0269-4532-e88f-930a8bdc24ec"
      },
      "outputs": [
        {
          "output_type": "display_data",
          "data": {
            "text/plain": [
              "0     False\n",
              "1     False\n",
              "2     False\n",
              "3     False\n",
              "4      True\n",
              "5     False\n",
              "6     False\n",
              "7     False\n",
              "8     False\n",
              "9     False\n",
              "10    False\n",
              "11    False\n",
              "12    False\n",
              "13    False\n",
              "14    False\n",
              "15    False\n",
              "16    False\n",
              "17    False\n",
              "18    False\n",
              "19    False\n",
              "20    False\n",
              "21    False\n",
              "22    False\n",
              "23    False\n",
              "24    False\n",
              "25    False\n",
              "26    False\n",
              "27    False\n",
              "28    False\n",
              "29    False\n",
              "30    False\n",
              "31    False\n",
              "32    False\n",
              "33    False\n",
              "34    False\n",
              "35    False\n",
              "36     True\n",
              "37    False\n",
              "38    False\n",
              "39    False\n",
              "40    False\n",
              "41    False\n",
              "42    False\n",
              "43    False\n",
              "44    False\n",
              "45    False\n",
              "46    False\n",
              "47    False\n",
              "48    False\n",
              "49    False\n",
              "50    False\n",
              "51    False\n",
              "52    False\n",
              "53    False\n",
              "54    False\n",
              "55    False\n",
              "56    False\n",
              "57    False\n",
              "58    False\n",
              "59    False\n",
              "60    False\n",
              "dtype: bool"
            ]
          },
          "metadata": {}
        }
      ],
      "source": [
        "duplicate_rows=df_clean.duplicated()\n",
        "display(duplicate_rows)"
      ]
    },
    {
      "cell_type": "code",
      "execution_count": 17,
      "id": "484f3700-06d1-4994-9cc0-5a418d7f4d6f",
      "metadata": {
        "tags": [],
        "id": "484f3700-06d1-4994-9cc0-5a418d7f4d6f"
      },
      "outputs": [],
      "source": [
        "df_clean=df_clean[~duplicate_rows]"
      ]
    },
    {
      "cell_type": "markdown",
      "id": "d568fa84-9723-452e-a134-8f98965b6ea6",
      "metadata": {
        "id": "d568fa84-9723-452e-a134-8f98965b6ea6"
      },
      "source": [
        "##### [A] Once you delete a row in your dataset the index of that row is also deleted. Reset the index of the dataset so it in proper order. \n",
        "> Hint: use the `dataframe.reset_index` function and set the drop parameter to `True`."
      ]
    },
    {
      "cell_type": "code",
      "execution_count": 18,
      "id": "5da799ea-c202-4fec-bc13-0be499fb8a14",
      "metadata": {
        "tags": [],
        "id": "5da799ea-c202-4fec-bc13-0be499fb8a14"
      },
      "outputs": [],
      "source": [
        "df_clean=df_clean.reset_index(drop=True)"
      ]
    },
    {
      "cell_type": "markdown",
      "id": "77a903a9-ea5d-4716-b879-649593b634b5",
      "metadata": {
        "id": "77a903a9-ea5d-4716-b879-649593b634b5"
      },
      "source": [
        "##### [A] Check the data types of your dataframe and print the shape of the dataframe."
      ]
    },
    {
      "cell_type": "code",
      "execution_count": 19,
      "id": "909001a9-4be6-4fee-b3f2-a126a8159914",
      "metadata": {
        "colab": {
          "base_uri": "https://localhost:8080/"
        },
        "id": "909001a9-4be6-4fee-b3f2-a126a8159914",
        "outputId": "9181ac56-a600-4ac5-d67c-fa569c7a7514"
      },
      "outputs": [
        {
          "output_type": "execute_result",
          "data": {
            "text/plain": [
              "Examination Date    datetime64[ns]\n",
              "Name                        object\n",
              "Gender                    category\n",
              "Age                          int64\n",
              "Mode                      category\n",
              "Q                          float64\n",
              "M1                         float64\n",
              "DD                         float64\n",
              "Diagnosis                 category\n",
              "dtype: object"
            ]
          },
          "metadata": {},
          "execution_count": 19
        }
      ],
      "source": [
        "df_clean.dtypes"
      ]
    },
    {
      "cell_type": "code",
      "execution_count": 20,
      "id": "161c932b-8ea0-439c-a307-93bcd71aa711",
      "metadata": {
        "colab": {
          "base_uri": "https://localhost:8080/"
        },
        "id": "161c932b-8ea0-439c-a307-93bcd71aa711",
        "outputId": "3cde0a8d-1197-454d-f265-4afdad6403e3"
      },
      "outputs": [
        {
          "output_type": "stream",
          "name": "stdout",
          "text": [
            "(59, 9)\n"
          ]
        }
      ],
      "source": [
        "print(df_clean.shape)"
      ]
    },
    {
      "cell_type": "markdown",
      "id": "1eb82a39-a117-4954-90d4-7a690e3e593c",
      "metadata": {
        "id": "1eb82a39-a117-4954-90d4-7a690e3e593c"
      },
      "source": [
        "# Lab Activity Two: Clean a Dataset Yourself"
      ]
    },
    {
      "cell_type": "markdown",
      "id": "83cbdf5b-7ae9-4124-8d6e-21abe21dc771",
      "metadata": {
        "id": "83cbdf5b-7ae9-4124-8d6e-21abe21dc771"
      },
      "source": [
        "In this activity, you will need to clean the dataset yourself using the examples from the activity above. The `df_2_lab_2.csv` is loaded and displayed for you."
      ]
    },
    {
      "cell_type": "code",
      "execution_count": 42,
      "id": "12f8209e-00d5-4133-9774-f21685a16d6c",
      "metadata": {
        "colab": {
          "base_uri": "https://localhost:8080/",
          "height": 363
        },
        "id": "12f8209e-00d5-4133-9774-f21685a16d6c",
        "outputId": "621d1031-10ee-40e1-9a94-a0c6347e7702"
      },
      "outputs": [
        {
          "output_type": "execute_result",
          "data": {
            "text/plain": [
              "   Unnamed: 0 Inspection Date                   R1        R2        R3  \\\n",
              "0           0      2010-09-04  0.07960088091996784  0.007344  0.542921   \n",
              "1           1      2010-09-27                    _  0.000204  9.613118   \n",
              "2           2      2010-10-06                    _  0.000928  4.298943   \n",
              "3           3      2010-10-21   0.8776172211437634  0.002254  9.240019   \n",
              "4           4      2010-11-26                    _  0.008547  6.659528   \n",
              "5           5      2010-11-29   0.7518246219719119  0.006172  7.023103   \n",
              "6           6      2011-01-04   0.9279763002997659  0.000833  5.473454   \n",
              "7           7      2011-01-28   0.9051137625634268  0.008793  7.223218   \n",
              "8           8      2011-02-03  0.09188005264255929  0.001529  2.745545   \n",
              "9           9      2011-02-04                    _  0.007507  4.472094   \n",
              "\n",
              "         R4 Device Site  \n",
              "0  0.000074     clinic1  \n",
              "1  0.000042     clinic1  \n",
              "2  0.000041     clinic1  \n",
              "3  0.000182     clinic1  \n",
              "4  0.000022     clinic1  \n",
              "5  0.000016     clinic1  \n",
              "6  0.000124     clinic2  \n",
              "7  0.000209     clinic2  \n",
              "8  0.000024     clinic1  \n",
              "9  0.000035     clinic2  "
            ],
            "text/html": [
              "\n",
              "  <div id=\"df-e02bad1c-41bc-4f2d-a5e4-65fec1644ba2\">\n",
              "    <div class=\"colab-df-container\">\n",
              "      <div>\n",
              "<style scoped>\n",
              "    .dataframe tbody tr th:only-of-type {\n",
              "        vertical-align: middle;\n",
              "    }\n",
              "\n",
              "    .dataframe tbody tr th {\n",
              "        vertical-align: top;\n",
              "    }\n",
              "\n",
              "    .dataframe thead th {\n",
              "        text-align: right;\n",
              "    }\n",
              "</style>\n",
              "<table border=\"1\" class=\"dataframe\">\n",
              "  <thead>\n",
              "    <tr style=\"text-align: right;\">\n",
              "      <th></th>\n",
              "      <th>Unnamed: 0</th>\n",
              "      <th>Inspection Date</th>\n",
              "      <th>R1</th>\n",
              "      <th>R2</th>\n",
              "      <th>R3</th>\n",
              "      <th>R4</th>\n",
              "      <th>Device Site</th>\n",
              "    </tr>\n",
              "  </thead>\n",
              "  <tbody>\n",
              "    <tr>\n",
              "      <th>0</th>\n",
              "      <td>0</td>\n",
              "      <td>2010-09-04</td>\n",
              "      <td>0.07960088091996784</td>\n",
              "      <td>0.007344</td>\n",
              "      <td>0.542921</td>\n",
              "      <td>0.000074</td>\n",
              "      <td>clinic1</td>\n",
              "    </tr>\n",
              "    <tr>\n",
              "      <th>1</th>\n",
              "      <td>1</td>\n",
              "      <td>2010-09-27</td>\n",
              "      <td>_</td>\n",
              "      <td>0.000204</td>\n",
              "      <td>9.613118</td>\n",
              "      <td>0.000042</td>\n",
              "      <td>clinic1</td>\n",
              "    </tr>\n",
              "    <tr>\n",
              "      <th>2</th>\n",
              "      <td>2</td>\n",
              "      <td>2010-10-06</td>\n",
              "      <td>_</td>\n",
              "      <td>0.000928</td>\n",
              "      <td>4.298943</td>\n",
              "      <td>0.000041</td>\n",
              "      <td>clinic1</td>\n",
              "    </tr>\n",
              "    <tr>\n",
              "      <th>3</th>\n",
              "      <td>3</td>\n",
              "      <td>2010-10-21</td>\n",
              "      <td>0.8776172211437634</td>\n",
              "      <td>0.002254</td>\n",
              "      <td>9.240019</td>\n",
              "      <td>0.000182</td>\n",
              "      <td>clinic1</td>\n",
              "    </tr>\n",
              "    <tr>\n",
              "      <th>4</th>\n",
              "      <td>4</td>\n",
              "      <td>2010-11-26</td>\n",
              "      <td>_</td>\n",
              "      <td>0.008547</td>\n",
              "      <td>6.659528</td>\n",
              "      <td>0.000022</td>\n",
              "      <td>clinic1</td>\n",
              "    </tr>\n",
              "    <tr>\n",
              "      <th>5</th>\n",
              "      <td>5</td>\n",
              "      <td>2010-11-29</td>\n",
              "      <td>0.7518246219719119</td>\n",
              "      <td>0.006172</td>\n",
              "      <td>7.023103</td>\n",
              "      <td>0.000016</td>\n",
              "      <td>clinic1</td>\n",
              "    </tr>\n",
              "    <tr>\n",
              "      <th>6</th>\n",
              "      <td>6</td>\n",
              "      <td>2011-01-04</td>\n",
              "      <td>0.9279763002997659</td>\n",
              "      <td>0.000833</td>\n",
              "      <td>5.473454</td>\n",
              "      <td>0.000124</td>\n",
              "      <td>clinic2</td>\n",
              "    </tr>\n",
              "    <tr>\n",
              "      <th>7</th>\n",
              "      <td>7</td>\n",
              "      <td>2011-01-28</td>\n",
              "      <td>0.9051137625634268</td>\n",
              "      <td>0.008793</td>\n",
              "      <td>7.223218</td>\n",
              "      <td>0.000209</td>\n",
              "      <td>clinic2</td>\n",
              "    </tr>\n",
              "    <tr>\n",
              "      <th>8</th>\n",
              "      <td>8</td>\n",
              "      <td>2011-02-03</td>\n",
              "      <td>0.09188005264255929</td>\n",
              "      <td>0.001529</td>\n",
              "      <td>2.745545</td>\n",
              "      <td>0.000024</td>\n",
              "      <td>clinic1</td>\n",
              "    </tr>\n",
              "    <tr>\n",
              "      <th>9</th>\n",
              "      <td>9</td>\n",
              "      <td>2011-02-04</td>\n",
              "      <td>_</td>\n",
              "      <td>0.007507</td>\n",
              "      <td>4.472094</td>\n",
              "      <td>0.000035</td>\n",
              "      <td>clinic2</td>\n",
              "    </tr>\n",
              "  </tbody>\n",
              "</table>\n",
              "</div>\n",
              "      <button class=\"colab-df-convert\" onclick=\"convertToInteractive('df-e02bad1c-41bc-4f2d-a5e4-65fec1644ba2')\"\n",
              "              title=\"Convert this dataframe to an interactive table.\"\n",
              "              style=\"display:none;\">\n",
              "        \n",
              "  <svg xmlns=\"http://www.w3.org/2000/svg\" height=\"24px\"viewBox=\"0 0 24 24\"\n",
              "       width=\"24px\">\n",
              "    <path d=\"M0 0h24v24H0V0z\" fill=\"none\"/>\n",
              "    <path d=\"M18.56 5.44l.94 2.06.94-2.06 2.06-.94-2.06-.94-.94-2.06-.94 2.06-2.06.94zm-11 1L8.5 8.5l.94-2.06 2.06-.94-2.06-.94L8.5 2.5l-.94 2.06-2.06.94zm10 10l.94 2.06.94-2.06 2.06-.94-2.06-.94-.94-2.06-.94 2.06-2.06.94z\"/><path d=\"M17.41 7.96l-1.37-1.37c-.4-.4-.92-.59-1.43-.59-.52 0-1.04.2-1.43.59L10.3 9.45l-7.72 7.72c-.78.78-.78 2.05 0 2.83L4 21.41c.39.39.9.59 1.41.59.51 0 1.02-.2 1.41-.59l7.78-7.78 2.81-2.81c.8-.78.8-2.07 0-2.86zM5.41 20L4 18.59l7.72-7.72 1.47 1.35L5.41 20z\"/>\n",
              "  </svg>\n",
              "      </button>\n",
              "      \n",
              "  <style>\n",
              "    .colab-df-container {\n",
              "      display:flex;\n",
              "      flex-wrap:wrap;\n",
              "      gap: 12px;\n",
              "    }\n",
              "\n",
              "    .colab-df-convert {\n",
              "      background-color: #E8F0FE;\n",
              "      border: none;\n",
              "      border-radius: 50%;\n",
              "      cursor: pointer;\n",
              "      display: none;\n",
              "      fill: #1967D2;\n",
              "      height: 32px;\n",
              "      padding: 0 0 0 0;\n",
              "      width: 32px;\n",
              "    }\n",
              "\n",
              "    .colab-df-convert:hover {\n",
              "      background-color: #E2EBFA;\n",
              "      box-shadow: 0px 1px 2px rgba(60, 64, 67, 0.3), 0px 1px 3px 1px rgba(60, 64, 67, 0.15);\n",
              "      fill: #174EA6;\n",
              "    }\n",
              "\n",
              "    [theme=dark] .colab-df-convert {\n",
              "      background-color: #3B4455;\n",
              "      fill: #D2E3FC;\n",
              "    }\n",
              "\n",
              "    [theme=dark] .colab-df-convert:hover {\n",
              "      background-color: #434B5C;\n",
              "      box-shadow: 0px 1px 3px 1px rgba(0, 0, 0, 0.15);\n",
              "      filter: drop-shadow(0px 1px 2px rgba(0, 0, 0, 0.3));\n",
              "      fill: #FFFFFF;\n",
              "    }\n",
              "  </style>\n",
              "\n",
              "      <script>\n",
              "        const buttonEl =\n",
              "          document.querySelector('#df-e02bad1c-41bc-4f2d-a5e4-65fec1644ba2 button.colab-df-convert');\n",
              "        buttonEl.style.display =\n",
              "          google.colab.kernel.accessAllowed ? 'block' : 'none';\n",
              "\n",
              "        async function convertToInteractive(key) {\n",
              "          const element = document.querySelector('#df-e02bad1c-41bc-4f2d-a5e4-65fec1644ba2');\n",
              "          const dataTable =\n",
              "            await google.colab.kernel.invokeFunction('convertToInteractive',\n",
              "                                                     [key], {});\n",
              "          if (!dataTable) return;\n",
              "\n",
              "          const docLinkHtml = 'Like what you see? Visit the ' +\n",
              "            '<a target=\"_blank\" href=https://colab.research.google.com/notebooks/data_table.ipynb>data table notebook</a>'\n",
              "            + ' to learn more about interactive tables.';\n",
              "          element.innerHTML = '';\n",
              "          dataTable['output_type'] = 'display_data';\n",
              "          await google.colab.output.renderOutput(dataTable, element);\n",
              "          const docLink = document.createElement('div');\n",
              "          docLink.innerHTML = docLinkHtml;\n",
              "          element.appendChild(docLink);\n",
              "        }\n",
              "      </script>\n",
              "    </div>\n",
              "  </div>\n",
              "  "
            ]
          },
          "metadata": {},
          "execution_count": 42
        }
      ],
      "source": [
        "df_2 = pd.read_csv('df_2_lab_2.csv')\n",
        "df_2.head(10)"
      ]
    },
    {
      "cell_type": "code",
      "source": [
        "print(df_2.shape)"
      ],
      "metadata": {
        "colab": {
          "base_uri": "https://localhost:8080/"
        },
        "id": "GfLJecThl3Ji",
        "outputId": "615c4710-4b2c-4eb0-ab1d-8fa6b0c88439"
      },
      "id": "GfLJecThl3Ji",
      "execution_count": 43,
      "outputs": [
        {
          "output_type": "stream",
          "name": "stdout",
          "text": [
            "(22, 7)\n"
          ]
        }
      ]
    },
    {
      "cell_type": "markdown",
      "id": "187a9e84-e401-45fb-ba83-4fa4d7300c8c",
      "metadata": {
        "id": "187a9e84-e401-45fb-ba83-4fa4d7300c8c"
      },
      "source": [
        "##### [A] Figure out the issues with this dataset and apply the cleaning methods"
      ]
    },
    {
      "cell_type": "code",
      "execution_count": 44,
      "id": "df056f9f-5f54-485b-b77c-acbcd9f19d22",
      "metadata": {
        "id": "df056f9f-5f54-485b-b77c-acbcd9f19d22"
      },
      "outputs": [],
      "source": [
        "df_clean2=df_2.copy()"
      ]
    },
    {
      "cell_type": "code",
      "source": [
        "df_clean2.dtypes"
      ],
      "metadata": {
        "colab": {
          "base_uri": "https://localhost:8080/"
        },
        "id": "k2rezeorlWub",
        "outputId": "111016d2-8511-43af-94b1-1d229ecd04f1"
      },
      "id": "k2rezeorlWub",
      "execution_count": 45,
      "outputs": [
        {
          "output_type": "execute_result",
          "data": {
            "text/plain": [
              "Unnamed: 0           int64\n",
              "Inspection Date     object\n",
              "R1                  object\n",
              "R2                 float64\n",
              "R3                 float64\n",
              "R4                 float64\n",
              "Device Site         object\n",
              "dtype: object"
            ]
          },
          "metadata": {},
          "execution_count": 45
        }
      ]
    },
    {
      "cell_type": "markdown",
      "source": [
        "needed cleaning: Inspection date to datetime, R1 to float/NaN, check Device site for unique, update Device site to set categories, check for duplicates"
      ],
      "metadata": {
        "id": "Ls0kDqH4lioK"
      },
      "id": "Ls0kDqH4lioK"
    },
    {
      "cell_type": "code",
      "execution_count": 46,
      "id": "beba1231-3018-4583-9cda-44e754aa6166",
      "metadata": {
        "id": "beba1231-3018-4583-9cda-44e754aa6166"
      },
      "outputs": [],
      "source": [
        "df_clean2=df_clean2.drop(\"Unnamed: 0\", axis=1)"
      ]
    },
    {
      "cell_type": "code",
      "execution_count": null,
      "id": "61ff8aad-8d0d-4b0b-b634-4d201fee4968",
      "metadata": {
        "id": "61ff8aad-8d0d-4b0b-b634-4d201fee4968"
      },
      "outputs": [],
      "source": [
        "df_clean2[\"Device Site\"].unique()"
      ]
    },
    {
      "cell_type": "code",
      "execution_count": 48,
      "id": "2bbb277c-d4e3-4610-a85c-287043deed91",
      "metadata": {
        "id": "2bbb277c-d4e3-4610-a85c-287043deed91"
      },
      "outputs": [],
      "source": [
        "df_clean2[\"Inspection Date\"]=pd.to_datetime(df_clean2[\"Inspection Date\"], errors=\"coerce\")"
      ]
    },
    {
      "cell_type": "code",
      "execution_count": 49,
      "id": "69a4d613-23bd-4656-948f-1adb2d7a2dba",
      "metadata": {
        "id": "69a4d613-23bd-4656-948f-1adb2d7a2dba"
      },
      "outputs": [],
      "source": [
        "site_categories=pd.CategoricalDtype(categories=[\"clinic1\",\"clinic2\"])\n",
        "df_clean2[\"Device Site\"]=df_clean2[\"Device Site\"].astype(site_categories)"
      ]
    },
    {
      "cell_type": "code",
      "execution_count": 50,
      "id": "7fd19ac3-71e8-42c5-b326-acb0ccea1c49",
      "metadata": {
        "id": "7fd19ac3-71e8-42c5-b326-acb0ccea1c49"
      },
      "outputs": [],
      "source": [
        "df_clean2[\"R1\"]=pd.to_numeric(df_clean2[\"R1\"], errors=\"coerce\")"
      ]
    },
    {
      "cell_type": "code",
      "execution_count": 51,
      "id": "eb32eebb-f5c4-4f8a-bf1c-a517f38ad2b9",
      "metadata": {
        "id": "eb32eebb-f5c4-4f8a-bf1c-a517f38ad2b9",
        "colab": {
          "base_uri": "https://localhost:8080/",
          "height": 363
        },
        "outputId": "eba59c6e-ed22-47a9-aedc-b9d2c9df8894"
      },
      "outputs": [
        {
          "output_type": "execute_result",
          "data": {
            "text/plain": [
              "  Inspection Date        R1        R2        R3        R4 Device Site\n",
              "0      2010-09-04  0.079601  0.007344  0.542921  0.000074     clinic1\n",
              "1      2010-09-27       NaN  0.000204  9.613118  0.000042     clinic1\n",
              "2      2010-10-06       NaN  0.000928  4.298943  0.000041     clinic1\n",
              "3      2010-10-21  0.877617  0.002254  9.240019  0.000182     clinic1\n",
              "4      2010-11-26       NaN  0.008547  6.659528  0.000022     clinic1\n",
              "5      2010-11-29  0.751825  0.006172  7.023103  0.000016     clinic1\n",
              "6      2011-01-04  0.927976  0.000833  5.473454  0.000124     clinic2\n",
              "7      2011-01-28  0.905114  0.008793  7.223218  0.000209     clinic2\n",
              "8      2011-02-03  0.091880  0.001529  2.745545  0.000024     clinic1\n",
              "9      2011-02-04       NaN  0.007507  4.472094  0.000035     clinic2"
            ],
            "text/html": [
              "\n",
              "  <div id=\"df-f6a5e2fc-7964-443e-9f7f-776e7376c2c2\">\n",
              "    <div class=\"colab-df-container\">\n",
              "      <div>\n",
              "<style scoped>\n",
              "    .dataframe tbody tr th:only-of-type {\n",
              "        vertical-align: middle;\n",
              "    }\n",
              "\n",
              "    .dataframe tbody tr th {\n",
              "        vertical-align: top;\n",
              "    }\n",
              "\n",
              "    .dataframe thead th {\n",
              "        text-align: right;\n",
              "    }\n",
              "</style>\n",
              "<table border=\"1\" class=\"dataframe\">\n",
              "  <thead>\n",
              "    <tr style=\"text-align: right;\">\n",
              "      <th></th>\n",
              "      <th>Inspection Date</th>\n",
              "      <th>R1</th>\n",
              "      <th>R2</th>\n",
              "      <th>R3</th>\n",
              "      <th>R4</th>\n",
              "      <th>Device Site</th>\n",
              "    </tr>\n",
              "  </thead>\n",
              "  <tbody>\n",
              "    <tr>\n",
              "      <th>0</th>\n",
              "      <td>2010-09-04</td>\n",
              "      <td>0.079601</td>\n",
              "      <td>0.007344</td>\n",
              "      <td>0.542921</td>\n",
              "      <td>0.000074</td>\n",
              "      <td>clinic1</td>\n",
              "    </tr>\n",
              "    <tr>\n",
              "      <th>1</th>\n",
              "      <td>2010-09-27</td>\n",
              "      <td>NaN</td>\n",
              "      <td>0.000204</td>\n",
              "      <td>9.613118</td>\n",
              "      <td>0.000042</td>\n",
              "      <td>clinic1</td>\n",
              "    </tr>\n",
              "    <tr>\n",
              "      <th>2</th>\n",
              "      <td>2010-10-06</td>\n",
              "      <td>NaN</td>\n",
              "      <td>0.000928</td>\n",
              "      <td>4.298943</td>\n",
              "      <td>0.000041</td>\n",
              "      <td>clinic1</td>\n",
              "    </tr>\n",
              "    <tr>\n",
              "      <th>3</th>\n",
              "      <td>2010-10-21</td>\n",
              "      <td>0.877617</td>\n",
              "      <td>0.002254</td>\n",
              "      <td>9.240019</td>\n",
              "      <td>0.000182</td>\n",
              "      <td>clinic1</td>\n",
              "    </tr>\n",
              "    <tr>\n",
              "      <th>4</th>\n",
              "      <td>2010-11-26</td>\n",
              "      <td>NaN</td>\n",
              "      <td>0.008547</td>\n",
              "      <td>6.659528</td>\n",
              "      <td>0.000022</td>\n",
              "      <td>clinic1</td>\n",
              "    </tr>\n",
              "    <tr>\n",
              "      <th>5</th>\n",
              "      <td>2010-11-29</td>\n",
              "      <td>0.751825</td>\n",
              "      <td>0.006172</td>\n",
              "      <td>7.023103</td>\n",
              "      <td>0.000016</td>\n",
              "      <td>clinic1</td>\n",
              "    </tr>\n",
              "    <tr>\n",
              "      <th>6</th>\n",
              "      <td>2011-01-04</td>\n",
              "      <td>0.927976</td>\n",
              "      <td>0.000833</td>\n",
              "      <td>5.473454</td>\n",
              "      <td>0.000124</td>\n",
              "      <td>clinic2</td>\n",
              "    </tr>\n",
              "    <tr>\n",
              "      <th>7</th>\n",
              "      <td>2011-01-28</td>\n",
              "      <td>0.905114</td>\n",
              "      <td>0.008793</td>\n",
              "      <td>7.223218</td>\n",
              "      <td>0.000209</td>\n",
              "      <td>clinic2</td>\n",
              "    </tr>\n",
              "    <tr>\n",
              "      <th>8</th>\n",
              "      <td>2011-02-03</td>\n",
              "      <td>0.091880</td>\n",
              "      <td>0.001529</td>\n",
              "      <td>2.745545</td>\n",
              "      <td>0.000024</td>\n",
              "      <td>clinic1</td>\n",
              "    </tr>\n",
              "    <tr>\n",
              "      <th>9</th>\n",
              "      <td>2011-02-04</td>\n",
              "      <td>NaN</td>\n",
              "      <td>0.007507</td>\n",
              "      <td>4.472094</td>\n",
              "      <td>0.000035</td>\n",
              "      <td>clinic2</td>\n",
              "    </tr>\n",
              "  </tbody>\n",
              "</table>\n",
              "</div>\n",
              "      <button class=\"colab-df-convert\" onclick=\"convertToInteractive('df-f6a5e2fc-7964-443e-9f7f-776e7376c2c2')\"\n",
              "              title=\"Convert this dataframe to an interactive table.\"\n",
              "              style=\"display:none;\">\n",
              "        \n",
              "  <svg xmlns=\"http://www.w3.org/2000/svg\" height=\"24px\"viewBox=\"0 0 24 24\"\n",
              "       width=\"24px\">\n",
              "    <path d=\"M0 0h24v24H0V0z\" fill=\"none\"/>\n",
              "    <path d=\"M18.56 5.44l.94 2.06.94-2.06 2.06-.94-2.06-.94-.94-2.06-.94 2.06-2.06.94zm-11 1L8.5 8.5l.94-2.06 2.06-.94-2.06-.94L8.5 2.5l-.94 2.06-2.06.94zm10 10l.94 2.06.94-2.06 2.06-.94-2.06-.94-.94-2.06-.94 2.06-2.06.94z\"/><path d=\"M17.41 7.96l-1.37-1.37c-.4-.4-.92-.59-1.43-.59-.52 0-1.04.2-1.43.59L10.3 9.45l-7.72 7.72c-.78.78-.78 2.05 0 2.83L4 21.41c.39.39.9.59 1.41.59.51 0 1.02-.2 1.41-.59l7.78-7.78 2.81-2.81c.8-.78.8-2.07 0-2.86zM5.41 20L4 18.59l7.72-7.72 1.47 1.35L5.41 20z\"/>\n",
              "  </svg>\n",
              "      </button>\n",
              "      \n",
              "  <style>\n",
              "    .colab-df-container {\n",
              "      display:flex;\n",
              "      flex-wrap:wrap;\n",
              "      gap: 12px;\n",
              "    }\n",
              "\n",
              "    .colab-df-convert {\n",
              "      background-color: #E8F0FE;\n",
              "      border: none;\n",
              "      border-radius: 50%;\n",
              "      cursor: pointer;\n",
              "      display: none;\n",
              "      fill: #1967D2;\n",
              "      height: 32px;\n",
              "      padding: 0 0 0 0;\n",
              "      width: 32px;\n",
              "    }\n",
              "\n",
              "    .colab-df-convert:hover {\n",
              "      background-color: #E2EBFA;\n",
              "      box-shadow: 0px 1px 2px rgba(60, 64, 67, 0.3), 0px 1px 3px 1px rgba(60, 64, 67, 0.15);\n",
              "      fill: #174EA6;\n",
              "    }\n",
              "\n",
              "    [theme=dark] .colab-df-convert {\n",
              "      background-color: #3B4455;\n",
              "      fill: #D2E3FC;\n",
              "    }\n",
              "\n",
              "    [theme=dark] .colab-df-convert:hover {\n",
              "      background-color: #434B5C;\n",
              "      box-shadow: 0px 1px 3px 1px rgba(0, 0, 0, 0.15);\n",
              "      filter: drop-shadow(0px 1px 2px rgba(0, 0, 0, 0.3));\n",
              "      fill: #FFFFFF;\n",
              "    }\n",
              "  </style>\n",
              "\n",
              "      <script>\n",
              "        const buttonEl =\n",
              "          document.querySelector('#df-f6a5e2fc-7964-443e-9f7f-776e7376c2c2 button.colab-df-convert');\n",
              "        buttonEl.style.display =\n",
              "          google.colab.kernel.accessAllowed ? 'block' : 'none';\n",
              "\n",
              "        async function convertToInteractive(key) {\n",
              "          const element = document.querySelector('#df-f6a5e2fc-7964-443e-9f7f-776e7376c2c2');\n",
              "          const dataTable =\n",
              "            await google.colab.kernel.invokeFunction('convertToInteractive',\n",
              "                                                     [key], {});\n",
              "          if (!dataTable) return;\n",
              "\n",
              "          const docLinkHtml = 'Like what you see? Visit the ' +\n",
              "            '<a target=\"_blank\" href=https://colab.research.google.com/notebooks/data_table.ipynb>data table notebook</a>'\n",
              "            + ' to learn more about interactive tables.';\n",
              "          element.innerHTML = '';\n",
              "          dataTable['output_type'] = 'display_data';\n",
              "          await google.colab.output.renderOutput(dataTable, element);\n",
              "          const docLink = document.createElement('div');\n",
              "          docLink.innerHTML = docLinkHtml;\n",
              "          element.appendChild(docLink);\n",
              "        }\n",
              "      </script>\n",
              "    </div>\n",
              "  </div>\n",
              "  "
            ]
          },
          "metadata": {},
          "execution_count": 51
        }
      ],
      "source": [
        "df_clean2.head(10)"
      ]
    },
    {
      "cell_type": "code",
      "execution_count": 52,
      "id": "31ea73d1-aceb-48bc-bd3e-149e227a9c46",
      "metadata": {
        "id": "31ea73d1-aceb-48bc-bd3e-149e227a9c46",
        "colab": {
          "base_uri": "https://localhost:8080/"
        },
        "outputId": "b9591ff0-9d71-4015-96fa-47800d2ea2e2"
      },
      "outputs": [
        {
          "output_type": "stream",
          "name": "stdout",
          "text": [
            "Inspection Date    datetime64[ns]\n",
            "R1                        float64\n",
            "R2                        float64\n",
            "R3                        float64\n",
            "R4                        float64\n",
            "Device Site              category\n",
            "dtype: object\n"
          ]
        }
      ],
      "source": [
        "print(df_clean2.dtypes)"
      ]
    },
    {
      "cell_type": "code",
      "execution_count": 53,
      "id": "c011ec4e-3e34-4a66-930c-790936b5f035",
      "metadata": {
        "id": "c011ec4e-3e34-4a66-930c-790936b5f035",
        "colab": {
          "base_uri": "https://localhost:8080/",
          "height": 416
        },
        "outputId": "7b0bc2f0-942c-418f-82bf-cc2964231901"
      },
      "outputs": [
        {
          "output_type": "display_data",
          "data": {
            "text/plain": [
              "0     False\n",
              "1     False\n",
              "2     False\n",
              "3     False\n",
              "4     False\n",
              "5     False\n",
              "6     False\n",
              "7     False\n",
              "8     False\n",
              "9     False\n",
              "10    False\n",
              "11    False\n",
              "12    False\n",
              "13    False\n",
              "14    False\n",
              "15    False\n",
              "16    False\n",
              "17    False\n",
              "18    False\n",
              "19    False\n",
              "20    False\n",
              "21    False\n",
              "dtype: bool"
            ]
          },
          "metadata": {}
        }
      ],
      "source": [
        "duplicates=df_clean2.duplicated()\n",
        "display(duplicates)"
      ]
    },
    {
      "cell_type": "code",
      "execution_count": 54,
      "id": "3872cd76-d5d8-4fe3-9970-592e9b466148",
      "metadata": {
        "id": "3872cd76-d5d8-4fe3-9970-592e9b466148",
        "colab": {
          "base_uri": "https://localhost:8080/"
        },
        "outputId": "423e1e4e-a435-4057-dc3e-7de3b2fabb16"
      },
      "outputs": [
        {
          "output_type": "stream",
          "name": "stdout",
          "text": [
            "(22, 6)\n"
          ]
        }
      ],
      "source": [
        "print(df_clean2.shape)"
      ]
    }
  ],
  "metadata": {
    "kernelspec": {
      "display_name": "Python 3 (ipykernel)",
      "language": "python",
      "name": "python3"
    },
    "language_info": {
      "codemirror_mode": {
        "name": "ipython",
        "version": 3
      },
      "file_extension": ".py",
      "mimetype": "text/x-python",
      "name": "python",
      "nbconvert_exporter": "python",
      "pygments_lexer": "ipython3",
      "version": "3.9.7"
    },
    "colab": {
      "provenance": [],
      "collapsed_sections": [],
      "include_colab_link": true
    }
  },
  "nbformat": 4,
  "nbformat_minor": 5
}
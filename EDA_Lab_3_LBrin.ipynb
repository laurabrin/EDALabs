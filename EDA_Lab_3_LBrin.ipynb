{
  "cells": [
    {
      "cell_type": "markdown",
      "metadata": {
        "id": "view-in-github",
        "colab_type": "text"
      },
      "source": [
        "<a href=\"https://colab.research.google.com/github/laurabrin/EDALabs/blob/main/EDA_Lab_3_LBrin.ipynb\" target=\"_parent\"><img src=\"https://colab.research.google.com/assets/colab-badge.svg\" alt=\"Open In Colab\"/></a>"
      ]
    },
    {
      "cell_type": "markdown",
      "id": "62703aec-0fb1-4742-babd-11a42252700d",
      "metadata": {
        "id": "62703aec-0fb1-4742-babd-11a42252700d"
      },
      "source": [
        "# Lab 3: Handling Missing Values In your Data"
      ]
    },
    {
      "cell_type": "markdown",
      "id": "0a5e55e8-6507-412b-886a-8f9c5e89395e",
      "metadata": {
        "id": "0a5e55e8-6507-412b-886a-8f9c5e89395e"
      },
      "source": [
        "Machine learning models cannot work with missing values in a dataset (`NaNs` or `'-'`). It is crucial to fix any missing values in your data. The following are 2 ways to deal with missing data:\n",
        "- deleting rows that contain missing features;\n",
        "- replacing missing features using proper techniques."
      ]
    },
    {
      "cell_type": "code",
      "execution_count": 1,
      "id": "9ea116ce-c7e8-436e-84e9-5762c8b4f84b",
      "metadata": {
        "id": "9ea116ce-c7e8-436e-84e9-5762c8b4f84b"
      },
      "outputs": [],
      "source": [
        "import pandas as pd\n",
        "import numpy as np\n",
        "import plotly.express as px"
      ]
    },
    {
      "cell_type": "code",
      "execution_count": 13,
      "id": "af1912db-9cc7-4e23-a450-9db13ee5ac69",
      "metadata": {
        "id": "af1912db-9cc7-4e23-a450-9db13ee5ac69"
      },
      "outputs": [],
      "source": [
        "# loading the 'df_1_lab_3.csv' csv data\n",
        "df = pd.read_csv('df_1_lab_3.csv')"
      ]
    },
    {
      "cell_type": "code",
      "execution_count": 14,
      "id": "8844c03b-8ea2-43af-9cdf-701d840149fa",
      "metadata": {
        "colab": {
          "base_uri": "https://localhost:8080/",
          "height": 206
        },
        "id": "8844c03b-8ea2-43af-9cdf-701d840149fa",
        "outputId": "d6b8cf17-50ed-4647-838e-adf60f7ef909"
      },
      "outputs": [
        {
          "output_type": "execute_result",
          "data": {
            "text/plain": [
              "  Examination Date  Gender  Age Mode           Q        M1        DD Diagnosis\n",
              "0       2011-06-10    male   72    d         NaN  5.058993  1.481877  negative\n",
              "1       2011-02-20    male    9    e  104.087633  6.531724  2.266884  negative\n",
              "2       2011-06-27  female   59    f  102.904315  6.273313  0.396333  positive\n",
              "3       2010-09-22    male   23    g  152.651655  7.333626  0.557534  positive\n",
              "4       2011-07-21  female   17    g   67.239054  3.642516  3.765706  positive"
            ],
            "text/html": [
              "\n",
              "  <div id=\"df-0ac28987-8f36-4640-a125-a99cc020994c\">\n",
              "    <div class=\"colab-df-container\">\n",
              "      <div>\n",
              "<style scoped>\n",
              "    .dataframe tbody tr th:only-of-type {\n",
              "        vertical-align: middle;\n",
              "    }\n",
              "\n",
              "    .dataframe tbody tr th {\n",
              "        vertical-align: top;\n",
              "    }\n",
              "\n",
              "    .dataframe thead th {\n",
              "        text-align: right;\n",
              "    }\n",
              "</style>\n",
              "<table border=\"1\" class=\"dataframe\">\n",
              "  <thead>\n",
              "    <tr style=\"text-align: right;\">\n",
              "      <th></th>\n",
              "      <th>Examination Date</th>\n",
              "      <th>Gender</th>\n",
              "      <th>Age</th>\n",
              "      <th>Mode</th>\n",
              "      <th>Q</th>\n",
              "      <th>M1</th>\n",
              "      <th>DD</th>\n",
              "      <th>Diagnosis</th>\n",
              "    </tr>\n",
              "  </thead>\n",
              "  <tbody>\n",
              "    <tr>\n",
              "      <th>0</th>\n",
              "      <td>2011-06-10</td>\n",
              "      <td>male</td>\n",
              "      <td>72</td>\n",
              "      <td>d</td>\n",
              "      <td>NaN</td>\n",
              "      <td>5.058993</td>\n",
              "      <td>1.481877</td>\n",
              "      <td>negative</td>\n",
              "    </tr>\n",
              "    <tr>\n",
              "      <th>1</th>\n",
              "      <td>2011-02-20</td>\n",
              "      <td>male</td>\n",
              "      <td>9</td>\n",
              "      <td>e</td>\n",
              "      <td>104.087633</td>\n",
              "      <td>6.531724</td>\n",
              "      <td>2.266884</td>\n",
              "      <td>negative</td>\n",
              "    </tr>\n",
              "    <tr>\n",
              "      <th>2</th>\n",
              "      <td>2011-06-27</td>\n",
              "      <td>female</td>\n",
              "      <td>59</td>\n",
              "      <td>f</td>\n",
              "      <td>102.904315</td>\n",
              "      <td>6.273313</td>\n",
              "      <td>0.396333</td>\n",
              "      <td>positive</td>\n",
              "    </tr>\n",
              "    <tr>\n",
              "      <th>3</th>\n",
              "      <td>2010-09-22</td>\n",
              "      <td>male</td>\n",
              "      <td>23</td>\n",
              "      <td>g</td>\n",
              "      <td>152.651655</td>\n",
              "      <td>7.333626</td>\n",
              "      <td>0.557534</td>\n",
              "      <td>positive</td>\n",
              "    </tr>\n",
              "    <tr>\n",
              "      <th>4</th>\n",
              "      <td>2011-07-21</td>\n",
              "      <td>female</td>\n",
              "      <td>17</td>\n",
              "      <td>g</td>\n",
              "      <td>67.239054</td>\n",
              "      <td>3.642516</td>\n",
              "      <td>3.765706</td>\n",
              "      <td>positive</td>\n",
              "    </tr>\n",
              "  </tbody>\n",
              "</table>\n",
              "</div>\n",
              "      <button class=\"colab-df-convert\" onclick=\"convertToInteractive('df-0ac28987-8f36-4640-a125-a99cc020994c')\"\n",
              "              title=\"Convert this dataframe to an interactive table.\"\n",
              "              style=\"display:none;\">\n",
              "        \n",
              "  <svg xmlns=\"http://www.w3.org/2000/svg\" height=\"24px\"viewBox=\"0 0 24 24\"\n",
              "       width=\"24px\">\n",
              "    <path d=\"M0 0h24v24H0V0z\" fill=\"none\"/>\n",
              "    <path d=\"M18.56 5.44l.94 2.06.94-2.06 2.06-.94-2.06-.94-.94-2.06-.94 2.06-2.06.94zm-11 1L8.5 8.5l.94-2.06 2.06-.94-2.06-.94L8.5 2.5l-.94 2.06-2.06.94zm10 10l.94 2.06.94-2.06 2.06-.94-2.06-.94-.94-2.06-.94 2.06-2.06.94z\"/><path d=\"M17.41 7.96l-1.37-1.37c-.4-.4-.92-.59-1.43-.59-.52 0-1.04.2-1.43.59L10.3 9.45l-7.72 7.72c-.78.78-.78 2.05 0 2.83L4 21.41c.39.39.9.59 1.41.59.51 0 1.02-.2 1.41-.59l7.78-7.78 2.81-2.81c.8-.78.8-2.07 0-2.86zM5.41 20L4 18.59l7.72-7.72 1.47 1.35L5.41 20z\"/>\n",
              "  </svg>\n",
              "      </button>\n",
              "      \n",
              "  <style>\n",
              "    .colab-df-container {\n",
              "      display:flex;\n",
              "      flex-wrap:wrap;\n",
              "      gap: 12px;\n",
              "    }\n",
              "\n",
              "    .colab-df-convert {\n",
              "      background-color: #E8F0FE;\n",
              "      border: none;\n",
              "      border-radius: 50%;\n",
              "      cursor: pointer;\n",
              "      display: none;\n",
              "      fill: #1967D2;\n",
              "      height: 32px;\n",
              "      padding: 0 0 0 0;\n",
              "      width: 32px;\n",
              "    }\n",
              "\n",
              "    .colab-df-convert:hover {\n",
              "      background-color: #E2EBFA;\n",
              "      box-shadow: 0px 1px 2px rgba(60, 64, 67, 0.3), 0px 1px 3px 1px rgba(60, 64, 67, 0.15);\n",
              "      fill: #174EA6;\n",
              "    }\n",
              "\n",
              "    [theme=dark] .colab-df-convert {\n",
              "      background-color: #3B4455;\n",
              "      fill: #D2E3FC;\n",
              "    }\n",
              "\n",
              "    [theme=dark] .colab-df-convert:hover {\n",
              "      background-color: #434B5C;\n",
              "      box-shadow: 0px 1px 3px 1px rgba(0, 0, 0, 0.15);\n",
              "      filter: drop-shadow(0px 1px 2px rgba(0, 0, 0, 0.3));\n",
              "      fill: #FFFFFF;\n",
              "    }\n",
              "  </style>\n",
              "\n",
              "      <script>\n",
              "        const buttonEl =\n",
              "          document.querySelector('#df-0ac28987-8f36-4640-a125-a99cc020994c button.colab-df-convert');\n",
              "        buttonEl.style.display =\n",
              "          google.colab.kernel.accessAllowed ? 'block' : 'none';\n",
              "\n",
              "        async function convertToInteractive(key) {\n",
              "          const element = document.querySelector('#df-0ac28987-8f36-4640-a125-a99cc020994c');\n",
              "          const dataTable =\n",
              "            await google.colab.kernel.invokeFunction('convertToInteractive',\n",
              "                                                     [key], {});\n",
              "          if (!dataTable) return;\n",
              "\n",
              "          const docLinkHtml = 'Like what you see? Visit the ' +\n",
              "            '<a target=\"_blank\" href=https://colab.research.google.com/notebooks/data_table.ipynb>data table notebook</a>'\n",
              "            + ' to learn more about interactive tables.';\n",
              "          element.innerHTML = '';\n",
              "          dataTable['output_type'] = 'display_data';\n",
              "          await google.colab.output.renderOutput(dataTable, element);\n",
              "          const docLink = document.createElement('div');\n",
              "          docLink.innerHTML = docLinkHtml;\n",
              "          element.appendChild(docLink);\n",
              "        }\n",
              "      </script>\n",
              "    </div>\n",
              "  </div>\n",
              "  "
            ]
          },
          "metadata": {},
          "execution_count": 14
        }
      ],
      "source": [
        "# preparing data\n",
        "df = df.drop(columns=['Unnamed: 0', 'index'])\n",
        "df.head()"
      ]
    },
    {
      "cell_type": "markdown",
      "id": "7fb2d25f-539f-47ee-ad6d-2ceda0255b14",
      "metadata": {
        "id": "7fb2d25f-539f-47ee-ad6d-2ceda0255b14"
      },
      "source": [
        "# Lab Activity One: Handling Missing Data Without Time-Series Specific Methods"
      ]
    },
    {
      "cell_type": "markdown",
      "id": "d5902c89-2a3e-4402-a6bc-fa35d0e133cd",
      "metadata": {
        "id": "d5902c89-2a3e-4402-a6bc-fa35d0e133cd"
      },
      "source": [
        "#### You will be dealing with `NaN` values for the ``Q`` and ``Mode`` columns. You will go through several ways of handling the missing values. For each method, you will first create a temporary copy of the master dataframe (`df`) to not alter the original dataset. "
      ]
    },
    {
      "cell_type": "code",
      "execution_count": 15,
      "id": "2c15052c-daef-46df-8e75-0e88ed3a69e7",
      "metadata": {
        "colab": {
          "base_uri": "https://localhost:8080/"
        },
        "id": "2c15052c-daef-46df-8e75-0e88ed3a69e7",
        "outputId": "6b619a2e-55bc-46e7-c4a9-417b28837fad"
      },
      "outputs": [
        {
          "output_type": "execute_result",
          "data": {
            "text/plain": [
              "9"
            ]
          },
          "metadata": {},
          "execution_count": 15
        }
      ],
      "source": [
        "# Checking how many missing values are in the Q column\n",
        "df[\"Q\"].isnull().sum()"
      ]
    },
    {
      "cell_type": "markdown",
      "id": "bb5aace9-c5e8-40bf-b6cd-71febd6579ce",
      "metadata": {
        "id": "bb5aace9-c5e8-40bf-b6cd-71febd6579ce"
      },
      "source": [
        "##### [A] **Drop** all the rows which contain `NaN` values in the `'Q'` column. Be sure to only drop the rows with missing values in the `'Q'` column and no other column. Remember to use the `df_temp` dataframe."
      ]
    },
    {
      "cell_type": "code",
      "execution_count": 25,
      "id": "de611706-563d-4eb8-ad58-b42a602edeed",
      "metadata": {
        "colab": {
          "base_uri": "https://localhost:8080/"
        },
        "id": "de611706-563d-4eb8-ad58-b42a602edeed",
        "outputId": "c204c773-8a2d-4c7a-8f75-9a50f2335a09"
      },
      "outputs": [
        {
          "output_type": "execute_result",
          "data": {
            "text/plain": [
              "0"
            ]
          },
          "metadata": {},
          "execution_count": 25
        }
      ],
      "source": [
        "df_temp = df.copy()\n",
        "df_temp=df_temp.dropna(axis=0,subset=[\"Q\"])  #dropna\n",
        "df_temp[\"Q\"].isnull().sum()\n"
      ]
    },
    {
      "cell_type": "markdown",
      "id": "fbc670f1-4e80-436d-8174-b39c28168113",
      "metadata": {
        "id": "fbc670f1-4e80-436d-8174-b39c28168113"
      },
      "source": [
        "#### Instead of just deleting the rows we can try to **replace** with a logical value. Generally, the value to replace with is up to the data analyst (you) to figure out. Having domain knowledge helps."
      ]
    },
    {
      "cell_type": "markdown",
      "id": "d8f6e8b5-38f5-4b52-b805-93fdbf10bd4f",
      "metadata": {
        "id": "d8f6e8b5-38f5-4b52-b805-93fdbf10bd4f"
      },
      "source": [
        "##### [A] Using `df_temp` replace all the `NaN` values in the `'Q'` column with zero ($0$)."
      ]
    },
    {
      "cell_type": "code",
      "execution_count": 28,
      "id": "5b2be796-a5cb-496b-9d04-7a0cd10c7b60",
      "metadata": {
        "colab": {
          "base_uri": "https://localhost:8080/"
        },
        "id": "5b2be796-a5cb-496b-9d04-7a0cd10c7b60",
        "outputId": "c1ea6ae8-95ab-40de-ee29-ec8afb27b61e"
      },
      "outputs": [
        {
          "output_type": "execute_result",
          "data": {
            "text/plain": [
              "0"
            ]
          },
          "metadata": {},
          "execution_count": 28
        }
      ],
      "source": [
        "df_temp = df.copy()\n",
        "df_temp[\"Q\"]=df_temp[\"Q\"].fillna(0)   ##fillna\n",
        "df_temp[\"Q\"].isnull().sum()\n"
      ]
    },
    {
      "cell_type": "code",
      "source": [
        "df_temp.head()"
      ],
      "metadata": {
        "colab": {
          "base_uri": "https://localhost:8080/",
          "height": 206
        },
        "id": "T01EYeCuohfN",
        "outputId": "4980ac19-d17d-4f74-dfa8-39d2230688c8"
      },
      "id": "T01EYeCuohfN",
      "execution_count": 20,
      "outputs": [
        {
          "output_type": "execute_result",
          "data": {
            "text/plain": [
              "  Examination Date  Gender  Age Mode     Q        M1        DD Diagnosis\n",
              "0       2011-06-10    male   72    d  None  5.058993  1.481877  negative\n",
              "1       2011-02-20    male    9    e  None  6.531724  2.266884  negative\n",
              "2       2011-06-27  female   59    f  None  6.273313  0.396333  positive\n",
              "3       2010-09-22    male   23    g  None  7.333626  0.557534  positive\n",
              "4       2011-07-21  female   17    g  None  3.642516  3.765706  positive"
            ],
            "text/html": [
              "\n",
              "  <div id=\"df-151f9140-eb25-4066-b5d5-ad5a0732af8a\">\n",
              "    <div class=\"colab-df-container\">\n",
              "      <div>\n",
              "<style scoped>\n",
              "    .dataframe tbody tr th:only-of-type {\n",
              "        vertical-align: middle;\n",
              "    }\n",
              "\n",
              "    .dataframe tbody tr th {\n",
              "        vertical-align: top;\n",
              "    }\n",
              "\n",
              "    .dataframe thead th {\n",
              "        text-align: right;\n",
              "    }\n",
              "</style>\n",
              "<table border=\"1\" class=\"dataframe\">\n",
              "  <thead>\n",
              "    <tr style=\"text-align: right;\">\n",
              "      <th></th>\n",
              "      <th>Examination Date</th>\n",
              "      <th>Gender</th>\n",
              "      <th>Age</th>\n",
              "      <th>Mode</th>\n",
              "      <th>Q</th>\n",
              "      <th>M1</th>\n",
              "      <th>DD</th>\n",
              "      <th>Diagnosis</th>\n",
              "    </tr>\n",
              "  </thead>\n",
              "  <tbody>\n",
              "    <tr>\n",
              "      <th>0</th>\n",
              "      <td>2011-06-10</td>\n",
              "      <td>male</td>\n",
              "      <td>72</td>\n",
              "      <td>d</td>\n",
              "      <td>None</td>\n",
              "      <td>5.058993</td>\n",
              "      <td>1.481877</td>\n",
              "      <td>negative</td>\n",
              "    </tr>\n",
              "    <tr>\n",
              "      <th>1</th>\n",
              "      <td>2011-02-20</td>\n",
              "      <td>male</td>\n",
              "      <td>9</td>\n",
              "      <td>e</td>\n",
              "      <td>None</td>\n",
              "      <td>6.531724</td>\n",
              "      <td>2.266884</td>\n",
              "      <td>negative</td>\n",
              "    </tr>\n",
              "    <tr>\n",
              "      <th>2</th>\n",
              "      <td>2011-06-27</td>\n",
              "      <td>female</td>\n",
              "      <td>59</td>\n",
              "      <td>f</td>\n",
              "      <td>None</td>\n",
              "      <td>6.273313</td>\n",
              "      <td>0.396333</td>\n",
              "      <td>positive</td>\n",
              "    </tr>\n",
              "    <tr>\n",
              "      <th>3</th>\n",
              "      <td>2010-09-22</td>\n",
              "      <td>male</td>\n",
              "      <td>23</td>\n",
              "      <td>g</td>\n",
              "      <td>None</td>\n",
              "      <td>7.333626</td>\n",
              "      <td>0.557534</td>\n",
              "      <td>positive</td>\n",
              "    </tr>\n",
              "    <tr>\n",
              "      <th>4</th>\n",
              "      <td>2011-07-21</td>\n",
              "      <td>female</td>\n",
              "      <td>17</td>\n",
              "      <td>g</td>\n",
              "      <td>None</td>\n",
              "      <td>3.642516</td>\n",
              "      <td>3.765706</td>\n",
              "      <td>positive</td>\n",
              "    </tr>\n",
              "  </tbody>\n",
              "</table>\n",
              "</div>\n",
              "      <button class=\"colab-df-convert\" onclick=\"convertToInteractive('df-151f9140-eb25-4066-b5d5-ad5a0732af8a')\"\n",
              "              title=\"Convert this dataframe to an interactive table.\"\n",
              "              style=\"display:none;\">\n",
              "        \n",
              "  <svg xmlns=\"http://www.w3.org/2000/svg\" height=\"24px\"viewBox=\"0 0 24 24\"\n",
              "       width=\"24px\">\n",
              "    <path d=\"M0 0h24v24H0V0z\" fill=\"none\"/>\n",
              "    <path d=\"M18.56 5.44l.94 2.06.94-2.06 2.06-.94-2.06-.94-.94-2.06-.94 2.06-2.06.94zm-11 1L8.5 8.5l.94-2.06 2.06-.94-2.06-.94L8.5 2.5l-.94 2.06-2.06.94zm10 10l.94 2.06.94-2.06 2.06-.94-2.06-.94-.94-2.06-.94 2.06-2.06.94z\"/><path d=\"M17.41 7.96l-1.37-1.37c-.4-.4-.92-.59-1.43-.59-.52 0-1.04.2-1.43.59L10.3 9.45l-7.72 7.72c-.78.78-.78 2.05 0 2.83L4 21.41c.39.39.9.59 1.41.59.51 0 1.02-.2 1.41-.59l7.78-7.78 2.81-2.81c.8-.78.8-2.07 0-2.86zM5.41 20L4 18.59l7.72-7.72 1.47 1.35L5.41 20z\"/>\n",
              "  </svg>\n",
              "      </button>\n",
              "      \n",
              "  <style>\n",
              "    .colab-df-container {\n",
              "      display:flex;\n",
              "      flex-wrap:wrap;\n",
              "      gap: 12px;\n",
              "    }\n",
              "\n",
              "    .colab-df-convert {\n",
              "      background-color: #E8F0FE;\n",
              "      border: none;\n",
              "      border-radius: 50%;\n",
              "      cursor: pointer;\n",
              "      display: none;\n",
              "      fill: #1967D2;\n",
              "      height: 32px;\n",
              "      padding: 0 0 0 0;\n",
              "      width: 32px;\n",
              "    }\n",
              "\n",
              "    .colab-df-convert:hover {\n",
              "      background-color: #E2EBFA;\n",
              "      box-shadow: 0px 1px 2px rgba(60, 64, 67, 0.3), 0px 1px 3px 1px rgba(60, 64, 67, 0.15);\n",
              "      fill: #174EA6;\n",
              "    }\n",
              "\n",
              "    [theme=dark] .colab-df-convert {\n",
              "      background-color: #3B4455;\n",
              "      fill: #D2E3FC;\n",
              "    }\n",
              "\n",
              "    [theme=dark] .colab-df-convert:hover {\n",
              "      background-color: #434B5C;\n",
              "      box-shadow: 0px 1px 3px 1px rgba(0, 0, 0, 0.15);\n",
              "      filter: drop-shadow(0px 1px 2px rgba(0, 0, 0, 0.3));\n",
              "      fill: #FFFFFF;\n",
              "    }\n",
              "  </style>\n",
              "\n",
              "      <script>\n",
              "        const buttonEl =\n",
              "          document.querySelector('#df-151f9140-eb25-4066-b5d5-ad5a0732af8a button.colab-df-convert');\n",
              "        buttonEl.style.display =\n",
              "          google.colab.kernel.accessAllowed ? 'block' : 'none';\n",
              "\n",
              "        async function convertToInteractive(key) {\n",
              "          const element = document.querySelector('#df-151f9140-eb25-4066-b5d5-ad5a0732af8a');\n",
              "          const dataTable =\n",
              "            await google.colab.kernel.invokeFunction('convertToInteractive',\n",
              "                                                     [key], {});\n",
              "          if (!dataTable) return;\n",
              "\n",
              "          const docLinkHtml = 'Like what you see? Visit the ' +\n",
              "            '<a target=\"_blank\" href=https://colab.research.google.com/notebooks/data_table.ipynb>data table notebook</a>'\n",
              "            + ' to learn more about interactive tables.';\n",
              "          element.innerHTML = '';\n",
              "          dataTable['output_type'] = 'display_data';\n",
              "          await google.colab.output.renderOutput(dataTable, element);\n",
              "          const docLink = document.createElement('div');\n",
              "          docLink.innerHTML = docLinkHtml;\n",
              "          element.appendChild(docLink);\n",
              "        }\n",
              "      </script>\n",
              "    </div>\n",
              "  </div>\n",
              "  "
            ]
          },
          "metadata": {},
          "execution_count": 20
        }
      ]
    },
    {
      "cell_type": "markdown",
      "id": "b5c677d9-976f-4b41-a5f7-1d84a5191e82",
      "metadata": {
        "id": "b5c677d9-976f-4b41-a5f7-1d84a5191e82"
      },
      "source": [
        "##### [A] Using `df_temp` replace all the `NaN` values in the `'Q'` column with the *mean* of the `'Q'` column."
      ]
    },
    {
      "cell_type": "code",
      "execution_count": 32,
      "id": "a8ad45da-31e4-4cd8-ac94-4a9fdc7e233f",
      "metadata": {
        "colab": {
          "base_uri": "https://localhost:8080/",
          "height": 206
        },
        "id": "a8ad45da-31e4-4cd8-ac94-4a9fdc7e233f",
        "outputId": "508ba0de-ddef-4a43-c075-23b0f25a6ead"
      },
      "outputs": [
        {
          "output_type": "execute_result",
          "data": {
            "text/plain": [
              "  Examination Date  Gender  Age Mode           Q        M1        DD Diagnosis\n",
              "0       2011-06-10    male   72    d  104.269683  5.058993  1.481877  negative\n",
              "1       2011-02-20    male    9    e  104.087633  6.531724  2.266884  negative\n",
              "2       2011-06-27  female   59    f  102.904315  6.273313  0.396333  positive\n",
              "3       2010-09-22    male   23    g  152.651655  7.333626  0.557534  positive\n",
              "4       2011-07-21  female   17    g   67.239054  3.642516  3.765706  positive"
            ],
            "text/html": [
              "\n",
              "  <div id=\"df-4554d361-1bde-44e4-a305-f15a19fec04d\">\n",
              "    <div class=\"colab-df-container\">\n",
              "      <div>\n",
              "<style scoped>\n",
              "    .dataframe tbody tr th:only-of-type {\n",
              "        vertical-align: middle;\n",
              "    }\n",
              "\n",
              "    .dataframe tbody tr th {\n",
              "        vertical-align: top;\n",
              "    }\n",
              "\n",
              "    .dataframe thead th {\n",
              "        text-align: right;\n",
              "    }\n",
              "</style>\n",
              "<table border=\"1\" class=\"dataframe\">\n",
              "  <thead>\n",
              "    <tr style=\"text-align: right;\">\n",
              "      <th></th>\n",
              "      <th>Examination Date</th>\n",
              "      <th>Gender</th>\n",
              "      <th>Age</th>\n",
              "      <th>Mode</th>\n",
              "      <th>Q</th>\n",
              "      <th>M1</th>\n",
              "      <th>DD</th>\n",
              "      <th>Diagnosis</th>\n",
              "    </tr>\n",
              "  </thead>\n",
              "  <tbody>\n",
              "    <tr>\n",
              "      <th>0</th>\n",
              "      <td>2011-06-10</td>\n",
              "      <td>male</td>\n",
              "      <td>72</td>\n",
              "      <td>d</td>\n",
              "      <td>104.269683</td>\n",
              "      <td>5.058993</td>\n",
              "      <td>1.481877</td>\n",
              "      <td>negative</td>\n",
              "    </tr>\n",
              "    <tr>\n",
              "      <th>1</th>\n",
              "      <td>2011-02-20</td>\n",
              "      <td>male</td>\n",
              "      <td>9</td>\n",
              "      <td>e</td>\n",
              "      <td>104.087633</td>\n",
              "      <td>6.531724</td>\n",
              "      <td>2.266884</td>\n",
              "      <td>negative</td>\n",
              "    </tr>\n",
              "    <tr>\n",
              "      <th>2</th>\n",
              "      <td>2011-06-27</td>\n",
              "      <td>female</td>\n",
              "      <td>59</td>\n",
              "      <td>f</td>\n",
              "      <td>102.904315</td>\n",
              "      <td>6.273313</td>\n",
              "      <td>0.396333</td>\n",
              "      <td>positive</td>\n",
              "    </tr>\n",
              "    <tr>\n",
              "      <th>3</th>\n",
              "      <td>2010-09-22</td>\n",
              "      <td>male</td>\n",
              "      <td>23</td>\n",
              "      <td>g</td>\n",
              "      <td>152.651655</td>\n",
              "      <td>7.333626</td>\n",
              "      <td>0.557534</td>\n",
              "      <td>positive</td>\n",
              "    </tr>\n",
              "    <tr>\n",
              "      <th>4</th>\n",
              "      <td>2011-07-21</td>\n",
              "      <td>female</td>\n",
              "      <td>17</td>\n",
              "      <td>g</td>\n",
              "      <td>67.239054</td>\n",
              "      <td>3.642516</td>\n",
              "      <td>3.765706</td>\n",
              "      <td>positive</td>\n",
              "    </tr>\n",
              "  </tbody>\n",
              "</table>\n",
              "</div>\n",
              "      <button class=\"colab-df-convert\" onclick=\"convertToInteractive('df-4554d361-1bde-44e4-a305-f15a19fec04d')\"\n",
              "              title=\"Convert this dataframe to an interactive table.\"\n",
              "              style=\"display:none;\">\n",
              "        \n",
              "  <svg xmlns=\"http://www.w3.org/2000/svg\" height=\"24px\"viewBox=\"0 0 24 24\"\n",
              "       width=\"24px\">\n",
              "    <path d=\"M0 0h24v24H0V0z\" fill=\"none\"/>\n",
              "    <path d=\"M18.56 5.44l.94 2.06.94-2.06 2.06-.94-2.06-.94-.94-2.06-.94 2.06-2.06.94zm-11 1L8.5 8.5l.94-2.06 2.06-.94-2.06-.94L8.5 2.5l-.94 2.06-2.06.94zm10 10l.94 2.06.94-2.06 2.06-.94-2.06-.94-.94-2.06-.94 2.06-2.06.94z\"/><path d=\"M17.41 7.96l-1.37-1.37c-.4-.4-.92-.59-1.43-.59-.52 0-1.04.2-1.43.59L10.3 9.45l-7.72 7.72c-.78.78-.78 2.05 0 2.83L4 21.41c.39.39.9.59 1.41.59.51 0 1.02-.2 1.41-.59l7.78-7.78 2.81-2.81c.8-.78.8-2.07 0-2.86zM5.41 20L4 18.59l7.72-7.72 1.47 1.35L5.41 20z\"/>\n",
              "  </svg>\n",
              "      </button>\n",
              "      \n",
              "  <style>\n",
              "    .colab-df-container {\n",
              "      display:flex;\n",
              "      flex-wrap:wrap;\n",
              "      gap: 12px;\n",
              "    }\n",
              "\n",
              "    .colab-df-convert {\n",
              "      background-color: #E8F0FE;\n",
              "      border: none;\n",
              "      border-radius: 50%;\n",
              "      cursor: pointer;\n",
              "      display: none;\n",
              "      fill: #1967D2;\n",
              "      height: 32px;\n",
              "      padding: 0 0 0 0;\n",
              "      width: 32px;\n",
              "    }\n",
              "\n",
              "    .colab-df-convert:hover {\n",
              "      background-color: #E2EBFA;\n",
              "      box-shadow: 0px 1px 2px rgba(60, 64, 67, 0.3), 0px 1px 3px 1px rgba(60, 64, 67, 0.15);\n",
              "      fill: #174EA6;\n",
              "    }\n",
              "\n",
              "    [theme=dark] .colab-df-convert {\n",
              "      background-color: #3B4455;\n",
              "      fill: #D2E3FC;\n",
              "    }\n",
              "\n",
              "    [theme=dark] .colab-df-convert:hover {\n",
              "      background-color: #434B5C;\n",
              "      box-shadow: 0px 1px 3px 1px rgba(0, 0, 0, 0.15);\n",
              "      filter: drop-shadow(0px 1px 2px rgba(0, 0, 0, 0.3));\n",
              "      fill: #FFFFFF;\n",
              "    }\n",
              "  </style>\n",
              "\n",
              "      <script>\n",
              "        const buttonEl =\n",
              "          document.querySelector('#df-4554d361-1bde-44e4-a305-f15a19fec04d button.colab-df-convert');\n",
              "        buttonEl.style.display =\n",
              "          google.colab.kernel.accessAllowed ? 'block' : 'none';\n",
              "\n",
              "        async function convertToInteractive(key) {\n",
              "          const element = document.querySelector('#df-4554d361-1bde-44e4-a305-f15a19fec04d');\n",
              "          const dataTable =\n",
              "            await google.colab.kernel.invokeFunction('convertToInteractive',\n",
              "                                                     [key], {});\n",
              "          if (!dataTable) return;\n",
              "\n",
              "          const docLinkHtml = 'Like what you see? Visit the ' +\n",
              "            '<a target=\"_blank\" href=https://colab.research.google.com/notebooks/data_table.ipynb>data table notebook</a>'\n",
              "            + ' to learn more about interactive tables.';\n",
              "          element.innerHTML = '';\n",
              "          dataTable['output_type'] = 'display_data';\n",
              "          await google.colab.output.renderOutput(dataTable, element);\n",
              "          const docLink = document.createElement('div');\n",
              "          docLink.innerHTML = docLinkHtml;\n",
              "          element.appendChild(docLink);\n",
              "        }\n",
              "      </script>\n",
              "    </div>\n",
              "  </div>\n",
              "  "
            ]
          },
          "metadata": {},
          "execution_count": 32
        }
      ],
      "source": [
        "df_temp = df.copy()\n",
        "meanQ=df_temp[\"Q\"].mean()\n",
        "df_temp[\"Q\"]=df_temp[\"Q\"].fillna(meanQ)\n",
        "df_temp.head()"
      ]
    },
    {
      "cell_type": "markdown",
      "id": "66ff60a0-0d43-4593-9ffb-725823fd87ef",
      "metadata": {
        "id": "66ff60a0-0d43-4593-9ffb-725823fd87ef"
      },
      "source": [
        "##### [A] Using `df_temp` replace all the `NaN` values in the `'Q'` column with the *median* of the `'Q'` column."
      ]
    },
    {
      "cell_type": "code",
      "execution_count": 34,
      "id": "c0fc1eb1-4f31-4099-a4fb-2382e010fb18",
      "metadata": {
        "colab": {
          "base_uri": "https://localhost:8080/",
          "height": 206
        },
        "id": "c0fc1eb1-4f31-4099-a4fb-2382e010fb18",
        "outputId": "2455afc0-3a6c-4056-f517-6b5d5a2ef79c"
      },
      "outputs": [
        {
          "output_type": "execute_result",
          "data": {
            "text/plain": [
              "  Examination Date  Gender  Age Mode           Q        M1        DD Diagnosis\n",
              "0       2011-06-10    male   72    d  108.024631  5.058993  1.481877  negative\n",
              "1       2011-02-20    male    9    e  104.087633  6.531724  2.266884  negative\n",
              "2       2011-06-27  female   59    f  102.904315  6.273313  0.396333  positive\n",
              "3       2010-09-22    male   23    g  152.651655  7.333626  0.557534  positive\n",
              "4       2011-07-21  female   17    g   67.239054  3.642516  3.765706  positive"
            ],
            "text/html": [
              "\n",
              "  <div id=\"df-53d17773-559a-42bd-97af-0021d72f01f4\">\n",
              "    <div class=\"colab-df-container\">\n",
              "      <div>\n",
              "<style scoped>\n",
              "    .dataframe tbody tr th:only-of-type {\n",
              "        vertical-align: middle;\n",
              "    }\n",
              "\n",
              "    .dataframe tbody tr th {\n",
              "        vertical-align: top;\n",
              "    }\n",
              "\n",
              "    .dataframe thead th {\n",
              "        text-align: right;\n",
              "    }\n",
              "</style>\n",
              "<table border=\"1\" class=\"dataframe\">\n",
              "  <thead>\n",
              "    <tr style=\"text-align: right;\">\n",
              "      <th></th>\n",
              "      <th>Examination Date</th>\n",
              "      <th>Gender</th>\n",
              "      <th>Age</th>\n",
              "      <th>Mode</th>\n",
              "      <th>Q</th>\n",
              "      <th>M1</th>\n",
              "      <th>DD</th>\n",
              "      <th>Diagnosis</th>\n",
              "    </tr>\n",
              "  </thead>\n",
              "  <tbody>\n",
              "    <tr>\n",
              "      <th>0</th>\n",
              "      <td>2011-06-10</td>\n",
              "      <td>male</td>\n",
              "      <td>72</td>\n",
              "      <td>d</td>\n",
              "      <td>108.024631</td>\n",
              "      <td>5.058993</td>\n",
              "      <td>1.481877</td>\n",
              "      <td>negative</td>\n",
              "    </tr>\n",
              "    <tr>\n",
              "      <th>1</th>\n",
              "      <td>2011-02-20</td>\n",
              "      <td>male</td>\n",
              "      <td>9</td>\n",
              "      <td>e</td>\n",
              "      <td>104.087633</td>\n",
              "      <td>6.531724</td>\n",
              "      <td>2.266884</td>\n",
              "      <td>negative</td>\n",
              "    </tr>\n",
              "    <tr>\n",
              "      <th>2</th>\n",
              "      <td>2011-06-27</td>\n",
              "      <td>female</td>\n",
              "      <td>59</td>\n",
              "      <td>f</td>\n",
              "      <td>102.904315</td>\n",
              "      <td>6.273313</td>\n",
              "      <td>0.396333</td>\n",
              "      <td>positive</td>\n",
              "    </tr>\n",
              "    <tr>\n",
              "      <th>3</th>\n",
              "      <td>2010-09-22</td>\n",
              "      <td>male</td>\n",
              "      <td>23</td>\n",
              "      <td>g</td>\n",
              "      <td>152.651655</td>\n",
              "      <td>7.333626</td>\n",
              "      <td>0.557534</td>\n",
              "      <td>positive</td>\n",
              "    </tr>\n",
              "    <tr>\n",
              "      <th>4</th>\n",
              "      <td>2011-07-21</td>\n",
              "      <td>female</td>\n",
              "      <td>17</td>\n",
              "      <td>g</td>\n",
              "      <td>67.239054</td>\n",
              "      <td>3.642516</td>\n",
              "      <td>3.765706</td>\n",
              "      <td>positive</td>\n",
              "    </tr>\n",
              "  </tbody>\n",
              "</table>\n",
              "</div>\n",
              "      <button class=\"colab-df-convert\" onclick=\"convertToInteractive('df-53d17773-559a-42bd-97af-0021d72f01f4')\"\n",
              "              title=\"Convert this dataframe to an interactive table.\"\n",
              "              style=\"display:none;\">\n",
              "        \n",
              "  <svg xmlns=\"http://www.w3.org/2000/svg\" height=\"24px\"viewBox=\"0 0 24 24\"\n",
              "       width=\"24px\">\n",
              "    <path d=\"M0 0h24v24H0V0z\" fill=\"none\"/>\n",
              "    <path d=\"M18.56 5.44l.94 2.06.94-2.06 2.06-.94-2.06-.94-.94-2.06-.94 2.06-2.06.94zm-11 1L8.5 8.5l.94-2.06 2.06-.94-2.06-.94L8.5 2.5l-.94 2.06-2.06.94zm10 10l.94 2.06.94-2.06 2.06-.94-2.06-.94-.94-2.06-.94 2.06-2.06.94z\"/><path d=\"M17.41 7.96l-1.37-1.37c-.4-.4-.92-.59-1.43-.59-.52 0-1.04.2-1.43.59L10.3 9.45l-7.72 7.72c-.78.78-.78 2.05 0 2.83L4 21.41c.39.39.9.59 1.41.59.51 0 1.02-.2 1.41-.59l7.78-7.78 2.81-2.81c.8-.78.8-2.07 0-2.86zM5.41 20L4 18.59l7.72-7.72 1.47 1.35L5.41 20z\"/>\n",
              "  </svg>\n",
              "      </button>\n",
              "      \n",
              "  <style>\n",
              "    .colab-df-container {\n",
              "      display:flex;\n",
              "      flex-wrap:wrap;\n",
              "      gap: 12px;\n",
              "    }\n",
              "\n",
              "    .colab-df-convert {\n",
              "      background-color: #E8F0FE;\n",
              "      border: none;\n",
              "      border-radius: 50%;\n",
              "      cursor: pointer;\n",
              "      display: none;\n",
              "      fill: #1967D2;\n",
              "      height: 32px;\n",
              "      padding: 0 0 0 0;\n",
              "      width: 32px;\n",
              "    }\n",
              "\n",
              "    .colab-df-convert:hover {\n",
              "      background-color: #E2EBFA;\n",
              "      box-shadow: 0px 1px 2px rgba(60, 64, 67, 0.3), 0px 1px 3px 1px rgba(60, 64, 67, 0.15);\n",
              "      fill: #174EA6;\n",
              "    }\n",
              "\n",
              "    [theme=dark] .colab-df-convert {\n",
              "      background-color: #3B4455;\n",
              "      fill: #D2E3FC;\n",
              "    }\n",
              "\n",
              "    [theme=dark] .colab-df-convert:hover {\n",
              "      background-color: #434B5C;\n",
              "      box-shadow: 0px 1px 3px 1px rgba(0, 0, 0, 0.15);\n",
              "      filter: drop-shadow(0px 1px 2px rgba(0, 0, 0, 0.3));\n",
              "      fill: #FFFFFF;\n",
              "    }\n",
              "  </style>\n",
              "\n",
              "      <script>\n",
              "        const buttonEl =\n",
              "          document.querySelector('#df-53d17773-559a-42bd-97af-0021d72f01f4 button.colab-df-convert');\n",
              "        buttonEl.style.display =\n",
              "          google.colab.kernel.accessAllowed ? 'block' : 'none';\n",
              "\n",
              "        async function convertToInteractive(key) {\n",
              "          const element = document.querySelector('#df-53d17773-559a-42bd-97af-0021d72f01f4');\n",
              "          const dataTable =\n",
              "            await google.colab.kernel.invokeFunction('convertToInteractive',\n",
              "                                                     [key], {});\n",
              "          if (!dataTable) return;\n",
              "\n",
              "          const docLinkHtml = 'Like what you see? Visit the ' +\n",
              "            '<a target=\"_blank\" href=https://colab.research.google.com/notebooks/data_table.ipynb>data table notebook</a>'\n",
              "            + ' to learn more about interactive tables.';\n",
              "          element.innerHTML = '';\n",
              "          dataTable['output_type'] = 'display_data';\n",
              "          await google.colab.output.renderOutput(dataTable, element);\n",
              "          const docLink = document.createElement('div');\n",
              "          docLink.innerHTML = docLinkHtml;\n",
              "          element.appendChild(docLink);\n",
              "        }\n",
              "      </script>\n",
              "    </div>\n",
              "  </div>\n",
              "  "
            ]
          },
          "metadata": {},
          "execution_count": 34
        }
      ],
      "source": [
        "df_temp = df.copy()\n",
        "medianQ=df_temp[\"Q\"].median()\n",
        "df_temp[\"Q\"]=df_temp[\"Q\"].fillna(medianQ)\n",
        "df_temp.head()"
      ]
    },
    {
      "cell_type": "markdown",
      "id": "d0a1490a-948c-4a26-9e9a-10548fd67f0c",
      "metadata": {
        "id": "d0a1490a-948c-4a26-9e9a-10548fd67f0c"
      },
      "source": [
        "##### [A] Using `df_temp` replace all the `NaN` values in the `'Q'` column with the *mode* of the `'Q'` column. \n",
        "> Hint: Replace with the mode is trickier that the two previous methods."
      ]
    },
    {
      "cell_type": "code",
      "execution_count": 49,
      "id": "46f8e08e-7b86-4a44-ab73-8e756c9258d1",
      "metadata": {
        "colab": {
          "base_uri": "https://localhost:8080/",
          "height": 206
        },
        "id": "46f8e08e-7b86-4a44-ab73-8e756c9258d1",
        "outputId": "39d28665-99c9-48ed-9964-70111b369c06"
      },
      "outputs": [
        {
          "output_type": "execute_result",
          "data": {
            "text/plain": [
              "  Examination Date  Gender  Age Mode           Q        M1        DD Diagnosis\n",
              "0       2011-06-10    male   72    d   33.128323  5.058993  1.481877  negative\n",
              "1       2011-02-20    male    9    e  104.087633  6.531724  2.266884  negative\n",
              "2       2011-06-27  female   59    f  102.904315  6.273313  0.396333  positive\n",
              "3       2010-09-22    male   23    g  152.651655  7.333626  0.557534  positive\n",
              "4       2011-07-21  female   17    g   67.239054  3.642516  3.765706  positive"
            ],
            "text/html": [
              "\n",
              "  <div id=\"df-6d653b7f-94ab-48ac-bcb2-0ccab46da6cc\">\n",
              "    <div class=\"colab-df-container\">\n",
              "      <div>\n",
              "<style scoped>\n",
              "    .dataframe tbody tr th:only-of-type {\n",
              "        vertical-align: middle;\n",
              "    }\n",
              "\n",
              "    .dataframe tbody tr th {\n",
              "        vertical-align: top;\n",
              "    }\n",
              "\n",
              "    .dataframe thead th {\n",
              "        text-align: right;\n",
              "    }\n",
              "</style>\n",
              "<table border=\"1\" class=\"dataframe\">\n",
              "  <thead>\n",
              "    <tr style=\"text-align: right;\">\n",
              "      <th></th>\n",
              "      <th>Examination Date</th>\n",
              "      <th>Gender</th>\n",
              "      <th>Age</th>\n",
              "      <th>Mode</th>\n",
              "      <th>Q</th>\n",
              "      <th>M1</th>\n",
              "      <th>DD</th>\n",
              "      <th>Diagnosis</th>\n",
              "    </tr>\n",
              "  </thead>\n",
              "  <tbody>\n",
              "    <tr>\n",
              "      <th>0</th>\n",
              "      <td>2011-06-10</td>\n",
              "      <td>male</td>\n",
              "      <td>72</td>\n",
              "      <td>d</td>\n",
              "      <td>33.128323</td>\n",
              "      <td>5.058993</td>\n",
              "      <td>1.481877</td>\n",
              "      <td>negative</td>\n",
              "    </tr>\n",
              "    <tr>\n",
              "      <th>1</th>\n",
              "      <td>2011-02-20</td>\n",
              "      <td>male</td>\n",
              "      <td>9</td>\n",
              "      <td>e</td>\n",
              "      <td>104.087633</td>\n",
              "      <td>6.531724</td>\n",
              "      <td>2.266884</td>\n",
              "      <td>negative</td>\n",
              "    </tr>\n",
              "    <tr>\n",
              "      <th>2</th>\n",
              "      <td>2011-06-27</td>\n",
              "      <td>female</td>\n",
              "      <td>59</td>\n",
              "      <td>f</td>\n",
              "      <td>102.904315</td>\n",
              "      <td>6.273313</td>\n",
              "      <td>0.396333</td>\n",
              "      <td>positive</td>\n",
              "    </tr>\n",
              "    <tr>\n",
              "      <th>3</th>\n",
              "      <td>2010-09-22</td>\n",
              "      <td>male</td>\n",
              "      <td>23</td>\n",
              "      <td>g</td>\n",
              "      <td>152.651655</td>\n",
              "      <td>7.333626</td>\n",
              "      <td>0.557534</td>\n",
              "      <td>positive</td>\n",
              "    </tr>\n",
              "    <tr>\n",
              "      <th>4</th>\n",
              "      <td>2011-07-21</td>\n",
              "      <td>female</td>\n",
              "      <td>17</td>\n",
              "      <td>g</td>\n",
              "      <td>67.239054</td>\n",
              "      <td>3.642516</td>\n",
              "      <td>3.765706</td>\n",
              "      <td>positive</td>\n",
              "    </tr>\n",
              "  </tbody>\n",
              "</table>\n",
              "</div>\n",
              "      <button class=\"colab-df-convert\" onclick=\"convertToInteractive('df-6d653b7f-94ab-48ac-bcb2-0ccab46da6cc')\"\n",
              "              title=\"Convert this dataframe to an interactive table.\"\n",
              "              style=\"display:none;\">\n",
              "        \n",
              "  <svg xmlns=\"http://www.w3.org/2000/svg\" height=\"24px\"viewBox=\"0 0 24 24\"\n",
              "       width=\"24px\">\n",
              "    <path d=\"M0 0h24v24H0V0z\" fill=\"none\"/>\n",
              "    <path d=\"M18.56 5.44l.94 2.06.94-2.06 2.06-.94-2.06-.94-.94-2.06-.94 2.06-2.06.94zm-11 1L8.5 8.5l.94-2.06 2.06-.94-2.06-.94L8.5 2.5l-.94 2.06-2.06.94zm10 10l.94 2.06.94-2.06 2.06-.94-2.06-.94-.94-2.06-.94 2.06-2.06.94z\"/><path d=\"M17.41 7.96l-1.37-1.37c-.4-.4-.92-.59-1.43-.59-.52 0-1.04.2-1.43.59L10.3 9.45l-7.72 7.72c-.78.78-.78 2.05 0 2.83L4 21.41c.39.39.9.59 1.41.59.51 0 1.02-.2 1.41-.59l7.78-7.78 2.81-2.81c.8-.78.8-2.07 0-2.86zM5.41 20L4 18.59l7.72-7.72 1.47 1.35L5.41 20z\"/>\n",
              "  </svg>\n",
              "      </button>\n",
              "      \n",
              "  <style>\n",
              "    .colab-df-container {\n",
              "      display:flex;\n",
              "      flex-wrap:wrap;\n",
              "      gap: 12px;\n",
              "    }\n",
              "\n",
              "    .colab-df-convert {\n",
              "      background-color: #E8F0FE;\n",
              "      border: none;\n",
              "      border-radius: 50%;\n",
              "      cursor: pointer;\n",
              "      display: none;\n",
              "      fill: #1967D2;\n",
              "      height: 32px;\n",
              "      padding: 0 0 0 0;\n",
              "      width: 32px;\n",
              "    }\n",
              "\n",
              "    .colab-df-convert:hover {\n",
              "      background-color: #E2EBFA;\n",
              "      box-shadow: 0px 1px 2px rgba(60, 64, 67, 0.3), 0px 1px 3px 1px rgba(60, 64, 67, 0.15);\n",
              "      fill: #174EA6;\n",
              "    }\n",
              "\n",
              "    [theme=dark] .colab-df-convert {\n",
              "      background-color: #3B4455;\n",
              "      fill: #D2E3FC;\n",
              "    }\n",
              "\n",
              "    [theme=dark] .colab-df-convert:hover {\n",
              "      background-color: #434B5C;\n",
              "      box-shadow: 0px 1px 3px 1px rgba(0, 0, 0, 0.15);\n",
              "      filter: drop-shadow(0px 1px 2px rgba(0, 0, 0, 0.3));\n",
              "      fill: #FFFFFF;\n",
              "    }\n",
              "  </style>\n",
              "\n",
              "      <script>\n",
              "        const buttonEl =\n",
              "          document.querySelector('#df-6d653b7f-94ab-48ac-bcb2-0ccab46da6cc button.colab-df-convert');\n",
              "        buttonEl.style.display =\n",
              "          google.colab.kernel.accessAllowed ? 'block' : 'none';\n",
              "\n",
              "        async function convertToInteractive(key) {\n",
              "          const element = document.querySelector('#df-6d653b7f-94ab-48ac-bcb2-0ccab46da6cc');\n",
              "          const dataTable =\n",
              "            await google.colab.kernel.invokeFunction('convertToInteractive',\n",
              "                                                     [key], {});\n",
              "          if (!dataTable) return;\n",
              "\n",
              "          const docLinkHtml = 'Like what you see? Visit the ' +\n",
              "            '<a target=\"_blank\" href=https://colab.research.google.com/notebooks/data_table.ipynb>data table notebook</a>'\n",
              "            + ' to learn more about interactive tables.';\n",
              "          element.innerHTML = '';\n",
              "          dataTable['output_type'] = 'display_data';\n",
              "          await google.colab.output.renderOutput(dataTable, element);\n",
              "          const docLink = document.createElement('div');\n",
              "          docLink.innerHTML = docLinkHtml;\n",
              "          element.appendChild(docLink);\n",
              "        }\n",
              "      </script>\n",
              "    </div>\n",
              "  </div>\n",
              "  "
            ]
          },
          "metadata": {},
          "execution_count": 49
        }
      ],
      "source": [
        "df_temp = df.copy()\n",
        "modeQ=df_temp[\"Q\"].mode() #not a single value- dictionary of most--> least repeating unique numbers\n",
        "df_temp[\"Q\"]=df_temp[\"Q\"].fillna(modeQ[0])  #dont forget to always store new values- using mode here will replace with value in index 0 of mode table\n",
        "df_temp.head()\n"
      ]
    },
    {
      "cell_type": "markdown",
      "id": "ab847b3b-2fad-426b-9cd7-0718b0da0dc9",
      "metadata": {
        "id": "ab847b3b-2fad-426b-9cd7-0718b0da0dc9"
      },
      "source": [
        "#### Now, you will be dealing with missing values for the `'Mode'` column. This contains categorical values, which are harder to replace with a logical value, unlike numeric (mean, median, mode). Below are the recommended steps for this:\n",
        "- Replace with the most recurring category (similar to mode).\n",
        "- Create a new category called 'missing' and replace with it that.\n",
        "- Replace with a category depending on another feature (requires further data analysis).\n",
        "- Simply delete the rows with missing values."
      ]
    },
    {
      "cell_type": "markdown",
      "id": "ec36868b-80c4-4b77-9b94-f2fa436e2665",
      "metadata": {
        "id": "ec36868b-80c4-4b77-9b94-f2fa436e2665"
      },
      "source": [
        "Note: For our dataset, instead of containing `NaN`s the `'Mode'` column has `'_'` to indicate missing values."
      ]
    },
    {
      "cell_type": "code",
      "execution_count": 36,
      "id": "df3060d1-4e21-4f1a-9c2b-5b89da9e97de",
      "metadata": {
        "colab": {
          "base_uri": "https://localhost:8080/"
        },
        "id": "df3060d1-4e21-4f1a-9c2b-5b89da9e97de",
        "outputId": "ce25fd7a-980f-4ab5-b255-74175436f389"
      },
      "outputs": [
        {
          "output_type": "execute_result",
          "data": {
            "text/plain": [
              "array(['d', 'e', 'f', 'g', '_', 'h', 'a'], dtype=object)"
            ]
          },
          "metadata": {},
          "execution_count": 36
        }
      ],
      "source": [
        "df_temp = df.copy()\n",
        "df_temp['Mode'].unique()"
      ]
    },
    {
      "cell_type": "code",
      "source": [
        "mode_mode=df_temp[\"Mode\"].mode() #f\n",
        "mode_mode"
      ],
      "metadata": {
        "colab": {
          "base_uri": "https://localhost:8080/"
        },
        "id": "Y1SY8bvQsPxO",
        "outputId": "49a3bbd9-5531-4381-c7a7-bb1d8e3aa2fb"
      },
      "id": "Y1SY8bvQsPxO",
      "execution_count": 39,
      "outputs": [
        {
          "output_type": "execute_result",
          "data": {
            "text/plain": [
              "0    f\n",
              "dtype: object"
            ]
          },
          "metadata": {},
          "execution_count": 39
        }
      ]
    },
    {
      "cell_type": "markdown",
      "id": "51e0bc41-8ec5-4e4f-ba29-153fb2a2bcf2",
      "metadata": {
        "id": "51e0bc41-8ec5-4e4f-ba29-153fb2a2bcf2"
      },
      "source": [
        "##### [A] Using `df_temp`, replace the `'_'` values with the string `'missing'`."
      ]
    },
    {
      "cell_type": "code",
      "execution_count": 44,
      "id": "118d93f6-2a5d-41c9-b086-1393fc41f998",
      "metadata": {
        "id": "118d93f6-2a5d-41c9-b086-1393fc41f998"
      },
      "outputs": [],
      "source": [
        "df_temp = df.copy()\n",
        "df_temp[\"Mode\"]=df_temp[\"Mode\"].replace(to_replace=\"_\",value=\"missing\")\n"
      ]
    },
    {
      "cell_type": "markdown",
      "id": "07f38b52-1051-4666-a919-a2db198e4602",
      "metadata": {
        "id": "07f38b52-1051-4666-a919-a2db198e4602"
      },
      "source": [
        "# Lab Activity Two: Handling Missing Data With Time-Series Specific Methods"
      ]
    },
    {
      "cell_type": "markdown",
      "id": "a821f7ec-83b7-4d7f-869c-91affe307b57",
      "metadata": {
        "id": "a821f7ec-83b7-4d7f-869c-91affe307b57"
      },
      "source": [
        "The three most popular methods for dealing with time-series data are listed below\n",
        "- **Last Observation Carried Forward (LOCF):** Replacing the missing value with the value in the previous cell\n",
        "- **Next Observation Carried Backward (NOCB):** Replacing the missing value with the value in the next cell\n",
        "- **Linear interpolation:** Replacing missing values with estimates from previous values"
      ]
    },
    {
      "cell_type": "markdown",
      "id": "7e366c77-8954-4560-b0ba-85b5db3fdcaf",
      "metadata": {
        "id": "7e366c77-8954-4560-b0ba-85b5db3fdcaf"
      },
      "source": [
        "##### Preparing the data"
      ]
    },
    {
      "cell_type": "code",
      "execution_count": 45,
      "id": "f1855eb5-0573-41a6-bf3f-9e1e9250f29e",
      "metadata": {
        "id": "f1855eb5-0573-41a6-bf3f-9e1e9250f29e"
      },
      "outputs": [],
      "source": [
        "#Loading data\n",
        "df_2 = pd.read_csv('df_2_lab_3.csv')\n",
        "\n",
        "# Dropping unwated column\n",
        "df_2 = df_2.drop(columns=['Unnamed: 0'])\n",
        "\n",
        "# Change datatype of the date column\n",
        "df_2[\"Inspection Date\"] = pd.to_datetime(df_2[\"Inspection Date\"])\n",
        "\n",
        "# Here we are splitting our dataframe into 2, depend on if the site of device in is clinic 1 or 2\n",
        "df_2_1 = df_2[df_2[\"Device Site\"] == 'clinic1'].copy()\n",
        "df_2_2 = df_2[df_2[\"Device Site\"] == 'clinic2'].copy()\n",
        "\n",
        "df_2_1.reset_index(inplace=True, drop=True)\n",
        "df_2_2.reset_index(inplace=True, drop=True)"
      ]
    },
    {
      "cell_type": "code",
      "execution_count": 46,
      "id": "0fd576b1-2ff3-4c64-8779-cb90a894e22f",
      "metadata": {
        "colab": {
          "base_uri": "https://localhost:8080/",
          "height": 206
        },
        "id": "0fd576b1-2ff3-4c64-8779-cb90a894e22f",
        "outputId": "3391a7e8-aaf7-48e7-dd34-cbc829e274ae"
      },
      "outputs": [
        {
          "output_type": "execute_result",
          "data": {
            "text/plain": [
              "  Inspection Date        R1        R3 Device Site\n",
              "0      2010-09-04  0.079601  0.542921     clinic1\n",
              "1      2010-09-27       NaN  9.613118     clinic1\n",
              "2      2010-10-06       NaN  4.298943     clinic1\n",
              "3      2010-10-21  0.877617  9.240019     clinic1\n",
              "4      2010-11-26       NaN  6.659528     clinic1"
            ],
            "text/html": [
              "\n",
              "  <div id=\"df-3a37f54f-54e9-45bc-b4da-93aa807a7e90\">\n",
              "    <div class=\"colab-df-container\">\n",
              "      <div>\n",
              "<style scoped>\n",
              "    .dataframe tbody tr th:only-of-type {\n",
              "        vertical-align: middle;\n",
              "    }\n",
              "\n",
              "    .dataframe tbody tr th {\n",
              "        vertical-align: top;\n",
              "    }\n",
              "\n",
              "    .dataframe thead th {\n",
              "        text-align: right;\n",
              "    }\n",
              "</style>\n",
              "<table border=\"1\" class=\"dataframe\">\n",
              "  <thead>\n",
              "    <tr style=\"text-align: right;\">\n",
              "      <th></th>\n",
              "      <th>Inspection Date</th>\n",
              "      <th>R1</th>\n",
              "      <th>R3</th>\n",
              "      <th>Device Site</th>\n",
              "    </tr>\n",
              "  </thead>\n",
              "  <tbody>\n",
              "    <tr>\n",
              "      <th>0</th>\n",
              "      <td>2010-09-04</td>\n",
              "      <td>0.079601</td>\n",
              "      <td>0.542921</td>\n",
              "      <td>clinic1</td>\n",
              "    </tr>\n",
              "    <tr>\n",
              "      <th>1</th>\n",
              "      <td>2010-09-27</td>\n",
              "      <td>NaN</td>\n",
              "      <td>9.613118</td>\n",
              "      <td>clinic1</td>\n",
              "    </tr>\n",
              "    <tr>\n",
              "      <th>2</th>\n",
              "      <td>2010-10-06</td>\n",
              "      <td>NaN</td>\n",
              "      <td>4.298943</td>\n",
              "      <td>clinic1</td>\n",
              "    </tr>\n",
              "    <tr>\n",
              "      <th>3</th>\n",
              "      <td>2010-10-21</td>\n",
              "      <td>0.877617</td>\n",
              "      <td>9.240019</td>\n",
              "      <td>clinic1</td>\n",
              "    </tr>\n",
              "    <tr>\n",
              "      <th>4</th>\n",
              "      <td>2010-11-26</td>\n",
              "      <td>NaN</td>\n",
              "      <td>6.659528</td>\n",
              "      <td>clinic1</td>\n",
              "    </tr>\n",
              "  </tbody>\n",
              "</table>\n",
              "</div>\n",
              "      <button class=\"colab-df-convert\" onclick=\"convertToInteractive('df-3a37f54f-54e9-45bc-b4da-93aa807a7e90')\"\n",
              "              title=\"Convert this dataframe to an interactive table.\"\n",
              "              style=\"display:none;\">\n",
              "        \n",
              "  <svg xmlns=\"http://www.w3.org/2000/svg\" height=\"24px\"viewBox=\"0 0 24 24\"\n",
              "       width=\"24px\">\n",
              "    <path d=\"M0 0h24v24H0V0z\" fill=\"none\"/>\n",
              "    <path d=\"M18.56 5.44l.94 2.06.94-2.06 2.06-.94-2.06-.94-.94-2.06-.94 2.06-2.06.94zm-11 1L8.5 8.5l.94-2.06 2.06-.94-2.06-.94L8.5 2.5l-.94 2.06-2.06.94zm10 10l.94 2.06.94-2.06 2.06-.94-2.06-.94-.94-2.06-.94 2.06-2.06.94z\"/><path d=\"M17.41 7.96l-1.37-1.37c-.4-.4-.92-.59-1.43-.59-.52 0-1.04.2-1.43.59L10.3 9.45l-7.72 7.72c-.78.78-.78 2.05 0 2.83L4 21.41c.39.39.9.59 1.41.59.51 0 1.02-.2 1.41-.59l7.78-7.78 2.81-2.81c.8-.78.8-2.07 0-2.86zM5.41 20L4 18.59l7.72-7.72 1.47 1.35L5.41 20z\"/>\n",
              "  </svg>\n",
              "      </button>\n",
              "      \n",
              "  <style>\n",
              "    .colab-df-container {\n",
              "      display:flex;\n",
              "      flex-wrap:wrap;\n",
              "      gap: 12px;\n",
              "    }\n",
              "\n",
              "    .colab-df-convert {\n",
              "      background-color: #E8F0FE;\n",
              "      border: none;\n",
              "      border-radius: 50%;\n",
              "      cursor: pointer;\n",
              "      display: none;\n",
              "      fill: #1967D2;\n",
              "      height: 32px;\n",
              "      padding: 0 0 0 0;\n",
              "      width: 32px;\n",
              "    }\n",
              "\n",
              "    .colab-df-convert:hover {\n",
              "      background-color: #E2EBFA;\n",
              "      box-shadow: 0px 1px 2px rgba(60, 64, 67, 0.3), 0px 1px 3px 1px rgba(60, 64, 67, 0.15);\n",
              "      fill: #174EA6;\n",
              "    }\n",
              "\n",
              "    [theme=dark] .colab-df-convert {\n",
              "      background-color: #3B4455;\n",
              "      fill: #D2E3FC;\n",
              "    }\n",
              "\n",
              "    [theme=dark] .colab-df-convert:hover {\n",
              "      background-color: #434B5C;\n",
              "      box-shadow: 0px 1px 3px 1px rgba(0, 0, 0, 0.15);\n",
              "      filter: drop-shadow(0px 1px 2px rgba(0, 0, 0, 0.3));\n",
              "      fill: #FFFFFF;\n",
              "    }\n",
              "  </style>\n",
              "\n",
              "      <script>\n",
              "        const buttonEl =\n",
              "          document.querySelector('#df-3a37f54f-54e9-45bc-b4da-93aa807a7e90 button.colab-df-convert');\n",
              "        buttonEl.style.display =\n",
              "          google.colab.kernel.accessAllowed ? 'block' : 'none';\n",
              "\n",
              "        async function convertToInteractive(key) {\n",
              "          const element = document.querySelector('#df-3a37f54f-54e9-45bc-b4da-93aa807a7e90');\n",
              "          const dataTable =\n",
              "            await google.colab.kernel.invokeFunction('convertToInteractive',\n",
              "                                                     [key], {});\n",
              "          if (!dataTable) return;\n",
              "\n",
              "          const docLinkHtml = 'Like what you see? Visit the ' +\n",
              "            '<a target=\"_blank\" href=https://colab.research.google.com/notebooks/data_table.ipynb>data table notebook</a>'\n",
              "            + ' to learn more about interactive tables.';\n",
              "          element.innerHTML = '';\n",
              "          dataTable['output_type'] = 'display_data';\n",
              "          await google.colab.output.renderOutput(dataTable, element);\n",
              "          const docLink = document.createElement('div');\n",
              "          docLink.innerHTML = docLinkHtml;\n",
              "          element.appendChild(docLink);\n",
              "        }\n",
              "      </script>\n",
              "    </div>\n",
              "  </div>\n",
              "  "
            ]
          },
          "metadata": {},
          "execution_count": 46
        }
      ],
      "source": [
        "df_2_1.head()"
      ]
    },
    {
      "cell_type": "code",
      "execution_count": 47,
      "id": "c9eae506-2307-4361-9dd6-3fc68fa4e4fd",
      "metadata": {
        "colab": {
          "base_uri": "https://localhost:8080/",
          "height": 206
        },
        "id": "c9eae506-2307-4361-9dd6-3fc68fa4e4fd",
        "outputId": "916c4eaf-fb8b-4c9c-c61a-aa5144ce4497"
      },
      "outputs": [
        {
          "output_type": "execute_result",
          "data": {
            "text/plain": [
              "  Inspection Date        R1         R3 Device Site\n",
              "0      2011-01-04  0.927976   5.473454     clinic2\n",
              "1      2011-01-28  0.905114   7.223218     clinic2\n",
              "2      2011-02-04  0.683924   5.047370     clinic2\n",
              "3      2011-02-27  0.622961   1.971804     clinic2\n",
              "4      2011-04-10       NaN  10.822079     clinic2"
            ],
            "text/html": [
              "\n",
              "  <div id=\"df-30f26afd-9457-4ce2-983b-b2d8a807aa28\">\n",
              "    <div class=\"colab-df-container\">\n",
              "      <div>\n",
              "<style scoped>\n",
              "    .dataframe tbody tr th:only-of-type {\n",
              "        vertical-align: middle;\n",
              "    }\n",
              "\n",
              "    .dataframe tbody tr th {\n",
              "        vertical-align: top;\n",
              "    }\n",
              "\n",
              "    .dataframe thead th {\n",
              "        text-align: right;\n",
              "    }\n",
              "</style>\n",
              "<table border=\"1\" class=\"dataframe\">\n",
              "  <thead>\n",
              "    <tr style=\"text-align: right;\">\n",
              "      <th></th>\n",
              "      <th>Inspection Date</th>\n",
              "      <th>R1</th>\n",
              "      <th>R3</th>\n",
              "      <th>Device Site</th>\n",
              "    </tr>\n",
              "  </thead>\n",
              "  <tbody>\n",
              "    <tr>\n",
              "      <th>0</th>\n",
              "      <td>2011-01-04</td>\n",
              "      <td>0.927976</td>\n",
              "      <td>5.473454</td>\n",
              "      <td>clinic2</td>\n",
              "    </tr>\n",
              "    <tr>\n",
              "      <th>1</th>\n",
              "      <td>2011-01-28</td>\n",
              "      <td>0.905114</td>\n",
              "      <td>7.223218</td>\n",
              "      <td>clinic2</td>\n",
              "    </tr>\n",
              "    <tr>\n",
              "      <th>2</th>\n",
              "      <td>2011-02-04</td>\n",
              "      <td>0.683924</td>\n",
              "      <td>5.047370</td>\n",
              "      <td>clinic2</td>\n",
              "    </tr>\n",
              "    <tr>\n",
              "      <th>3</th>\n",
              "      <td>2011-02-27</td>\n",
              "      <td>0.622961</td>\n",
              "      <td>1.971804</td>\n",
              "      <td>clinic2</td>\n",
              "    </tr>\n",
              "    <tr>\n",
              "      <th>4</th>\n",
              "      <td>2011-04-10</td>\n",
              "      <td>NaN</td>\n",
              "      <td>10.822079</td>\n",
              "      <td>clinic2</td>\n",
              "    </tr>\n",
              "  </tbody>\n",
              "</table>\n",
              "</div>\n",
              "      <button class=\"colab-df-convert\" onclick=\"convertToInteractive('df-30f26afd-9457-4ce2-983b-b2d8a807aa28')\"\n",
              "              title=\"Convert this dataframe to an interactive table.\"\n",
              "              style=\"display:none;\">\n",
              "        \n",
              "  <svg xmlns=\"http://www.w3.org/2000/svg\" height=\"24px\"viewBox=\"0 0 24 24\"\n",
              "       width=\"24px\">\n",
              "    <path d=\"M0 0h24v24H0V0z\" fill=\"none\"/>\n",
              "    <path d=\"M18.56 5.44l.94 2.06.94-2.06 2.06-.94-2.06-.94-.94-2.06-.94 2.06-2.06.94zm-11 1L8.5 8.5l.94-2.06 2.06-.94-2.06-.94L8.5 2.5l-.94 2.06-2.06.94zm10 10l.94 2.06.94-2.06 2.06-.94-2.06-.94-.94-2.06-.94 2.06-2.06.94z\"/><path d=\"M17.41 7.96l-1.37-1.37c-.4-.4-.92-.59-1.43-.59-.52 0-1.04.2-1.43.59L10.3 9.45l-7.72 7.72c-.78.78-.78 2.05 0 2.83L4 21.41c.39.39.9.59 1.41.59.51 0 1.02-.2 1.41-.59l7.78-7.78 2.81-2.81c.8-.78.8-2.07 0-2.86zM5.41 20L4 18.59l7.72-7.72 1.47 1.35L5.41 20z\"/>\n",
              "  </svg>\n",
              "      </button>\n",
              "      \n",
              "  <style>\n",
              "    .colab-df-container {\n",
              "      display:flex;\n",
              "      flex-wrap:wrap;\n",
              "      gap: 12px;\n",
              "    }\n",
              "\n",
              "    .colab-df-convert {\n",
              "      background-color: #E8F0FE;\n",
              "      border: none;\n",
              "      border-radius: 50%;\n",
              "      cursor: pointer;\n",
              "      display: none;\n",
              "      fill: #1967D2;\n",
              "      height: 32px;\n",
              "      padding: 0 0 0 0;\n",
              "      width: 32px;\n",
              "    }\n",
              "\n",
              "    .colab-df-convert:hover {\n",
              "      background-color: #E2EBFA;\n",
              "      box-shadow: 0px 1px 2px rgba(60, 64, 67, 0.3), 0px 1px 3px 1px rgba(60, 64, 67, 0.15);\n",
              "      fill: #174EA6;\n",
              "    }\n",
              "\n",
              "    [theme=dark] .colab-df-convert {\n",
              "      background-color: #3B4455;\n",
              "      fill: #D2E3FC;\n",
              "    }\n",
              "\n",
              "    [theme=dark] .colab-df-convert:hover {\n",
              "      background-color: #434B5C;\n",
              "      box-shadow: 0px 1px 3px 1px rgba(0, 0, 0, 0.15);\n",
              "      filter: drop-shadow(0px 1px 2px rgba(0, 0, 0, 0.3));\n",
              "      fill: #FFFFFF;\n",
              "    }\n",
              "  </style>\n",
              "\n",
              "      <script>\n",
              "        const buttonEl =\n",
              "          document.querySelector('#df-30f26afd-9457-4ce2-983b-b2d8a807aa28 button.colab-df-convert');\n",
              "        buttonEl.style.display =\n",
              "          google.colab.kernel.accessAllowed ? 'block' : 'none';\n",
              "\n",
              "        async function convertToInteractive(key) {\n",
              "          const element = document.querySelector('#df-30f26afd-9457-4ce2-983b-b2d8a807aa28');\n",
              "          const dataTable =\n",
              "            await google.colab.kernel.invokeFunction('convertToInteractive',\n",
              "                                                     [key], {});\n",
              "          if (!dataTable) return;\n",
              "\n",
              "          const docLinkHtml = 'Like what you see? Visit the ' +\n",
              "            '<a target=\"_blank\" href=https://colab.research.google.com/notebooks/data_table.ipynb>data table notebook</a>'\n",
              "            + ' to learn more about interactive tables.';\n",
              "          element.innerHTML = '';\n",
              "          dataTable['output_type'] = 'display_data';\n",
              "          await google.colab.output.renderOutput(dataTable, element);\n",
              "          const docLink = document.createElement('div');\n",
              "          docLink.innerHTML = docLinkHtml;\n",
              "          element.appendChild(docLink);\n",
              "        }\n",
              "      </script>\n",
              "    </div>\n",
              "  </div>\n",
              "  "
            ]
          },
          "metadata": {},
          "execution_count": 47
        }
      ],
      "source": [
        "df_2_2.head()"
      ]
    },
    {
      "cell_type": "markdown",
      "id": "5c018f11-e786-4e04-b01f-4b87f92c5c67",
      "metadata": {
        "id": "5c018f11-e786-4e04-b01f-4b87f92c5c67"
      },
      "source": [
        "##### Checking for missing values in the `'R1'` column"
      ]
    },
    {
      "cell_type": "code",
      "execution_count": 48,
      "id": "a7f7ae77-dca0-497a-9f18-10fd6d9a1b48",
      "metadata": {
        "colab": {
          "base_uri": "https://localhost:8080/"
        },
        "id": "a7f7ae77-dca0-497a-9f18-10fd6d9a1b48",
        "outputId": "7e690575-e7dd-40c4-efe8-59477fd5ac33"
      },
      "outputs": [
        {
          "output_type": "stream",
          "name": "stdout",
          "text": [
            "4\n",
            "2\n"
          ]
        }
      ],
      "source": [
        "print(df_2_1[\"R1\"].isnull().sum())\n",
        "print(df_2_2[\"R1\"].isnull().sum())"
      ]
    },
    {
      "cell_type": "markdown",
      "id": "4cc75870-26a0-4bc5-9f48-330fb3bf6139",
      "metadata": {
        "id": "4cc75870-26a0-4bc5-9f48-330fb3bf6139"
      },
      "source": [
        "##### [A] An important first step when using time-series specific methods is to sort the dataset by time (date in our case). Sort both `df_2_1` and `df_2_2` by the `'Inspection Date'` column."
      ]
    },
    {
      "cell_type": "code",
      "execution_count": 65,
      "id": "8cd9b253-6341-4921-a110-e010e190b0f3",
      "metadata": {
        "colab": {
          "base_uri": "https://localhost:8080/"
        },
        "id": "8cd9b253-6341-4921-a110-e010e190b0f3",
        "outputId": "7404cac9-bc0a-4ad2-bcd9-71a64a1f6099"
      },
      "outputs": [
        {
          "output_type": "stream",
          "name": "stdout",
          "text": [
            "Inspection Date    0\n",
            "R1                 4\n",
            "R3                 0\n",
            "Device Site        0\n",
            "dtype: int64\n",
            "Inspection Date    0\n",
            "R1                 2\n",
            "R3                 0\n",
            "Device Site        0\n",
            "dtype: int64\n"
          ]
        }
      ],
      "source": [
        "df_2_1.sort_values(by=\"Inspection Date\", inplace=True)\n",
        "df_2_2.sort_values(by=\"Inspection Date\", inplace=True) #sort before making copies to save work\n",
        "print(df_2_1.isnull().sum())\n",
        "print(df_2_2.isnull().sum())"
      ]
    },
    {
      "cell_type": "markdown",
      "id": "7a6d9df0-e6c6-43b4-8ccc-0736da600cb0",
      "metadata": {
        "id": "7a6d9df0-e6c6-43b4-8ccc-0736da600cb0"
      },
      "source": [
        "#### Last Observation Carried Forward (LOCF)"
      ]
    },
    {
      "cell_type": "markdown",
      "id": "9bca7540-ea6f-4371-97d1-fc9c345cf5cd",
      "metadata": {
        "id": "9bca7540-ea6f-4371-97d1-fc9c345cf5cd"
      },
      "source": [
        "##### [A] using `df_temp`, Use LOCF to fill the `NaN` values of the entire `df_2_1 dataset`."
      ]
    },
    {
      "cell_type": "code",
      "execution_count": 62,
      "id": "7afea71c-246f-4b14-9211-d3a046536664",
      "metadata": {
        "id": "7afea71c-246f-4b14-9211-d3a046536664",
        "colab": {
          "base_uri": "https://localhost:8080/"
        },
        "outputId": "6e5ad192-da8c-4dd4-9bb1-a0895cd066dc"
      },
      "outputs": [
        {
          "output_type": "stream",
          "name": "stdout",
          "text": [
            "Inspection Date    0\n",
            "R1                 0\n",
            "R3                 0\n",
            "Device Site        0\n",
            "dtype: int64\n"
          ]
        }
      ],
      "source": [
        "df_temp = df_2_1.copy()\n",
        "df_temp=df_temp.fillna(method=\"pad\") #ffil\n",
        "print(df_temp.isnull().sum())"
      ]
    },
    {
      "cell_type": "markdown",
      "id": "b32bfc3a-b05d-4b23-8f8f-367471c7e379",
      "metadata": {
        "id": "b32bfc3a-b05d-4b23-8f8f-367471c7e379"
      },
      "source": [
        "#### Next Observation Carried Backward (NOCB)\n",
        "\n"
      ]
    },
    {
      "cell_type": "markdown",
      "id": "026178c2-3a0d-46e4-a87a-c671c8c4f3e1",
      "metadata": {
        "id": "026178c2-3a0d-46e4-a87a-c671c8c4f3e1"
      },
      "source": [
        "##### [A] Using `df_temp`, Use NOCB to fill the `NaN` values of the entire dataset."
      ]
    },
    {
      "cell_type": "code",
      "execution_count": 60,
      "id": "2b69b18d-859f-4267-bedf-ef3495c1ed45",
      "metadata": {
        "id": "2b69b18d-859f-4267-bedf-ef3495c1ed45",
        "colab": {
          "base_uri": "https://localhost:8080/"
        },
        "outputId": "a153da7a-fcc5-4208-eb4a-7974791c0342"
      },
      "outputs": [
        {
          "output_type": "stream",
          "name": "stdout",
          "text": [
            "Inspection Date    0\n",
            "R1                 0\n",
            "R3                 0\n",
            "Device Site        0\n",
            "dtype: int64\n"
          ]
        }
      ],
      "source": [
        "df_temp = df_2_2.copy()\n",
        "df_temp=df_temp.fillna(method=\"backfill\") #bfill\n",
        "print(df_temp.isnull().sum())"
      ]
    },
    {
      "cell_type": "markdown",
      "id": "fd500189-22b1-443b-8120-4f047401d50d",
      "metadata": {
        "id": "fd500189-22b1-443b-8120-4f047401d50d"
      },
      "source": [
        "#### Linear interpolation\n",
        "\n"
      ]
    },
    {
      "cell_type": "markdown",
      "id": "390dbf2f-618c-417a-8e9e-7ba700ae7135",
      "metadata": {
        "id": "390dbf2f-618c-417a-8e9e-7ba700ae7135"
      },
      "source": [
        "##### [A] Using `df_temp`, Use Interpolation to fill the NaN values of the `'R1'` column. \n",
        "> Hint: Set the index of the dataframe to be the inspection column and use the `.interpolate function(method='index)`. Reading documentation of the functions will help you do this. "
      ]
    },
    {
      "cell_type": "code",
      "execution_count": 67,
      "id": "53d00b59-8e63-4563-a484-3d721102527e",
      "metadata": {
        "id": "53d00b59-8e63-4563-a484-3d721102527e",
        "colab": {
          "base_uri": "https://localhost:8080/",
          "height": 255
        },
        "outputId": "66384e04-50fe-48c8-e728-7ed22c8d1d33"
      },
      "outputs": [
        {
          "output_type": "stream",
          "name": "stdout",
          "text": [
            "0\n"
          ]
        },
        {
          "output_type": "execute_result",
          "data": {
            "text/plain": [
              "                       R1        R3 Device Site\n",
              "Inspection Date                                \n",
              "2010-09-04       0.079601  0.542921     clinic1\n",
              "2010-09-27       0.470120  9.613118     clinic1\n",
              "2010-10-06       0.622931  4.298943     clinic1\n",
              "2010-10-21       0.877617  9.240019     clinic1\n",
              "2010-11-26       0.761501  6.659528     clinic1"
            ],
            "text/html": [
              "\n",
              "  <div id=\"df-5449bbb8-53d7-4973-961c-fe1ef84350f5\">\n",
              "    <div class=\"colab-df-container\">\n",
              "      <div>\n",
              "<style scoped>\n",
              "    .dataframe tbody tr th:only-of-type {\n",
              "        vertical-align: middle;\n",
              "    }\n",
              "\n",
              "    .dataframe tbody tr th {\n",
              "        vertical-align: top;\n",
              "    }\n",
              "\n",
              "    .dataframe thead th {\n",
              "        text-align: right;\n",
              "    }\n",
              "</style>\n",
              "<table border=\"1\" class=\"dataframe\">\n",
              "  <thead>\n",
              "    <tr style=\"text-align: right;\">\n",
              "      <th></th>\n",
              "      <th>R1</th>\n",
              "      <th>R3</th>\n",
              "      <th>Device Site</th>\n",
              "    </tr>\n",
              "    <tr>\n",
              "      <th>Inspection Date</th>\n",
              "      <th></th>\n",
              "      <th></th>\n",
              "      <th></th>\n",
              "    </tr>\n",
              "  </thead>\n",
              "  <tbody>\n",
              "    <tr>\n",
              "      <th>2010-09-04</th>\n",
              "      <td>0.079601</td>\n",
              "      <td>0.542921</td>\n",
              "      <td>clinic1</td>\n",
              "    </tr>\n",
              "    <tr>\n",
              "      <th>2010-09-27</th>\n",
              "      <td>0.470120</td>\n",
              "      <td>9.613118</td>\n",
              "      <td>clinic1</td>\n",
              "    </tr>\n",
              "    <tr>\n",
              "      <th>2010-10-06</th>\n",
              "      <td>0.622931</td>\n",
              "      <td>4.298943</td>\n",
              "      <td>clinic1</td>\n",
              "    </tr>\n",
              "    <tr>\n",
              "      <th>2010-10-21</th>\n",
              "      <td>0.877617</td>\n",
              "      <td>9.240019</td>\n",
              "      <td>clinic1</td>\n",
              "    </tr>\n",
              "    <tr>\n",
              "      <th>2010-11-26</th>\n",
              "      <td>0.761501</td>\n",
              "      <td>6.659528</td>\n",
              "      <td>clinic1</td>\n",
              "    </tr>\n",
              "  </tbody>\n",
              "</table>\n",
              "</div>\n",
              "      <button class=\"colab-df-convert\" onclick=\"convertToInteractive('df-5449bbb8-53d7-4973-961c-fe1ef84350f5')\"\n",
              "              title=\"Convert this dataframe to an interactive table.\"\n",
              "              style=\"display:none;\">\n",
              "        \n",
              "  <svg xmlns=\"http://www.w3.org/2000/svg\" height=\"24px\"viewBox=\"0 0 24 24\"\n",
              "       width=\"24px\">\n",
              "    <path d=\"M0 0h24v24H0V0z\" fill=\"none\"/>\n",
              "    <path d=\"M18.56 5.44l.94 2.06.94-2.06 2.06-.94-2.06-.94-.94-2.06-.94 2.06-2.06.94zm-11 1L8.5 8.5l.94-2.06 2.06-.94-2.06-.94L8.5 2.5l-.94 2.06-2.06.94zm10 10l.94 2.06.94-2.06 2.06-.94-2.06-.94-.94-2.06-.94 2.06-2.06.94z\"/><path d=\"M17.41 7.96l-1.37-1.37c-.4-.4-.92-.59-1.43-.59-.52 0-1.04.2-1.43.59L10.3 9.45l-7.72 7.72c-.78.78-.78 2.05 0 2.83L4 21.41c.39.39.9.59 1.41.59.51 0 1.02-.2 1.41-.59l7.78-7.78 2.81-2.81c.8-.78.8-2.07 0-2.86zM5.41 20L4 18.59l7.72-7.72 1.47 1.35L5.41 20z\"/>\n",
              "  </svg>\n",
              "      </button>\n",
              "      \n",
              "  <style>\n",
              "    .colab-df-container {\n",
              "      display:flex;\n",
              "      flex-wrap:wrap;\n",
              "      gap: 12px;\n",
              "    }\n",
              "\n",
              "    .colab-df-convert {\n",
              "      background-color: #E8F0FE;\n",
              "      border: none;\n",
              "      border-radius: 50%;\n",
              "      cursor: pointer;\n",
              "      display: none;\n",
              "      fill: #1967D2;\n",
              "      height: 32px;\n",
              "      padding: 0 0 0 0;\n",
              "      width: 32px;\n",
              "    }\n",
              "\n",
              "    .colab-df-convert:hover {\n",
              "      background-color: #E2EBFA;\n",
              "      box-shadow: 0px 1px 2px rgba(60, 64, 67, 0.3), 0px 1px 3px 1px rgba(60, 64, 67, 0.15);\n",
              "      fill: #174EA6;\n",
              "    }\n",
              "\n",
              "    [theme=dark] .colab-df-convert {\n",
              "      background-color: #3B4455;\n",
              "      fill: #D2E3FC;\n",
              "    }\n",
              "\n",
              "    [theme=dark] .colab-df-convert:hover {\n",
              "      background-color: #434B5C;\n",
              "      box-shadow: 0px 1px 3px 1px rgba(0, 0, 0, 0.15);\n",
              "      filter: drop-shadow(0px 1px 2px rgba(0, 0, 0, 0.3));\n",
              "      fill: #FFFFFF;\n",
              "    }\n",
              "  </style>\n",
              "\n",
              "      <script>\n",
              "        const buttonEl =\n",
              "          document.querySelector('#df-5449bbb8-53d7-4973-961c-fe1ef84350f5 button.colab-df-convert');\n",
              "        buttonEl.style.display =\n",
              "          google.colab.kernel.accessAllowed ? 'block' : 'none';\n",
              "\n",
              "        async function convertToInteractive(key) {\n",
              "          const element = document.querySelector('#df-5449bbb8-53d7-4973-961c-fe1ef84350f5');\n",
              "          const dataTable =\n",
              "            await google.colab.kernel.invokeFunction('convertToInteractive',\n",
              "                                                     [key], {});\n",
              "          if (!dataTable) return;\n",
              "\n",
              "          const docLinkHtml = 'Like what you see? Visit the ' +\n",
              "            '<a target=\"_blank\" href=https://colab.research.google.com/notebooks/data_table.ipynb>data table notebook</a>'\n",
              "            + ' to learn more about interactive tables.';\n",
              "          element.innerHTML = '';\n",
              "          dataTable['output_type'] = 'display_data';\n",
              "          await google.colab.output.renderOutput(dataTable, element);\n",
              "          const docLink = document.createElement('div');\n",
              "          docLink.innerHTML = docLinkHtml;\n",
              "          element.appendChild(docLink);\n",
              "        }\n",
              "      </script>\n",
              "    </div>\n",
              "  </div>\n",
              "  "
            ]
          },
          "metadata": {},
          "execution_count": 67
        }
      ],
      "source": [
        "df_temp = df_2_1.copy()\n",
        "df_temp=df_temp.set_index(\"Inspection Date\") #to use another col for index- need to set index for df\n",
        "df_temp[\"R1\"]=df_temp[\"R1\"].interpolate(method=\"index\") \n",
        "print(df_temp[\"R1\"].isnull().sum())\n",
        "df_temp.head()"
      ]
    },
    {
      "cell_type": "code",
      "execution_count": null,
      "id": "08b173d5-0f3e-45cb-bafa-295069f0e0b6",
      "metadata": {
        "id": "08b173d5-0f3e-45cb-bafa-295069f0e0b6"
      },
      "outputs": [],
      "source": []
    },
    {
      "cell_type": "code",
      "execution_count": null,
      "id": "7b0503af-d308-4880-a196-8b56dc88dd72",
      "metadata": {
        "id": "7b0503af-d308-4880-a196-8b56dc88dd72"
      },
      "outputs": [],
      "source": []
    }
  ],
  "metadata": {
    "kernelspec": {
      "display_name": "Python 3 (ipykernel)",
      "language": "python",
      "name": "python3"
    },
    "language_info": {
      "codemirror_mode": {
        "name": "ipython",
        "version": 3
      },
      "file_extension": ".py",
      "mimetype": "text/x-python",
      "name": "python",
      "nbconvert_exporter": "python",
      "pygments_lexer": "ipython3",
      "version": "3.9.7"
    },
    "colab": {
      "provenance": [],
      "collapsed_sections": [],
      "include_colab_link": true
    }
  },
  "nbformat": 4,
  "nbformat_minor": 5
}